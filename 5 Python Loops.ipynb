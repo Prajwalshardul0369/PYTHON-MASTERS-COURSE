{
 "cells": [
  {
   "cell_type": "markdown",
   "id": "55101a64-3f02-42fe-884d-0ee541a70bdc",
   "metadata": {},
   "source": [
    "## Python Loops"
   ]
  },
  {
   "cell_type": "markdown",
   "id": "94bf0b01-75b0-4e99-877c-5a2b44e5c720",
   "metadata": {},
   "source": [
    "Python has two primitive loop commands:"
   ]
  },
  {
   "cell_type": "markdown",
   "id": "bf61f6ec-1a6d-4e28-a568-82e744d22726",
   "metadata": {},
   "source": [
    "- for loops\r",
    "- \n",
    "while loops"
   ]
  },
  {
   "cell_type": "markdown",
   "id": "7266cdf9-1882-45da-b564-1028b929b33f",
   "metadata": {},
   "source": [
    "### For Loop"
   ]
  },
  {
   "cell_type": "markdown",
   "id": "0a5128d6-5967-4c71-bc96-c52cd53c29c3",
   "metadata": {},
   "source": [
    "A for loop is used for iterating over a sequence (that is either a list, a tuple, a dictionary, a set, or a string)."
   ]
  },
  {
   "cell_type": "code",
   "execution_count": 1,
   "id": "fe9fafd2-24da-4d12-9379-483823bd9146",
   "metadata": {},
   "outputs": [
    {
     "name": "stdout",
     "output_type": "stream",
     "text": [
      "Printing 10\n",
      "Printing 20\n",
      "Printing bhai padle \n",
      "Printing 40\n",
      "Printing 50\n"
     ]
    }
   ],
   "source": [
    "L=[10,20,\"bhai padle \",40,50]\n",
    "for i in L:\n",
    "    print(\"Printing\",i)"
   ]
  },
  {
   "cell_type": "markdown",
   "id": "9b1aa70e-681b-46ae-998f-58b8d4b01744",
   "metadata": {},
   "source": [
    "### The range() Function"
   ]
  },
  {
   "cell_type": "markdown",
   "id": "96061a23-afe4-4239-a808-db99070671bb",
   "metadata": {},
   "source": [
    "To loop through a set of code a specified number of times, we can use the range() functionm"
   ]
  },
  {
   "cell_type": "code",
   "execution_count": 15,
   "id": "747408ca-499e-4e93-8db9-ba62a55d74ae",
   "metadata": {},
   "outputs": [
    {
     "name": "stdout",
     "output_type": "stream",
     "text": [
      "0 1 2 3 4 5 6 7 8 9 "
     ]
    }
   ],
   "source": [
    "L=list(range(10))\n",
    "for i in L:\n",
    "    print(i,end=' ')   "
   ]
  },
  {
   "cell_type": "code",
   "execution_count": 16,
   "id": "d55ae48a-a75f-4b71-af85-e62b35173b73",
   "metadata": {},
   "outputs": [
    {
     "name": "stdout",
     "output_type": "stream",
     "text": [
      "0 1 2 3 4 5 6 7 8 9 "
     ]
    }
   ],
   "source": [
    "L=list(range(10))\n",
    "for i in L:\n",
    "    print(i,end=' ')   "
   ]
  },
  {
   "cell_type": "code",
   "execution_count": 17,
   "id": "fe061d96-4709-4c9d-8291-7b76fbf1ed4e",
   "metadata": {},
   "outputs": [
    {
     "name": "stdout",
     "output_type": "stream",
     "text": [
      "1 2 3 4 5 6 7 8 9 "
     ]
    }
   ],
   "source": [
    "for i in range(1,10):\n",
    "    print(i,end=' ')"
   ]
  },
  {
   "cell_type": "code",
   "execution_count": 18,
   "id": "2bb559b4-a635-4c04-ade4-8815e70c103f",
   "metadata": {},
   "outputs": [
    {
     "name": "stdout",
     "output_type": "stream",
     "text": [
      "1 2 3 4 5 6 7 8 9 "
     ]
    }
   ],
   "source": [
    "for i in range(1,10,1):\n",
    "    print(i,end=' ')"
   ]
  },
  {
   "cell_type": "code",
   "execution_count": 19,
   "id": "5853611d-db1f-4796-8cb4-268a446cca36",
   "metadata": {},
   "outputs": [
    {
     "name": "stdout",
     "output_type": "stream",
     "text": [
      "1 3 5 7 9 "
     ]
    }
   ],
   "source": [
    "for i in range(1,10,2):\n",
    "    print(i,end=' ')"
   ]
  },
  {
   "cell_type": "code",
   "execution_count": 20,
   "id": "673f8b87-b8e4-46b3-8595-87ddb08e68d8",
   "metadata": {},
   "outputs": [
    {
     "name": "stdout",
     "output_type": "stream",
     "text": [
      "https://github.com/Prajwalshardul0369/Prajwalshardul0369\n",
      "https://github.com/Prajwalshardul0369/Prajwalshardul0369\n",
      "https://github.com/Prajwalshardul0369/Prajwalshardul0369\n",
      "https://github.com/Prajwalshardul0369/Prajwalshardul0369\n",
      "https://github.com/Prajwalshardul0369/Prajwalshardul0369\n"
     ]
    }
   ],
   "source": [
    "for i in range(5):\n",
    "    print(\"https://github.com/Prajwalshardul0369/Prajwalshardul0369\")"
   ]
  },
  {
   "cell_type": "markdown",
   "id": "cc40ce93-d699-4f3a-a366-6017ca08a5ea",
   "metadata": {},
   "source": [
    "### For Loop Control Statementm"
   ]
  },
  {
   "cell_type": "code",
   "execution_count": 21,
   "id": "bb92adc6-a2f1-4dbb-9c40-14e061aff2f1",
   "metadata": {},
   "outputs": [
    {
     "name": "stdout",
     "output_type": "stream",
     "text": [
      "3 6 9 "
     ]
    }
   ],
   "source": [
    "for i in range(1,10):\n",
    "    if i%3==0:\n",
    "        print(i,end=' ')"
   ]
  },
  {
   "cell_type": "markdown",
   "id": "d975b1b5-b10e-461a-9229-cd3fd3d9aa60",
   "metadata": {},
   "source": [
    "### Looping Through a String"
   ]
  },
  {
   "cell_type": "markdown",
   "id": "6640328e-11d7-4265-b6ec-ee49714eed76",
   "metadata": {},
   "source": [
    "Even strings are iterable objects, they contain a sequence of characters:"
   ]
  },
  {
   "cell_type": "code",
   "execution_count": 24,
   "id": "13ba6b5c-82b5-496a-a2e0-9501f5bc245c",
   "metadata": {},
   "outputs": [
    {
     "name": "stdout",
     "output_type": "stream",
     "text": [
      "*\n",
      " \n",
      "P\n",
      " \n",
      "R\n",
      " \n",
      "A\n",
      " \n",
      "J\n",
      " \n",
      "W\n",
      " \n",
      "A\n",
      " \n",
      "L\n",
      " \n",
      "*\n",
      " \n"
     ]
    }
   ],
   "source": [
    "for x in \"* P R A J W A L * \":\n",
    "    print(x)"
   ]
  },
  {
   "cell_type": "markdown",
   "id": "1ebfc872-7cc7-466b-8e84-6c051be42ef5",
   "metadata": {},
   "source": [
    "### For Loop with break Statement"
   ]
  },
  {
   "cell_type": "markdown",
   "id": "251c0f9c-c534-4805-8b0f-ef379d67ff06",
   "metadata": {},
   "source": [
    "With the break statement we can stop the loop before it has looped through all the items:"
   ]
  },
  {
   "cell_type": "code",
   "execution_count": 25,
   "id": "21923142-9737-43cf-bdb7-4f49f00290f1",
   "metadata": {},
   "outputs": [
    {
     "name": "stdout",
     "output_type": "stream",
     "text": [
      "1 2 3 4 "
     ]
    }
   ],
   "source": [
    "for i in range(1,10):\n",
    "    if i==5:\n",
    "        break\n",
    "    print(i,end=' ')"
   ]
  },
  {
   "cell_type": "markdown",
   "id": "8ab428e3-2efc-4a5c-ad5a-6f628ad28def",
   "metadata": {},
   "source": [
    "### For Loop with Continue Statement"
   ]
  },
  {
   "cell_type": "markdown",
   "id": "335e75b0-dbec-4ee1-9dbe-3820eb251873",
   "metadata": {},
   "source": [
    "With the continue statement we can stop the current iteration of the loop, and continue with the next:"
   ]
  },
  {
   "cell_type": "code",
   "execution_count": 26,
   "id": "5c3d7a05-8fa6-4fe2-95a6-6df15effe3b6",
   "metadata": {},
   "outputs": [
    {
     "name": "stdout",
     "output_type": "stream",
     "text": [
      "1 2 3 4 6 7 8 9 "
     ]
    }
   ],
   "source": [
    "for i in range(1,10):\n",
    "    if i==5:\n",
    "        continue\n",
    "    print(i,end=' ')"
   ]
  },
  {
   "cell_type": "markdown",
   "id": "a6792e5b-4a65-430e-b536-72c3746cb9bc",
   "metadata": {},
   "source": [
    "### Else in For Loop"
   ]
  },
  {
   "cell_type": "markdown",
   "id": "69f5a61e-b0dc-4bd2-8f3c-f1ff81f22741",
   "metadata": {},
   "source": [
    "The else keyword in a for loop specifies a block of code to be executed when the loop is finished:"
   ]
  },
  {
   "cell_type": "code",
   "execution_count": 27,
   "id": "60803184-04b7-45f5-bc07-0a037c45fabd",
   "metadata": {},
   "outputs": [
    {
     "name": "stdout",
     "output_type": "stream",
     "text": [
      "0\n",
      "1\n",
      "2\n",
      "3\n",
      "4\n",
      "5\n",
      "Finally finished!\n"
     ]
    }
   ],
   "source": [
    "for x in range(6):\n",
    "    print(x)\n",
    "else:\n",
    "    print(\"Finally finished!\")"
   ]
  },
  {
   "cell_type": "markdown",
   "id": "8a01b607-18f7-4672-a32a-414a73aabb76",
   "metadata": {},
   "source": [
    "### Nested For Loop"
   ]
  },
  {
   "cell_type": "markdown",
   "id": "6e62b6f3-cc6a-46d7-a532-ce752e63f5d4",
   "metadata": {},
   "source": [
    "A nested loop is a loop inside a loop.\n",
    "The \"inner loop\" will be executed one time for each iteration of the \"outer loop\":"
   ]
  },
  {
   "cell_type": "code",
   "execution_count": 28,
   "id": "d98e3549-19aa-4e46-b28c-7eda9410e964",
   "metadata": {},
   "outputs": [
    {
     "name": "stdout",
     "output_type": "stream",
     "text": [
      "Red Apple\n",
      "Red Watermelon\n",
      "Red Mango\n",
      "Big Apple\n",
      "Big Watermelon\n",
      "Big Mango\n",
      "Tasty Apple\n",
      "Tasty Watermelon\n",
      "Tasty Mango\n"
     ]
    }
   ],
   "source": [
    "adj = [\"Red\", \"Big\", \"Tasty\"]\n",
    "fruits = [\"Apple\", \"Watermelon\", \"Mango\"]\n",
    "\n",
    "for x in adj:\n",
    "    for y in fruits:\n",
    "        print(x, y)"
   ]
  },
  {
   "cell_type": "markdown",
   "id": "57e953b5-3023-4271-9d56-a649a42e75ec",
   "metadata": {},
   "source": [
    "### The while Loop"
   ]
  },
  {
   "cell_type": "markdown",
   "id": "5ec650a1-0c05-4305-a24d-7fafb988ee41",
   "metadata": {},
   "source": [
    "With the while loop we can execute a set of statements as long as a condition is true."
   ]
  },
  {
   "cell_type": "code",
   "execution_count": 31,
   "id": "895a282f-f502-46df-826c-2c104611de91",
   "metadata": {},
   "outputs": [
    {
     "name": "stdout",
     "output_type": "stream",
     "text": [
      "https://github.com/Prajwalshardul0369/Prajwalshardul0369\n",
      "https://github.com/Prajwalshardul0369/Prajwalshardul0369\n",
      "https://github.com/Prajwalshardul0369/Prajwalshardul0369\n"
     ]
    }
   ],
   "source": [
    "i=1\n",
    "while(i<=3):\n",
    "    print(\"https://github.com/Prajwalshardul0369/Prajwalshardul0369\")\n",
    "    i=i+1"
   ]
  },
  {
   "cell_type": "code",
   "execution_count": 32,
   "id": "27b7d2cd-45aa-4553-b8ac-8de9e8dbd44e",
   "metadata": {},
   "outputs": [
    {
     "name": "stdout",
     "output_type": "stream",
     "text": [
      "1 2 3 4 5 6 7 8 9 10 "
     ]
    }
   ],
   "source": [
    "i = 1\n",
    "while i <= 10:\n",
    "    print(i,end=' ')\n",
    "    i += 1"
   ]
  },
  {
   "cell_type": "markdown",
   "id": "97b5bf18-498d-47e2-8ecb-5d8f0ecb478d",
   "metadata": {},
   "source": [
    "### The break Statement"
   ]
  },
  {
   "cell_type": "markdown",
   "id": "8b8c01fe-bcb7-4fb4-ac30-bcc7be6c1bf5",
   "metadata": {},
   "source": [
    "With the break statement we can stop the loop even if the while condition is true:"
   ]
  },
  {
   "cell_type": "code",
   "execution_count": 33,
   "id": "5e75bca2-9e77-4a80-b20c-e0ee14c75148",
   "metadata": {},
   "outputs": [
    {
     "name": "stdout",
     "output_type": "stream",
     "text": [
      "1\n",
      "2\n",
      "3\n"
     ]
    }
   ],
   "source": [
    "i = 1\n",
    "while i <= 10:\n",
    "    if i==4:\n",
    "        break\n",
    "    print(i)\n",
    "    i += 1"
   ]
  },
  {
   "cell_type": "markdown",
   "id": "64ea87ee-9712-470f-98ce-ea6470a5eca6",
   "metadata": {},
   "source": [
    "### The continue Statement"
   ]
  },
  {
   "cell_type": "markdown",
   "id": "2eba109e-57d5-42d7-9f7f-4056acf52a12",
   "metadata": {},
   "source": [
    "With the continue statement we can stop the current iteration, and continue with the next:\n",
    "\n"
   ]
  },
  {
   "cell_type": "code",
   "execution_count": 34,
   "id": "a0daa615-e2f9-4a24-8357-e6a698e91b5a",
   "metadata": {},
   "outputs": [
    {
     "name": "stdout",
     "output_type": "stream",
     "text": [
      "1\n",
      "2\n",
      "3\n",
      "5\n",
      "6\n",
      "7\n"
     ]
    }
   ],
   "source": [
    "i = 0\n",
    "while i <= 6:\n",
    "    i += 1\n",
    "    if i==4:\n",
    "        continue\n",
    "    print(i) "
   ]
  },
  {
   "cell_type": "code",
   "execution_count": null,
   "id": "7b8db14d-643c-4057-98e7-dbcd42c0481e",
   "metadata": {},
   "outputs": [],
   "source": [
    "### The else Statement"
   ]
  }
 ],
 "metadata": {
  "kernelspec": {
   "display_name": "Python 3 (ipykernel)",
   "language": "python",
   "name": "python3"
  },
  "language_info": {
   "codemirror_mode": {
    "name": "ipython",
    "version": 3
   },
   "file_extension": ".py",
   "mimetype": "text/x-python",
   "name": "python",
   "nbconvert_exporter": "python",
   "pygments_lexer": "ipython3",
   "version": "3.12.0"
  }
 },
 "nbformat": 4,
 "nbformat_minor": 5
}

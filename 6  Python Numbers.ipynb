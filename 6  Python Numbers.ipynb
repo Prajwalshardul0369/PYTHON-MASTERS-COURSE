{
 "cells": [
  {
   "cell_type": "markdown",
   "id": "8812f4fd-f8ca-4f67-a975-b30925af8274",
   "metadata": {},
   "source": [
    "## Python Numbers"
   ]
  },
  {
   "cell_type": "markdown",
   "id": "ce1999f9-322f-41f5-9908-c12b78b1a615",
   "metadata": {},
   "source": [
    "Number data types store numeric values. They are immutable data types, means that changing the value of a number data type results in a newly allocated object."
   ]
  },
  {
   "cell_type": "markdown",
   "id": "f4d4aaa5-9f1e-4f88-904b-c40b6ccc17e2",
   "metadata": {},
   "source": [
    "### Python supports four different numerical types "
   ]
  },
  {
   "cell_type": "markdown",
   "id": "0d4b174d-323b-457e-8d2c-93e4cca2773e",
   "metadata": {},
   "source": [
    "1. int\n",
    "2. long\n",
    "3. float\n",
    "4. complex"
   ]
  },
  {
   "cell_type": "code",
   "execution_count": 1,
   "id": "29699b1c-7abf-4832-a75e-6195f758d3e3",
   "metadata": {},
   "outputs": [],
   "source": [
    "x = 10    # int\n",
    "y = 3.28  # float\n",
    "z = 1j   # complex"
   ]
  },
  {
   "cell_type": "code",
   "execution_count": 2,
   "id": "94a77f44-0a88-423b-b361-9780d9f84d65",
   "metadata": {},
   "outputs": [
    {
     "name": "stdout",
     "output_type": "stream",
     "text": [
      "<class 'int'>\n",
      "<class 'float'>\n",
      "<class 'complex'>\n"
     ]
    }
   ],
   "source": [
    "print(type(x))\n",
    "print(type(y))\n",
    "print(type(z))"
   ]
  },
  {
   "cell_type": "markdown",
   "id": "ff7a65bb-6eaa-46d6-a45f-c4a88334c4a3",
   "metadata": {},
   "source": [
    "### Integer Numbers"
   ]
  },
  {
   "cell_type": "markdown",
   "id": "80a7b515-3c6a-49f9-91b8-c6f4de004472",
   "metadata": {},
   "source": [
    "Int, or integer, is a whole number, positive or negative, without decimals, of unlimited length."
   ]
  },
  {
   "cell_type": "code",
   "execution_count": 4,
   "id": "d859d697-9472-4a53-a032-d5d95b175d42",
   "metadata": {},
   "outputs": [
    {
     "name": "stdout",
     "output_type": "stream",
     "text": [
      "<class 'int'>\n",
      "<class 'int'>\n",
      "<class 'int'>\n"
     ]
    }
   ],
   "source": [
    "x = 10\n",
    "y = 8080171242\n",
    "z = -8080171242\n",
    "\n",
    "print(type(x))\n",
    "print(type(y))\n",
    "print(type(z))"
   ]
  },
  {
   "cell_type": "markdown",
   "id": "fd748645-f50c-4312-acc6-b148b67e3050",
   "metadata": {},
   "source": [
    "### Float Numbers"
   ]
  },
  {
   "cell_type": "markdown",
   "id": "93198df9-dea3-4cf5-a319-285ce0638e8b",
   "metadata": {},
   "source": [
    "Float, or \"floating point number\" is a number, positive or negative, containing one or more decimals"
   ]
  },
  {
   "cell_type": "code",
   "execution_count": 5,
   "id": "c3a0f1bf-e3fb-4663-8aae-e03024bc6d52",
   "metadata": {},
   "outputs": [
    {
     "name": "stdout",
     "output_type": "stream",
     "text": [
      "<class 'float'>\n",
      "<class 'float'>\n",
      "<class 'float'>\n"
     ]
    }
   ],
   "source": [
    "x = 7.10\n",
    "y = 7.0\n",
    "z = -35.59\n",
    "\n",
    "print(type(x))\n",
    "print(type(y))\n",
    "print(type(z))"
   ]
  },
  {
   "cell_type": "markdown",
   "id": "f1726f84-3a67-40c9-9073-96ab6c710306",
   "metadata": {},
   "source": [
    "Float can also be scientific numbers with an \"e\" to indicate the power of 10."
   ]
  },
  {
   "cell_type": "code",
   "execution_count": 6,
   "id": "94cc2fb7-3a27-4eef-8a1e-326224defaf7",
   "metadata": {},
   "outputs": [
    {
     "name": "stdout",
     "output_type": "stream",
     "text": [
      "<class 'float'>\n",
      "<class 'float'>\n",
      "<class 'float'>\n"
     ]
    }
   ],
   "source": [
    "x = 35e31\n",
    "y = 12E5\n",
    "z = -97.7e100\n",
    "\n",
    "print(type(x))\n",
    "print(type(y))\n",
    "print(type(z))"
   ]
  },
  {
   "cell_type": "markdown",
   "id": "33a2e7d7-4887-4e44-ba9d-b83fe5c153b0",
   "metadata": {},
   "source": [
    "### Complex Numbers"
   ]
  },
  {
   "cell_type": "code",
   "execution_count": 7,
   "id": "6daa68da-21fc-4902-983d-5950df9d2445",
   "metadata": {},
   "outputs": [
    {
     "name": "stdout",
     "output_type": "stream",
     "text": [
      "<class 'complex'>\n",
      "<class 'complex'>\n",
      "<class 'complex'>\n"
     ]
    }
   ],
   "source": [
    "x = 3+5j\n",
    "y = 5j\n",
    "z = -5j\n",
    "\n",
    "print(type(x))\n",
    "print(type(y))\n",
    "print(type(z))"
   ]
  },
  {
   "cell_type": "markdown",
   "id": "2684c723-0e3e-4549-b675-ae5dd2ed5ae1",
   "metadata": {},
   "source": [
    "### Type Conversion¶"
   ]
  },
  {
   "cell_type": "markdown",
   "id": "be39724f-8036-427f-b8fc-b95f4339624f",
   "metadata": {},
   "source": [
    "You can convert from one type to another with the int(), float(), and complex() methods"
   ]
  },
  {
   "cell_type": "code",
   "execution_count": 9,
   "id": "04456ee5-def6-4574-ba8b-b782d29161fc",
   "metadata": {},
   "outputs": [
    {
     "name": "stdout",
     "output_type": "stream",
     "text": [
      "12.0\n",
      "3\n",
      "(12+0j)\n",
      "<class 'float'>\n",
      "<class 'int'>\n",
      "<class 'complex'>\n"
     ]
    }
   ],
   "source": [
    "x = 12   # int\n",
    "y = 3.14  # float\n",
    "z = 5j   # complex\n",
    "\n",
    "#convert from int to float:\n",
    "a = float(x)\n",
    "\n",
    "#convert from float to int:\n",
    "b = int(y)\n",
    "\n",
    "#convert from int to complex:\n",
    "c = complex(x)\n",
    "\n",
    "print(a)\n",
    "print(b)\n",
    "print(c)\n",
    "\n",
    "print(type(a))\n",
    "print(type(b))\n",
    "print(type(c))"
   ]
  },
  {
   "cell_type": "markdown",
   "id": "9308aec1-c381-45bb-9f56-f98a908d4165",
   "metadata": {},
   "source": [
    "### Max and Min Number"
   ]
  },
  {
   "cell_type": "code",
   "execution_count": 10,
   "id": "9d8506d2-0b92-4b3b-9ded-9d39d99395f2",
   "metadata": {},
   "outputs": [
    {
     "data": {
      "text/plain": [
       "330"
      ]
     },
     "execution_count": 10,
     "metadata": {},
     "output_type": "execute_result"
    }
   ],
   "source": [
    "max(120,220,330,)"
   ]
  },
  {
   "cell_type": "code",
   "execution_count": 11,
   "id": "4f1aab4e-0cef-4abe-b786-e6f552caad68",
   "metadata": {},
   "outputs": [
    {
     "data": {
      "text/plain": [
       "120"
      ]
     },
     "execution_count": 11,
     "metadata": {},
     "output_type": "execute_result"
    }
   ],
   "source": [
    "min(120,220,330,)"
   ]
  },
  {
   "cell_type": "markdown",
   "id": "7a94791b-3080-40d2-af3a-df420f1bafb5",
   "metadata": {},
   "source": [
    "### Random Numbers in Python"
   ]
  },
  {
   "cell_type": "markdown",
   "id": "f2f566be-9100-4b29-811b-1962d0b1c806",
   "metadata": {},
   "source": [
    "Python defines a set of functions that are used to generate or manipulate random numbers. This particular type of functions are used in a lot of games, lotteries, OTP - (One Time Password), 2 Factor Authentication, Securtiy Lock or any application requiring random number generation"
   ]
  },
  {
   "cell_type": "markdown",
   "id": "8e16f8b2-09cf-4b62-ae92-161b50ac17a1",
   "metadata": {},
   "source": [
    "\r\n",
    "1. random() :- This number is used to generate a float random number less than 1 and greater or equal to 0.\r\n",
    "\r\n",
    "2. randint(start, end) :- This function is also used to generate random number but within a range specified in its arguments.\r\n",
    "\r\n",
    "3. randrange(start, end, step) :- This function is also used to generate random number but within a range specified in its arguments.\r\n",
    "\r\n",
    "4. uniform(a, b) :- This function is used to generate a floating point random number between the numbers mentioned in its arguments.\r\n",
    "\r\n",
    "5. choice() :- This function is used to generate 1 random number from a container.\r\n",
    "\r\n",
    "6. shuffle() :- This function is used to shuffle the entire list to randomly arrange them.\r\n",
    "\r\n",
    "7. sample() :- This function Returns randomly selected items from a sequence\r\n",
    "\r\n",
    "8. seed(): :- This function takes a number as a parameter called the seed and produces same random numbers each time you call this function with that number."
   ]
  },
  {
   "cell_type": "code",
   "execution_count": 42,
   "id": "372105f3-8a64-4117-936c-24e9b4b68d90",
   "metadata": {},
   "outputs": [
    {
     "name": "stdout",
     "output_type": "stream",
     "text": [
      "0.8808865498044391\n",
      "1607\n",
      "748\n",
      "3721\n",
      "6790\n",
      "6944.832802615469\n",
      "r\n"
     ]
    }
   ],
   "source": [
    "import random\n",
    "print(random.random())\n",
    "print(random.randint(1000,9999))\n",
    "print(random.randrange(1000))\n",
    "print(random.randrange(1000,9999))\n",
    "print(random.randrange(1000,9999,5))\n",
    "print(random.uniform(1000,9999))\n",
    "print(random.choice('Machine Learning'))"
   ]
  },
  {
   "cell_type": "code",
   "execution_count": 43,
   "id": "9b6a03b0-83c1-437b-9db4-3c05d4283054",
   "metadata": {},
   "outputs": [
    {
     "name": "stdout",
     "output_type": "stream",
     "text": [
      "4\n"
     ]
    }
   ],
   "source": [
    "L = [1,2,3,4,5,6]\n",
    "print(random.choice(L))"
   ]
  },
  {
   "cell_type": "code",
   "execution_count": 44,
   "id": "93a403c1-2eca-4529-a418-f67c27659109",
   "metadata": {},
   "outputs": [
    {
     "name": "stdout",
     "output_type": "stream",
     "text": [
      "[2, 1, 4, 6, 5, 3]\n"
     ]
    }
   ],
   "source": [
    "random.shuffle(L)\n",
    "print(L)"
   ]
  },
  {
   "cell_type": "code",
   "execution_count": 45,
   "id": "4e96588a-b002-47e7-93c3-8eacaf189db0",
   "metadata": {},
   "outputs": [
    {
     "name": "stdout",
     "output_type": "stream",
     "text": [
      "[5, 2, 6]\n"
     ]
    }
   ],
   "source": [
    "print(random.sample(L,3))"
   ]
  },
  {
   "cell_type": "code",
   "execution_count": 46,
   "id": "5369cb96-31b9-4195-a109-7efed5b48523",
   "metadata": {},
   "outputs": [
    {
     "name": "stdout",
     "output_type": "stream",
     "text": [
      "0.22221316948513892\n",
      "0.920758101136505\n",
      "0.2065894061211685\n"
     ]
    }
   ],
   "source": [
    "print(random.random())\n",
    "print(random.random())\n",
    "print(random.random())"
   ]
  },
  {
   "cell_type": "code",
   "execution_count": 47,
   "id": "3df6326e-93f9-43b2-90a6-333cb3c85465",
   "metadata": {},
   "outputs": [],
   "source": [
    "random.seed(3)"
   ]
  },
  {
   "cell_type": "code",
   "execution_count": 48,
   "id": "0ae86f18-0846-4d28-8a06-525d5f48f3c1",
   "metadata": {},
   "outputs": [
    {
     "name": "stdout",
     "output_type": "stream",
     "text": [
      "0.23796462709189137\n",
      "0.5442292252959519\n",
      "0.36995516654807925\n"
     ]
    }
   ],
   "source": [
    "print(random.random())\n",
    "print(random.random())\n",
    "print(random.random())"
   ]
  },
  {
   "cell_type": "markdown",
   "id": "c52d5641-835c-422a-959b-ffc615eb2cc3",
   "metadata": {},
   "source": [
    "* you can also import python module as"
   ]
  },
  {
   "cell_type": "code",
   "execution_count": 49,
   "id": "6d6c6069-b1ce-4d74-a44b-75dba50ec038",
   "metadata": {},
   "outputs": [
    {
     "name": "stdout",
     "output_type": "stream",
     "text": [
      "0.6039200385961945\n",
      "2073\n",
      "620\n",
      "1215\n",
      "9575\n",
      "5222.621806233576\n",
      " \n"
     ]
    }
   ],
   "source": [
    "import random as r\n",
    "print(r.random())\n",
    "print(r.randint(1000,9999))\n",
    "print(r.randrange(1000))\n",
    "print(r.randrange(1000,9999))\n",
    "print(r.randrange(1000,9999,5))\n",
    "print(r.uniform(1000,9999))\n",
    "print(r.choice('Machine Learning'))"
   ]
  },
  {
   "cell_type": "markdown",
   "id": "bdf411da-5107-4706-8564-c9bc021940ce",
   "metadata": {},
   "source": [
    "Note: import selected module from python random package"
   ]
  },
  {
   "cell_type": "markdown",
   "id": "4d7af65f-e5c9-4dee-9d25-cc75e59a74d3",
   "metadata": {},
   "source": [
    "* from random import module_name"
   ]
  },
  {
   "cell_type": "code",
   "execution_count": 50,
   "id": "f1e4b016-4e43-4391-8790-7bb738bb1fe0",
   "metadata": {},
   "outputs": [
    {
     "name": "stdout",
     "output_type": "stream",
     "text": [
      "0.1917441039952995\n",
      "8704\n",
      "5868.2239967757205\n"
     ]
    }
   ],
   "source": [
    "from random import random,randint,uniform\n",
    "print(random())\n",
    "print(randint(1000,9999))\n",
    "print(uniform(1000,9999))\n"
   ]
  },
  {
   "cell_type": "markdown",
   "id": "3d728b33-3849-4572-a7af-ef3505a8f045",
   "metadata": {},
   "source": [
    "Note: import all the random modules as\n",
    "\n",
    "* from random import *"
   ]
  },
  {
   "cell_type": "code",
   "execution_count": 51,
   "id": "ce3939fe-979a-414e-910b-0b4340e0d6dc",
   "metadata": {},
   "outputs": [
    {
     "name": "stdout",
     "output_type": "stream",
     "text": [
      "0.5496311670270055\n",
      "7506\n",
      "654\n",
      "3467\n",
      "3370\n",
      "6713.111063908411\n",
      "n\n"
     ]
    }
   ],
   "source": [
    "from random import *\n",
    "print(random())\n",
    "print(randint(1000,9999))\n",
    "print(randrange(1000))\n",
    "print(randrange(1000,9999))\n",
    "print(randrange(1000,9999,5))\n",
    "print(uniform(1000,9999))\n",
    "print(choice('Machine Learning'))"
   ]
  },
  {
   "cell_type": "code",
   "execution_count": null,
   "id": "0faa8be2-714b-4505-b60d-b181ad44ee78",
   "metadata": {},
   "outputs": [],
   "source": []
  }
 ],
 "metadata": {
  "kernelspec": {
   "display_name": "Python 3 (ipykernel)",
   "language": "python",
   "name": "python3"
  },
  "language_info": {
   "codemirror_mode": {
    "name": "ipython",
    "version": 3
   },
   "file_extension": ".py",
   "mimetype": "text/x-python",
   "name": "python",
   "nbconvert_exporter": "python",
   "pygments_lexer": "ipython3",
   "version": "3.12.0"
  }
 },
 "nbformat": 4,
 "nbformat_minor": 5
}

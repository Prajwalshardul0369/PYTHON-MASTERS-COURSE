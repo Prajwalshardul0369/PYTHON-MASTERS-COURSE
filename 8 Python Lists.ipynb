{
 "cells": [
  {
   "cell_type": "markdown",
   "id": "51de28d9-98b9-4c3f-8082-8a3f7b09434d",
   "metadata": {},
   "source": [
    "## Python Lists"
   ]
  },
  {
   "cell_type": "markdown",
   "id": "5ed6c7cf-7835-4828-a858-cbbd3c745718",
   "metadata": {},
   "source": [
    "Lists are used to store multiple items in a single variable. Lists are one of 4 built-in data types in Python used to store collections of data, the other 3 are Tuple, Set, and Dictionary, all with different qualities and usage."
   ]
  },
  {
   "cell_type": "markdown",
   "id": "8edcf679-cca2-4787-8007-dd0504c206b8",
   "metadata": {},
   "source": [
    " #### Lists are created using square brackets: []"
   ]
  },
  {
   "cell_type": "code",
   "execution_count": 1,
   "id": "1821e4b6-f379-483b-923b-5630f492b171",
   "metadata": {},
   "outputs": [
    {
     "name": "stdout",
     "output_type": "stream",
     "text": [
      "[]\n"
     ]
    }
   ],
   "source": [
    "L = []\n",
    "print(L)"
   ]
  },
  {
   "cell_type": "code",
   "execution_count": 2,
   "id": "4b99ab16-ed6d-418f-8389-e552142df624",
   "metadata": {},
   "outputs": [
    {
     "name": "stdout",
     "output_type": "stream",
     "text": [
      "[10, 3.14, 'Machine Learning', 98.34, 100, 'Python', 77]\n"
     ]
    }
   ],
   "source": [
    "L = [10,3.14,\"Machine Learning\",98.34,100,\"Python\",77]\n",
    "print(L)"
   ]
  },
  {
   "cell_type": "markdown",
   "id": "a8f8d0c7-f4b0-41cf-817c-95d9a573657d",
   "metadata": {},
   "source": [
    "* List items are ordered, changeable, and allow duplicate values.\n",
    "* List items are indexed, the first item has index [0], the second item has index [1] etc.\n",
    "* The list is changeable, meaning that we can change, add, and remove items in a list after it has been created.\n",
    "* Since lists are indexed, lists can have items with the same value: Allow duplicates"
   ]
  },
  {
   "cell_type": "code",
   "execution_count": 3,
   "id": "5573f22c-cb7b-4141-bf4a-fc2d72d17c5f",
   "metadata": {},
   "outputs": [
    {
     "name": "stdout",
     "output_type": "stream",
     "text": [
      "10\n"
     ]
    }
   ],
   "source": [
    "print(L[0])"
   ]
  },
  {
   "cell_type": "markdown",
   "id": "23acd00e-2121-4b88-9a43-1006ad5cf41a",
   "metadata": {},
   "source": [
    "### Determine the length and type of a list"
   ]
  },
  {
   "cell_type": "code",
   "execution_count": 4,
   "id": "5c68aef4-eb4d-4394-9355-f2b2adca3465",
   "metadata": {},
   "outputs": [
    {
     "name": "stdout",
     "output_type": "stream",
     "text": [
      "7\n"
     ]
    }
   ],
   "source": [
    "print(len(L))"
   ]
  },
  {
   "cell_type": "code",
   "execution_count": 5,
   "id": "8a4ad7b4-25ea-4d15-9cb4-cc4e3e123d9d",
   "metadata": {},
   "outputs": [
    {
     "name": "stdout",
     "output_type": "stream",
     "text": [
      "<class 'list'>\n"
     ]
    }
   ],
   "source": [
    "print(type(L))"
   ]
  },
  {
   "cell_type": "markdown",
   "id": "19eb26e9-e8d3-4ecf-941f-ec8d94849bef",
   "metadata": {},
   "source": [
    "### Access list items"
   ]
  },
  {
   "cell_type": "markdown",
   "id": "83544e85-2ab9-4bed-83e3-23de5ad4c277",
   "metadata": {},
   "source": [
    "* List items are indexed and you can access them by referring to the index number:\n",
    "* Negative indexing means start from the end.\n",
    "* 1 refers to the last item, -2 refers to the second last item etc.\n",
    "* You can specify a range of indexes by specifying where to start and where to end the range."
   ]
  },
  {
   "cell_type": "code",
   "execution_count": 6,
   "id": "144f43d1-c96c-4a7b-8eac-b331717bf740",
   "metadata": {},
   "outputs": [
    {
     "name": "stdout",
     "output_type": "stream",
     "text": [
      "[10, 3.14, 'Machine Learning', 98.34, 100, 'Python', 77]\n",
      "[10, 3.14, 'Machine Learning', 98.34, 100, 'Python', 77]\n",
      "[10, 3.14, 'Machine Learning', 98.34, 100, 'Python', 77]\n",
      "10\n",
      "['Machine Learning', 98.34, 100]\n",
      "['Machine Learning', 98.34, 100, 'Python', 77]\n",
      "[10, 3.14, 'Machine Learning', 98.34, 100]\n",
      "77\n",
      "[100, 'Python', 77]\n"
     ]
    }
   ],
   "source": [
    "L = [10,3.14,\"Machine Learning\",98.34,100,\"Python\",77]\n",
    "print(L)\n",
    "print(L[:])\n",
    "print(L[::])\n",
    "print(L[0])\n",
    "print(L[2:5])\n",
    "print(L[2:])\n",
    "print(L[:5])\n",
    "print(L[-1])\n",
    "print(L[-3:])"
   ]
  },
  {
   "cell_type": "markdown",
   "id": "b8f0bfb2-e736-4f31-8189-1eacc5f14fda",
   "metadata": {},
   "source": [
    "### Change List Items"
   ]
  },
  {
   "cell_type": "code",
   "execution_count": 7,
   "id": "8709bf3b-a38f-4ccd-a134-a321544ce276",
   "metadata": {},
   "outputs": [
    {
     "name": "stdout",
     "output_type": "stream",
     "text": [
      "[10, 3.14, 'Machine Learning', 98.34, 100, 'Python', 77]\n"
     ]
    }
   ],
   "source": [
    "print(L)"
   ]
  },
  {
   "cell_type": "code",
   "execution_count": 8,
   "id": "76fe6a47-263b-4a95-8c10-907ec2849b7d",
   "metadata": {},
   "outputs": [
    {
     "name": "stdout",
     "output_type": "stream",
     "text": [
      "[89, 3.14, 'Machine Learning', 98.34, 100, 'Python', 77]\n"
     ]
    }
   ],
   "source": [
    "L[0] = 89\n",
    "print(L)"
   ]
  },
  {
   "cell_type": "markdown",
   "id": "31521180-0dd5-4bb5-b4c9-dc1854e811b8",
   "metadata": {},
   "source": [
    "### Change a Range of Item Values"
   ]
  },
  {
   "cell_type": "code",
   "execution_count": 11,
   "id": "84d4bf66-fa2e-4f26-aeb0-d52d009a1c7f",
   "metadata": {},
   "outputs": [
    {
     "name": "stdout",
     "output_type": "stream",
     "text": [
      "[89, 3.14, 'Machine Learning', 98.34, 100, 'Python', 77]\n"
     ]
    }
   ],
   "source": [
    "print(L)"
   ]
  },
  {
   "cell_type": "code",
   "execution_count": 12,
   "id": "78039229-f1c9-446a-bce0-e7a955f88259",
   "metadata": {},
   "outputs": [
    {
     "name": "stdout",
     "output_type": "stream",
     "text": [
      "[89, 'Artificial Intelligence', 'Deep Learning', 98.34, 100, 'Python', 77]\n"
     ]
    }
   ],
   "source": [
    "L[1:3] = [\"Artificial Intelligence\", \"Deep Learning\"]\n",
    "print(L)"
   ]
  },
  {
   "cell_type": "markdown",
   "id": "239e5cf8-c961-4ad7-9be5-df1e2c791010",
   "metadata": {},
   "source": [
    "### Insert Items"
   ]
  },
  {
   "cell_type": "markdown",
   "id": "c1501dc0-1954-427b-8afc-4cb224360122",
   "metadata": {},
   "source": [
    "* To insert a new list item, without replacing any of the existing values, we can use the insert() method."
   ]
  },
  {
   "cell_type": "code",
   "execution_count": 13,
   "id": "7afa4b7a-b109-425a-8181-2cb898eaf994",
   "metadata": {},
   "outputs": [
    {
     "name": "stdout",
     "output_type": "stream",
     "text": [
      "[89, 'Artificial Intelligence', 'Deep Learning', 98.34, 100, 'Python', 77]\n"
     ]
    }
   ],
   "source": [
    "print(L)"
   ]
  },
  {
   "cell_type": "code",
   "execution_count": 14,
   "id": "0bb89ffa-4493-4326-bb66-73d6b2e547ff",
   "metadata": {},
   "outputs": [
    {
     "name": "stdout",
     "output_type": "stream",
     "text": [
      "[89, 'Artificial Intelligence', 'Machine Learning', 'Deep Learning', 98.34, 100, 'Python', 77]\n"
     ]
    }
   ],
   "source": [
    "L.insert(2,\"Machine Learning\")\n",
    "print(L)"
   ]
  },
  {
   "cell_type": "markdown",
   "id": "df7d3d83-a0cb-49a4-91f7-8dc8c0c84cb3",
   "metadata": {},
   "source": [
    "### Append Items"
   ]
  },
  {
   "cell_type": "raw",
   "id": "3a0faa1a-f3d7-49d6-8f10-788268077bdc",
   "metadata": {},
   "source": [
    "* To add an item to the end of the list, use the append() method:"
   ]
  },
  {
   "cell_type": "code",
   "execution_count": 15,
   "id": "2c44a910-1ff5-4790-80a4-a7e16de4af72",
   "metadata": {},
   "outputs": [
    {
     "name": "stdout",
     "output_type": "stream",
     "text": [
      "[89, 'Artificial Intelligence', 'Machine Learning', 'Deep Learning', 98.34, 100, 'Python', 77, 'codex']\n"
     ]
    }
   ],
   "source": [
    "L.append(\"codex\")\n",
    "print(L)"
   ]
  },
  {
   "cell_type": "markdown",
   "id": "24390ff9-2c23-4a24-8241-7d1aa8b379af",
   "metadata": {},
   "source": [
    "### Extend List¶"
   ]
  },
  {
   "cell_type": "code",
   "execution_count": 16,
   "id": "f8ca6c46-8f92-41a7-bdd4-de40fd94da35",
   "metadata": {},
   "outputs": [],
   "source": [
    "L1 = [10,46,67]\n",
    "L2 = [\"Apple\",\"Mango\",\"Kiwi\"]\n",
    "L1.extend(L2)"
   ]
  },
  {
   "cell_type": "code",
   "execution_count": 17,
   "id": "acb6c9b1-a701-4335-9996-a3e47d100adc",
   "metadata": {},
   "outputs": [
    {
     "name": "stdout",
     "output_type": "stream",
     "text": [
      "[10, 46, 67, 'Apple', 'Mango', 'Kiwi']\n",
      "['Apple', 'Mango', 'Kiwi']\n"
     ]
    }
   ],
   "source": [
    "print(L1)\n",
    "print(L2)"
   ]
  },
  {
   "cell_type": "markdown",
   "id": "33a658d6-2942-40a1-92ba-2f52b55759c8",
   "metadata": {},
   "source": [
    "### Remove Specified Item"
   ]
  },
  {
   "cell_type": "code",
   "execution_count": 18,
   "id": "706ad2fd-0582-4d56-877d-7a41deacc938",
   "metadata": {},
   "outputs": [
    {
     "name": "stdout",
     "output_type": "stream",
     "text": [
      "[89, 'Artificial Intelligence', 'Machine Learning', 'Deep Learning', 98.34, 100, 'Python', 77, 'codex']\n"
     ]
    }
   ],
   "source": [
    "print(L)"
   ]
  },
  {
   "cell_type": "code",
   "execution_count": 19,
   "id": "05cfd1cd-cca9-4d78-9dc9-a5243bbb5b98",
   "metadata": {},
   "outputs": [
    {
     "name": "stdout",
     "output_type": "stream",
     "text": [
      "[89, 'Artificial Intelligence', 'Machine Learning', 'Deep Learning', 98.34, 100, 77, 'codex']\n"
     ]
    }
   ],
   "source": [
    "L.remove('Python')\n",
    "print(L)"
   ]
  },
  {
   "cell_type": "markdown",
   "id": "a8cdecea-9bb8-4c72-a18c-3ebfa959952e",
   "metadata": {},
   "source": [
    "### Remove Specified Index"
   ]
  },
  {
   "cell_type": "markdown",
   "id": "7bc2fc73-89aa-43eb-948b-fa180945b8d6",
   "metadata": {},
   "source": [
    "If you do not specify the index, the pop() method removes the last item."
   ]
  },
  {
   "cell_type": "code",
   "execution_count": 20,
   "id": "c0781371-78fe-43d1-8cf0-80d418fa4dd6",
   "metadata": {},
   "outputs": [
    {
     "name": "stdout",
     "output_type": "stream",
     "text": [
      "[89, 'Artificial Intelligence', 'Machine Learning', 'Deep Learning', 98.34, 100, 77, 'codex']\n"
     ]
    }
   ],
   "source": [
    "print(L)"
   ]
  },
  {
   "cell_type": "code",
   "execution_count": 21,
   "id": "ca7c81e2-eb0d-45f2-ab43-9178cb72075f",
   "metadata": {},
   "outputs": [
    {
     "name": "stdout",
     "output_type": "stream",
     "text": [
      "[89, 'Artificial Intelligence', 'Deep Learning', 98.34, 100, 77, 'codex']\n"
     ]
    }
   ],
   "source": [
    "L.pop(2)\n",
    "print(L)"
   ]
  },
  {
   "cell_type": "markdown",
   "id": "2bb57fe7-f062-4967-9138-9b3a4c5488b6",
   "metadata": {},
   "source": [
    "#### The del keyword also removes the specified index:"
   ]
  },
  {
   "cell_type": "code",
   "execution_count": 22,
   "id": "5e822698-81ab-47aa-86d4-afdfcf35ba83",
   "metadata": {},
   "outputs": [
    {
     "name": "stdout",
     "output_type": "stream",
     "text": [
      "[89, 'Artificial Intelligence', 'Deep Learning', 98.34, 100, 77, 'codex']\n"
     ]
    }
   ],
   "source": [
    "print(L)"
   ]
  },
  {
   "cell_type": "code",
   "execution_count": 23,
   "id": "dc5bcdb2-b321-41c5-ad27-c439708c8eea",
   "metadata": {},
   "outputs": [
    {
     "name": "stdout",
     "output_type": "stream",
     "text": [
      "[89, 'Artificial Intelligence', 'Deep Learning', 98.34, 77, 'codex']\n"
     ]
    }
   ],
   "source": [
    "del L[4]\n",
    "print(L)"
   ]
  },
  {
   "cell_type": "markdown",
   "id": "c84510c5-ad83-4396-a201-f6c9732e997b",
   "metadata": {},
   "source": [
    "#### The del keyword can also delete the list completely."
   ]
  },
  {
   "cell_type": "code",
   "execution_count": 24,
   "id": "2471d992-06d0-49ea-a46b-cc54b3eefd6f",
   "metadata": {},
   "outputs": [
    {
     "name": "stdout",
     "output_type": "stream",
     "text": [
      "[89, 'Artificial Intelligence', 'Deep Learning', 98.34, 77, 'codex']\n"
     ]
    }
   ],
   "source": [
    "print(L)"
   ]
  },
  {
   "cell_type": "code",
   "execution_count": 25,
   "id": "e4cf4823-b698-4284-9e9d-647e3b6e906f",
   "metadata": {},
   "outputs": [],
   "source": [
    "del L"
   ]
  },
  {
   "cell_type": "code",
   "execution_count": 26,
   "id": "c51fd97b-a3a2-418a-af6e-3f790dc1addb",
   "metadata": {},
   "outputs": [
    {
     "ename": "SyntaxError",
     "evalue": "invalid syntax (3203050597.py, line 1)",
     "output_type": "error",
     "traceback": [
      "\u001b[1;36m  Cell \u001b[1;32mIn[26], line 1\u001b[1;36m\u001b[0m\n\u001b[1;33m    print(L) // delelte no data foumd error\u001b[0m\n\u001b[1;37m                        ^\u001b[0m\n\u001b[1;31mSyntaxError\u001b[0m\u001b[1;31m:\u001b[0m invalid syntax\n"
     ]
    }
   ],
   "source": [
    "print(L) // delelte no data foumd error "
   ]
  },
  {
   "cell_type": "markdown",
   "id": "6eb74102-f236-4ee6-aa77-85b69443b70b",
   "metadata": {},
   "source": [
    "### Clear the list"
   ]
  },
  {
   "cell_type": "markdown",
   "id": "b96f7ed2-c36c-49f5-b3bb-e1fb1a4bfbba",
   "metadata": {},
   "source": [
    "The clear() method empties the list."
   ]
  },
  {
   "cell_type": "code",
   "execution_count": 27,
   "id": "86b8f51e-46d0-4d2f-bb17-2569469e3697",
   "metadata": {},
   "outputs": [],
   "source": [
    "L = [10,3.14,\"Machine Learning\",98.34,100,\"Python\",77]\n",
    "L.clear()"
   ]
  },
  {
   "cell_type": "code",
   "execution_count": 28,
   "id": "5846396e-f352-46f4-90c0-4a3f80168409",
   "metadata": {},
   "outputs": [
    {
     "name": "stdout",
     "output_type": "stream",
     "text": [
      "[]\n"
     ]
    }
   ],
   "source": [
    "print(L)"
   ]
  },
  {
   "cell_type": "markdown",
   "id": "eea67751-014a-40ef-b466-86e21487e45b",
   "metadata": {},
   "source": [
    "### Loop Through a List\n"
   ]
  },
  {
   "cell_type": "markdown",
   "id": "ee7f2d87-8e22-4f31-93c7-94acf9ad4af6",
   "metadata": {},
   "source": [
    "* You can loop through the list items by using a for loop:"
   ]
  },
  {
   "cell_type": "code",
   "execution_count": 29,
   "id": "1cf4b6d1-d4aa-4290-a3be-9ce2a9b68245",
   "metadata": {},
   "outputs": [
    {
     "name": "stdout",
     "output_type": "stream",
     "text": [
      "10\n",
      "3.14\n",
      "Machine Learning\n",
      "98.34\n",
      "100\n",
      "Python\n",
      "77\n"
     ]
    }
   ],
   "source": [
    "L = [10,3.14,\"Machine Learning\",98.34,100,\"Python\",77]\n",
    "for item in L:\n",
    "    print(item)"
   ]
  },
  {
   "cell_type": "markdown",
   "id": "aade2a78-128c-453b-8548-1ee8e9652dd5",
   "metadata": {},
   "source": [
    "### Loop Through the Index Numbers"
   ]
  },
  {
   "cell_type": "code",
   "execution_count": 30,
   "id": "a503cc2e-e44f-4ff7-98b2-5fff399db3c1",
   "metadata": {},
   "outputs": [
    {
     "name": "stdout",
     "output_type": "stream",
     "text": [
      "10\n",
      "3.14\n",
      "Machine Learning\n",
      "98.34\n",
      "100\n",
      "Python\n",
      "77\n"
     ]
    }
   ],
   "source": [
    "for i in range(len(L)):\n",
    "    print(L[i])"
   ]
  },
  {
   "cell_type": "markdown",
   "id": "f7e9f72e-522b-430a-a4ba-a15e872fbb09",
   "metadata": {},
   "source": [
    "### Print list items using while loop"
   ]
  },
  {
   "cell_type": "code",
   "execution_count": 31,
   "id": "df07fecd-189e-49de-b3ba-0bbea07f1e29",
   "metadata": {},
   "outputs": [
    {
     "name": "stdout",
     "output_type": "stream",
     "text": [
      "10\n",
      "3.14\n",
      "Machine Learning\n",
      "98.34\n",
      "100\n",
      "Python\n",
      "77\n"
     ]
    }
   ],
   "source": [
    "L = [10,3.14,\"Machine Learning\",98.34,100,\"Python\",77]\n",
    "i=0\n",
    "while i < len(L):\n",
    "    print(L[i])\n",
    "    i = i + 1"
   ]
  },
  {
   "cell_type": "markdown",
   "id": "59d2d746-41eb-4be8-a28d-c09237da0526",
   "metadata": {},
   "source": [
    "### Find Max and Min Number in List"
   ]
  },
  {
   "cell_type": "code",
   "execution_count": 32,
   "id": "cc40ccbf-aa7a-4967-b9b2-540e7a4ac38c",
   "metadata": {},
   "outputs": [
    {
     "name": "stdout",
     "output_type": "stream",
     "text": [
      "895\n",
      "23\n"
     ]
    }
   ],
   "source": [
    "L = [46,895,23,674,78,97]\n",
    "print(max(L))\n",
    "print(min(L))"
   ]
  },
  {
   "cell_type": "markdown",
   "id": "6e3ea916-ea15-47a9-8add-a0ce4bd04041",
   "metadata": {},
   "source": [
    "### Sort List Alphanumerically"
   ]
  },
  {
   "cell_type": "code",
   "execution_count": 33,
   "id": "86429a1a-457a-45fb-b1ae-469d246004c4",
   "metadata": {},
   "outputs": [
    {
     "name": "stdout",
     "output_type": "stream",
     "text": [
      "['apple', 'kiwi', 'mango', 'orange', 'papaya']\n"
     ]
    }
   ],
   "source": [
    "L = [\"orange\", \"mango\", \"kiwi\", \"apple\", \"papaya\"]\n",
    "L.sort()\n",
    "print(L)\n"
   ]
  },
  {
   "cell_type": "code",
   "execution_count": 34,
   "id": "ad92a3df-addb-4981-89a9-c747cc70e0f6",
   "metadata": {},
   "outputs": [
    {
     "name": "stdout",
     "output_type": "stream",
     "text": [
      "[9, 23, 45, 53, 89, 90]\n"
     ]
    }
   ],
   "source": [
    "L = [45,9,90,53,23,89]\n",
    "L.sort()\n",
    "print(L)"
   ]
  },
  {
   "cell_type": "markdown",
   "id": "e029e0f5-2bea-4836-a0aa-ddf798f79064",
   "metadata": {},
   "source": [
    "### Sort Descending"
   ]
  },
  {
   "cell_type": "markdown",
   "id": "5a27e44e-67fa-4f14-ac03-1360774b274c",
   "metadata": {},
   "source": [
    "#### By default the sort() method is case sensitive, resulting in all capital letters being sorted before lower case letters: According to ASCII Value"
   ]
  },
  {
   "cell_type": "code",
   "execution_count": 37,
   "id": "b9b2c247-3c41-4c3d-8f94-05150cf7df58",
   "metadata": {},
   "outputs": [
    {
     "name": "stdout",
     "output_type": "stream",
     "text": [
      "['Kiwi', 'Orange', 'Papaya', 'apple', 'mango']\n"
     ]
    }
   ],
   "source": [
    "L = [\"Orange\", \"mango\", \"Kiwi\", \"apple\", \"Papaya\"]\n",
    "L.sort()\n",
    "\n",
    "print(L)"
   ]
  },
  {
   "cell_type": "markdown",
   "id": "5951bed0-538c-4b27-af3d-120daa876e22",
   "metadata": {},
   "source": [
    "##### So if you want a case-insensitive sort function, use str.lower as a key function:"
   ]
  },
  {
   "cell_type": "code",
   "execution_count": 38,
   "id": "9d3fde69-b4c5-491e-9aa6-1480cf22ea2f",
   "metadata": {},
   "outputs": [
    {
     "name": "stdout",
     "output_type": "stream",
     "text": [
      "['apple', 'Kiwi', 'mango', 'Orange', 'Papaya']\n"
     ]
    }
   ],
   "source": [
    "L = [\"Orange\", \"mango\", \"Kiwi\", \"apple\", \"Papaya\"]\r\n",
    "L.sort(key = str.lower)\r\n",
    "print(L)\r\n"
   ]
  },
  {
   "cell_type": "markdown",
   "id": "651e1c3e-95fe-48f2-9afc-a855412b3a96",
   "metadata": {},
   "source": [
    "### Reverse Order"
   ]
  },
  {
   "cell_type": "code",
   "execution_count": 39,
   "id": "93423a08-a4c2-4016-adf5-ca59108b54e8",
   "metadata": {},
   "outputs": [
    {
     "name": "stdout",
     "output_type": "stream",
     "text": [
      "['Papaya', 'apple', 'Kiwi', 'mango', 'Orange']\n"
     ]
    }
   ],
   "source": [
    "L = [\"Orange\", \"mango\", \"Kiwi\", \"apple\", \"Papaya\"]\n",
    "L.reverse()\n",
    "print(L)"
   ]
  },
  {
   "cell_type": "markdown",
   "id": "48ee328f-a8b6-476e-9708-9a03e45bc24b",
   "metadata": {},
   "source": [
    "### Python - List Comprehension"
   ]
  },
  {
   "cell_type": "markdown",
   "id": "050b5089-b7f5-4c5f-8f8b-088165dc63c0",
   "metadata": {},
   "source": [
    "* List comprehension offers a shorter syntax when you want to create a new list based on the values of an existing list"
   ]
  },
  {
   "cell_type": "code",
   "execution_count": 40,
   "id": "a12ee34f-ead5-4c26-a450-074427346997",
   "metadata": {},
   "outputs": [
    {
     "name": "stdout",
     "output_type": "stream",
     "text": [
      "[1, 2, 3, 4, 5, 6, 7, 8, 9, 10]\n"
     ]
    }
   ],
   "source": [
    "#store 1 to 10 numbers in a list\n",
    "L = []\n",
    "for i in range(1,11):\n",
    "    L.append(i)\n",
    "print(L)"
   ]
  },
  {
   "cell_type": "markdown",
   "id": "0b99e2ff-fd08-405f-9e4a-b731afcafd6b",
   "metadata": {},
   "source": [
    "##### using list comprehension"
   ]
  },
  {
   "cell_type": "markdown",
   "id": "2ea4e16a-4523-4a13-bab7-ea6986e1c36e",
   "metadata": {},
   "source": [
    "newlist = [expression for item in iterable"
   ]
  },
  {
   "cell_type": "code",
   "execution_count": 41,
   "id": "eb8c48bc-225b-4f4d-b0de-a700a4fc7429",
   "metadata": {},
   "outputs": [
    {
     "name": "stdout",
     "output_type": "stream",
     "text": [
      "[1, 2, 3, 4, 5, 6, 7, 8, 9, 10]\n"
     ]
    }
   ],
   "source": [
    "L = [i for i in range(1,11)]\n",
    "print(L)"
   ]
  },
  {
   "cell_type": "markdown",
   "id": "755fa4ae-34c1-431b-9b3a-c6cf9cf2c608",
   "metadata": {},
   "source": [
    "newlist = [expression for item in iterable if condition == True]"
   ]
  },
  {
   "cell_type": "code",
   "execution_count": 42,
   "id": "81ca9691-23d8-4acd-9574-9797da8d3180",
   "metadata": {},
   "outputs": [
    {
     "name": "stdout",
     "output_type": "stream",
     "text": [
      "[3, 6, 9, 12, 15, 18, 21, 24, 27, 30, 33, 36, 39, 42, 45, 48, 51, 54, 57, 60, 63, 66, 69, 72, 75, 78, 81, 84, 87, 90, 93, 96, 99]\n"
     ]
    }
   ],
   "source": [
    "# store multiple of 3 from 1 to 100\n",
    "L = [i for i in range(1,101) if i%3==0]\n",
    "print(L)"
   ]
  },
  {
   "cell_type": "code",
   "execution_count": 43,
   "id": "82f4676f-0660-4556-b9cb-0b5739f4832f",
   "metadata": {},
   "outputs": [
    {
     "name": "stdout",
     "output_type": "stream",
     "text": [
      "['Apple', 'Orange', 'Kiwi']\n"
     ]
    }
   ],
   "source": [
    "L = [\"Apple\",\"Mango\",\"Kiwi\"]\n",
    "L1 = [x if x != \"Mango\" else \"Orange\" for x in L]\n",
    "print(L1)"
   ]
  },
  {
   "cell_type": "markdown",
   "id": "937a1a10-442b-4940-a129-6db8e2ecb26f",
   "metadata": {},
   "source": [
    "##### \"Above is Return the item if it is not Mango, if it is Mango return Orange\"."
   ]
  },
  {
   "cell_type": "markdown",
   "id": "2c45ce26-fa0f-4d59-9e90-d508ef003b50",
   "metadata": {},
   "source": [
    "### Looping Using List Comprehension"
   ]
  },
  {
   "cell_type": "code",
   "execution_count": 44,
   "id": "1b9b8600-bd22-4c3a-b8f9-641d160723d4",
   "metadata": {},
   "outputs": [
    {
     "name": "stdout",
     "output_type": "stream",
     "text": [
      "10\n",
      "3.14\n",
      "Machine Learning\n",
      "98.34\n",
      "100\n",
      "Python\n",
      "77\n"
     ]
    },
    {
     "data": {
      "text/plain": [
       "[None, None, None, None, None, None, None]"
      ]
     },
     "execution_count": 44,
     "metadata": {},
     "output_type": "execute_result"
    }
   ],
   "source": [
    "L = [10,3.14,\"Machine Learning\",98.34,100,\"Python\",77]\n",
    "[print(x) for x in L]"
   ]
  },
  {
   "cell_type": "markdown",
   "id": "efb51038-d055-410c-8a67-b84b6483b15f",
   "metadata": {},
   "source": [
    "### Copy a List"
   ]
  },
  {
   "cell_type": "raw",
   "id": "a1bda8f7-b365-474e-bf44-9884539deb2d",
   "metadata": {},
   "source": [
    "You cannot copy a list simply by typing list2 = list1, because: list2 will only be a reference to list1, and changes made in list1 will automatically also be made in list2.\n",
    "\n",
    "There are ways to make a copy, one way is to use the built-in List method copy()."
   ]
  },
  {
   "cell_type": "code",
   "execution_count": 45,
   "id": "f97cde0d-cffc-4c0e-a6cf-c71e5e63a0fc",
   "metadata": {},
   "outputs": [
    {
     "name": "stdout",
     "output_type": "stream",
     "text": [
      "[1, 2, 3]\n",
      "[1, 2, 3]\n"
     ]
    }
   ],
   "source": [
    "L1 = [1,2,3]\n",
    "L2 = L1\n",
    "print(L1)\n",
    "print(L2)"
   ]
  },
  {
   "cell_type": "code",
   "execution_count": 46,
   "id": "4ae8abde-dfdd-481a-a0b5-57fda46a0fb4",
   "metadata": {},
   "outputs": [
    {
     "name": "stdout",
     "output_type": "stream",
     "text": [
      "[1, 4, 3]\n",
      "[1, 4, 3]\n"
     ]
    }
   ],
   "source": [
    "L1[1] = 4\n",
    "print(L1)\n",
    "print(L2)"
   ]
  },
  {
   "cell_type": "code",
   "execution_count": 47,
   "id": "b9d1549a-5d43-401b-aa0a-2186ed5acd5c",
   "metadata": {},
   "outputs": [
    {
     "name": "stdout",
     "output_type": "stream",
     "text": [
      "[1, 2, 3]\n",
      "[1, 2, 3]\n"
     ]
    }
   ],
   "source": [
    "L1 = [1,2,3]\n",
    "L2 = L1.copy()\n",
    "print(L1)\n",
    "print(L2)"
   ]
  },
  {
   "cell_type": "code",
   "execution_count": 48,
   "id": "5742a193-f09b-43f1-b060-57a3ecce225c",
   "metadata": {},
   "outputs": [
    {
     "name": "stdout",
     "output_type": "stream",
     "text": [
      "[1, 4, 3]\n",
      "[1, 2, 3]\n"
     ]
    }
   ],
   "source": [
    "L1[1] = 4\n",
    "print(L1)\n",
    "print(L2)"
   ]
  },
  {
   "cell_type": "markdown",
   "id": "388e436c-56a7-4b69-a46e-fdce7bc36e65",
   "metadata": {},
   "source": [
    "#### Another way to make a copy is to use the built-in method list()."
   ]
  },
  {
   "cell_type": "code",
   "execution_count": 49,
   "id": "1a6b72a9-c7cd-409b-9e0b-67f87d801331",
   "metadata": {},
   "outputs": [
    {
     "name": "stdout",
     "output_type": "stream",
     "text": [
      "[1, 2, 3]\n",
      "[1, 2, 3]\n"
     ]
    }
   ],
   "source": [
    "L1 = [1,2,3]\n",
    "L2 = list(L1)\n",
    "print(L1)\n",
    "print(L2)"
   ]
  },
  {
   "cell_type": "code",
   "execution_count": 50,
   "id": "8423962e-ef57-464a-b2e7-128bf5f82292",
   "metadata": {},
   "outputs": [
    {
     "name": "stdout",
     "output_type": "stream",
     "text": [
      "[1, 4, 3]\n",
      "[1, 2, 3]\n"
     ]
    }
   ],
   "source": [
    "L1[1] = 4\n",
    "print(L1)\n",
    "print(L2)"
   ]
  },
  {
   "cell_type": "markdown",
   "id": "6105eafb-7c3a-4a12-be00-08e721993c74",
   "metadata": {},
   "source": [
    "#### Another way to join two lists are by appending all the items from list2 into list1, one by one:"
   ]
  },
  {
   "cell_type": "code",
   "execution_count": 51,
   "id": "9a2d69f4-bf2e-45fe-92de-29571d0b268e",
   "metadata": {},
   "outputs": [
    {
     "name": "stdout",
     "output_type": "stream",
     "text": [
      "[1, 2, 3, 4, 5, 6]\n"
     ]
    }
   ],
   "source": [
    "L1 = [1,2,3]\n",
    "L2 = [4,5,6]\n",
    "for item in L2:\n",
    "    L1.append(item)\n",
    "print(L1)"
   ]
  },
  {
   "cell_type": "markdown",
   "id": "7e65ae4f-8588-44a5-ad1a-914ac1fc6036",
   "metadata": {},
   "source": [
    "#### Or you can use the extend() method, which purpose is to add elements from one list to another list:"
   ]
  },
  {
   "cell_type": "code",
   "execution_count": 52,
   "id": "06494850-7789-4439-bcaa-26cd7f880a8f",
   "metadata": {},
   "outputs": [
    {
     "name": "stdout",
     "output_type": "stream",
     "text": [
      "[1, 2, 3, 4, 5, 6]\n"
     ]
    }
   ],
   "source": [
    "L1 = [1,2,3]\n",
    "L2 = [4,5,6]\n",
    "L1.extend(L2)\n",
    "print(L1)"
   ]
  },
  {
   "cell_type": "markdown",
   "id": "3746cb86-ca96-4c06-9aff-d99008a0400c",
   "metadata": {},
   "source": [
    "### Count Item in a List"
   ]
  },
  {
   "cell_type": "code",
   "execution_count": 54,
   "id": "d6cdc86b-75c6-4810-a919-020f4ab73f47",
   "metadata": {},
   "outputs": [
    {
     "name": "stdout",
     "output_type": "stream",
     "text": [
      "3\n"
     ]
    }
   ],
   "source": [
    "L = [10,20,30,10,40,50,10,60]\n",
    "print(L.count(10))"
   ]
  },
  {
   "cell_type": "markdown",
   "id": "d0853853-a235-4c59-bb97-bb8a0beb1cbf",
   "metadata": {},
   "source": [
    "### Convert Tuple to list"
   ]
  },
  {
   "cell_type": "code",
   "execution_count": 55,
   "id": "94243f4f-8b71-4a98-a972-a2f16de9af98",
   "metadata": {},
   "outputs": [
    {
     "name": "stdout",
     "output_type": "stream",
     "text": [
      "(1, 2, 3, 4, 5, 6)\n",
      "[1, 2, 3, 4, 5, 6]\n"
     ]
    }
   ],
   "source": [
    "T = (1,2,3,4,5,6)\n",
    "print(T)\n",
    "\n",
    "L = list(T)\n",
    "print(L)"
   ]
  },
  {
   "cell_type": "markdown",
   "id": "cadc1676-794d-4b68-9085-aa6b59084725",
   "metadata": {},
   "source": [
    "#### Remove duplicate items from list using set()"
   ]
  },
  {
   "cell_type": "code",
   "execution_count": 56,
   "id": "94e96932-9d78-4c9d-8809-f46297b9fa0f",
   "metadata": {},
   "outputs": [
    {
     "name": "stdout",
     "output_type": "stream",
     "text": [
      "[1, 2, 3, 1, 4, 6, 4, 5, 6, 8, 6, 7, 8, 9, 1, 5, 6, 3]\n"
     ]
    }
   ],
   "source": [
    "L = [1,2,3,1,4,6,4,5,6,8,6,7,8,9,1,5,6,3]\n",
    "print(L)\n"
   ]
  },
  {
   "cell_type": "code",
   "execution_count": 57,
   "id": "f417fd91-365b-4222-b572-8c9e72a28069",
   "metadata": {},
   "outputs": [
    {
     "name": "stdout",
     "output_type": "stream",
     "text": [
      "{1, 2, 3, 4, 5, 6, 7, 8, 9}\n"
     ]
    }
   ],
   "source": [
    "L1 = set(L)\n",
    "print(L1)"
   ]
  },
  {
   "cell_type": "markdown",
   "id": "db59da4c-e6a0-4042-914d-b43b9a8bff95",
   "metadata": {},
   "source": [
    "### Multidimension List"
   ]
  },
  {
   "cell_type": "code",
   "execution_count": 58,
   "id": "e01ebb60-f389-4075-afa3-ef91fc9d287b",
   "metadata": {},
   "outputs": [
    {
     "name": "stdout",
     "output_type": "stream",
     "text": [
      "[[2, 4, 6, 8, 10], [3, 6, 9, 12, 15], [4, 8, 12, 16, 20]]\n"
     ]
    }
   ],
   "source": [
    "L = [[2, 4, 6, 8, 10], [3, 6, 9, 12, 15], [4, 8, 12, 16, 20]] \n",
    "print(L) "
   ]
  },
  {
   "cell_type": "code",
   "execution_count": 59,
   "id": "55e56a91-ac9c-4f36-8697-3a4327b86d49",
   "metadata": {},
   "outputs": [
    {
     "name": "stdout",
     "output_type": "stream",
     "text": [
      "[2, 4, 6, 8, 10]\n",
      "[3, 6, 9, 12, 15]\n",
      "[4, 8, 12, 16, 20]\n"
     ]
    }
   ],
   "source": [
    "print(L[0])\n",
    "print(L[1])\n",
    "print(L[2])"
   ]
  },
  {
   "cell_type": "code",
   "execution_count": 60,
   "id": "aff13069-5bd7-4b0a-bff5-efafc16e086d",
   "metadata": {},
   "outputs": [
    {
     "name": "stdout",
     "output_type": "stream",
     "text": [
      "2\n",
      "4\n",
      "6\n",
      "8\n",
      "10\n"
     ]
    }
   ],
   "source": [
    "print(L[0][0])\n",
    "print(L[0][1])\n",
    "print(L[0][2])\n",
    "print(L[0][3])\n",
    "print(L[0][4])"
   ]
  },
  {
   "cell_type": "markdown",
   "id": "9dd789a2-b811-4e16-b7da-8950977e84e8",
   "metadata": {},
   "source": [
    "### Iterate 2D List"
   ]
  },
  {
   "cell_type": "code",
   "execution_count": 61,
   "id": "83b526db-49ae-4cbb-acab-7564a23b1e3d",
   "metadata": {},
   "outputs": [
    {
     "name": "stdout",
     "output_type": "stream",
     "text": [
      "[2, 4, 6, 8, 10]\n",
      "[3, 6, 9, 12, 15]\n",
      "[4, 8, 12, 16, 20]\n"
     ]
    }
   ],
   "source": [
    "L = [[2, 4, 6, 8, 10], [3, 6, 9, 12, 15], [4, 8, 12, 16, 20]] \n",
    "for row in L:\n",
    "    print(row)"
   ]
  },
  {
   "cell_type": "code",
   "execution_count": 62,
   "id": "67badbdb-7669-453b-8938-e79d64939719",
   "metadata": {},
   "outputs": [
    {
     "name": "stdout",
     "output_type": "stream",
     "text": [
      "2 4 6 8 10 \n",
      "3 6 9 12 15 \n",
      "4 8 12 16 20 \n"
     ]
    }
   ],
   "source": [
    "L = [[2, 4, 6, 8, 10], [3, 6, 9, 12, 15], [4, 8, 12, 16, 20]] \n",
    "for row in L:\n",
    "    for col in row:\n",
    "        print(col,end=' ')\n",
    "    print()"
   ]
  },
  {
   "cell_type": "markdown",
   "id": "6413f0d5-b273-401d-8059-6776f77c739e",
   "metadata": {},
   "source": [
    "### Create 1D Array"
   ]
  },
  {
   "cell_type": "code",
   "execution_count": 63,
   "id": "3d5c37cb-966e-40aa-b829-edac058ac032",
   "metadata": {},
   "outputs": [
    {
     "name": "stdout",
     "output_type": "stream",
     "text": [
      "[0, 0, 0, 0, 0]\n"
     ]
    }
   ],
   "source": [
    "# First method to create a 1 D array\n",
    "N = 5\n",
    "arr = [0]*N\n",
    "print(arr)"
   ]
  },
  {
   "cell_type": "code",
   "execution_count": 64,
   "id": "baf89a98-9f36-4382-bccf-77e166995068",
   "metadata": {},
   "outputs": [
    {
     "name": "stdout",
     "output_type": "stream",
     "text": [
      "[0, 0, 0, 0, 0]\n"
     ]
    }
   ],
   "source": [
    "# Second method to create a 1 D array\n",
    "N = 5\n",
    "arr = [0 for i in range(N)]\n",
    "print(arr)"
   ]
  },
  {
   "cell_type": "markdown",
   "id": "64577671-9d88-4e19-85fa-32daa9f4a7a1",
   "metadata": {},
   "source": [
    "### Create 2D Array"
   ]
  },
  {
   "cell_type": "code",
   "execution_count": 65,
   "id": "58ed3586-0657-4eea-872b-b57f76ac0f6e",
   "metadata": {},
   "outputs": [
    {
     "name": "stdout",
     "output_type": "stream",
     "text": [
      "[[0, 0, 0, 0, 0], [0, 0, 0, 0, 0], [0, 0, 0, 0, 0], [0, 0, 0, 0, 0], [0, 0, 0, 0, 0]]\n"
     ]
    }
   ],
   "source": [
    "# Using above first method to create a 2D array\n",
    "rows, cols = (5, 5)\n",
    "arr = [[0]*cols]*rows\n",
    "print(arr)"
   ]
  },
  {
   "cell_type": "code",
   "execution_count": 66,
   "id": "ccff26e5-72a5-4e57-b0b9-43ab88deb13e",
   "metadata": {},
   "outputs": [
    {
     "name": "stdout",
     "output_type": "stream",
     "text": [
      "[[0, 0, 0, 0, 0], [0, 0, 0, 0, 0], [0, 0, 0, 0, 0], [0, 0, 0, 0, 0], [0, 0, 0, 0, 0]]\n"
     ]
    }
   ],
   "source": [
    "# Using above second method to create a 2D array\n",
    "rows, cols = (5, 5)\n",
    "arr = [[0 for i in range(cols)] for j in range(rows)]\n",
    "print(arr)"
   ]
  },
  {
   "cell_type": "code",
   "execution_count": 67,
   "id": "f904be79-c53c-4bcb-bd53-94ede3d3c4a2",
   "metadata": {},
   "outputs": [
    {
     "name": "stdout",
     "output_type": "stream",
     "text": [
      "[[0, 0, 0, 0, 0], [0, 0, 0, 0, 0], [0, 0, 0, 0, 0], [0, 0, 0, 0, 0], [0, 0, 0, 0, 0]]\n"
     ]
    }
   ],
   "source": [
    "rows, cols = (5, 5)\n",
    "arr=[]\n",
    "for i in range(rows):\n",
    "    col = []\n",
    "    for j in range(cols):\n",
    "        col.append(0)\n",
    "    arr.append(col)\n",
    "print(arr)"
   ]
  },
  {
   "cell_type": "markdown",
   "id": "72564cc6-f308-4c7e-b490-029f7cd19208",
   "metadata": {},
   "source": [
    "### Adding a sublist using append method"
   ]
  },
  {
   "cell_type": "code",
   "execution_count": 68,
   "id": "6f839f05-cf38-4952-aad2-e2530997f399",
   "metadata": {},
   "outputs": [
    {
     "name": "stdout",
     "output_type": "stream",
     "text": [
      "[[2, 4, 6, 8, 10], [3, 6, 9, 12, 15], [4, 8, 12, 16, 20], [5, 10, 15, 20, 25]]\n"
     ]
    }
   ],
   "source": [
    "a = [[2, 4, 6, 8, 10], [3, 6, 9, 12, 15], [4, 8, 12, 16, 20]] \n",
    "a.append([5, 10, 15, 20, 25]) \n",
    "print(a) "
   ]
  },
  {
   "cell_type": "code",
   "execution_count": 69,
   "id": "242a86c8-32ed-484e-bff7-111e7e095cd4",
   "metadata": {},
   "outputs": [
    {
     "name": "stdout",
     "output_type": "stream",
     "text": [
      "[[2, 4, 6, 8, 10, 12, 14, 16, 18], [3, 6, 9, 12, 15], [4, 8, 12, 16, 20], [5, 10, 15, 20, 25]]\n"
     ]
    }
   ],
   "source": [
    "a[0].extend([12, 14, 16, 18]) \n",
    "print(a)"
   ]
  },
  {
   "cell_type": "code",
   "execution_count": 70,
   "id": "2f0bbf7b-4f68-4d8d-8ae0-b0317d6a886b",
   "metadata": {},
   "outputs": [
    {
     "name": "stdout",
     "output_type": "stream",
     "text": [
      "[[2, 4, 6, 8, 10, 12, 14, 16, 18], [3, 6, 9, 12, 15], [20, 16, 12, 8, 4], [5, 10, 15, 20, 25]]\n"
     ]
    }
   ],
   "source": [
    "a[2].reverse() \n",
    "print(a)"
   ]
  },
  {
   "cell_type": "code",
   "execution_count": null,
   "id": "28c9e0df-2c4c-4863-969a-5867155daa90",
   "metadata": {},
   "outputs": [],
   "source": []
  }
 ],
 "metadata": {
  "kernelspec": {
   "display_name": "Python 3 (ipykernel)",
   "language": "python",
   "name": "python3"
  },
  "language_info": {
   "codemirror_mode": {
    "name": "ipython",
    "version": 3
   },
   "file_extension": ".py",
   "mimetype": "text/x-python",
   "name": "python",
   "nbconvert_exporter": "python",
   "pygments_lexer": "ipython3",
   "version": "3.12.0"
  }
 },
 "nbformat": 4,
 "nbformat_minor": 5
}

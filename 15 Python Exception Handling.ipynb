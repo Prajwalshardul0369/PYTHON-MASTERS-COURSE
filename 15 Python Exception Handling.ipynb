{
 "cells": [
  {
   "cell_type": "markdown",
   "id": "4fb347b3-e8d0-4429-8f9c-76cc6a810aea",
   "metadata": {},
   "source": [
    "## Python - Exceptions Handling"
   ]
  },
  {
   "cell_type": "markdown",
   "id": "02df6df3-0f77-4e7b-ad81-563f174e49f2",
   "metadata": {},
   "source": [
    "Python provides very important features to handle any unexpected error in your Python programs and to add debugging capabilities in them −"
   ]
  },
  {
   "cell_type": "markdown",
   "id": "8bac1386-a31f-4da1-a62d-8a6d97d3ef72",
   "metadata": {},
   "source": [
    "### Here is a list all the standard Exceptions available in Python −"
   ]
  },
  {
   "cell_type": "markdown",
   "id": "e71a97c2-3441-43d9-88b1-5fb0e13f26c5",
   "metadata": {},
   "source": [
    "1: Exception\n",
    "\n",
    "* Base class for all exceptions\n",
    "\n",
    "2: StopIteration\n",
    "\n",
    "* Raised when the next() method of an iterator does not point to any object.\n",
    "\n",
    "3: SystemExit\n",
    "\n",
    "* Raised by the sys.exit() function.\n",
    "\n",
    "4: StandardError\n",
    "\n",
    "* Base class for all built-in exceptions except StopIteration and SystemExit.\n",
    "\n",
    "5: ArithmeticError\n",
    "\n",
    "* Base class for all errors that occur for numeric calculation.\n",
    "\n",
    "6: OverflowError\n",
    "\n",
    "* Raised when a calculation exceeds maximum limit for a numeric type.\n",
    "\n",
    "7: FloatingPointError\n",
    "\n",
    "* Raised when a floating point calculation fails.\n",
    "\n",
    "8: ZeroDivisionError\n",
    "\n",
    "* Raised when division or modulo by zero takes place for all numeric types.\n",
    "\n",
    "9: AssertionError\n",
    "\n",
    "* Raised in case of failure of the Assert statement.\n",
    "\n",
    "10: AttributeError\n",
    "\n",
    "* Raised in case of failure of attribute reference or assignment.\n",
    "\n",
    "11: EOFError\n",
    "\n",
    "* Raised when there is no input from either the raw_input() or input() function and the end of file is reached.\n",
    "\n",
    "12: ImportError\n",
    "\n",
    "* Raised when an import statement fails.\n",
    "\n",
    "13: KeyboardInterrupt\n",
    "\n",
    "* Raised when the user interrupts program execution, usually by pressing Ctrl+c.\n",
    "\n",
    "14: LookupError\n",
    "\n",
    "* Base class for all lookup errors.\n",
    "\n",
    "15: IndexError\n",
    "\n",
    "* Raised when an index is not found in a sequence.\n",
    "\n",
    "16: KeyError\n",
    "\n",
    "* Raised when the specified key is not found in the dictionary.\n",
    "\n",
    "17: NameError\n",
    "\n",
    "* Raised when an identifier is not found in the local or global namespace.\n",
    "\n",
    "18: UnboundLocalError\n",
    "\n",
    "* Raised when trying to access a local variable in a function or method but no value has been assigned to it.\n",
    "\n",
    "19: EnvironmentError\n",
    "\n",
    "* Base class for all exceptions that occur outside the Python environment.\n",
    "\n",
    "20: IOError\n",
    "\n",
    "* Raised when an input/ output operation fails, such as the print statement or the open() function when trying to open a file that does not exist.\n",
    "\n",
    "21: OSError\n",
    "\n",
    "* Raised for operating system-related errors.\n",
    "\n",
    "22: SyntaxError\n",
    "\n",
    "* Raised when there is an error in Python syntax.\n",
    "\n",
    "23: IndentationError\n",
    "\n",
    "* Raised when indentation is not specified properly.\n",
    "\n",
    "24: SystemError\n",
    "\n",
    "* Raised when the interpreter finds an internal problem, but when this error is encountered the Python interpreter does not exit.\n",
    "\n",
    "25: SystemExit\n",
    "\n",
    "* Raised when Python interpreter is quit by using the sys.exit() function. If not handled in the code, causes the interpreter to exit.\n",
    "\n",
    "26: TypeError\n",
    "\n",
    "* Raised when an operation or function is attempted that is invalid for the specified data type.\n",
    "\n",
    "27: ValueError\n",
    "\n",
    "* Raised when the built-in function for a data type has the valid type of arguments, but the arguments have invalid values specified.\n",
    "\n",
    "28: RuntimeError\n",
    "\n",
    "* Raised when a generated error does not fall into any category.\n",
    "\n",
    "29: NotImplementedError\n",
    "\n",
    "* Raised when an abstract method that needs to be implemented in an inherited class is not actually implemented."
   ]
  },
  {
   "cell_type": "markdown",
   "id": "bd14aa7f-3acb-49cd-a3bf-1526a92aa3cd",
   "metadata": {},
   "source": [
    "### What is Exception?\n",
    "An exception is an event, which occurs during the execution of a program that disrupts the normal flow of the program's instructions. In general, when a Python script encounters a situation that it cannot cope with, it raises an exception. An exception is a Python object that represents an error.\n",
    "\n",
    "When a Python script raises an exception, it must either handle the exception immediately otherwise it terminates and quits.\n",
    "\n",
    "### Syntax\n",
    "try: You do your operations here; ...................... except ExceptionI: If there is ExceptionI, then execute this block. except ExceptionII: If there is ExceptionII, then execute this block. ...................... else: If there is no exception then execute this block.\n",
    "\n",
    "### Exception 1: FileNotFoundError:¶"
   ]
  },
  {
   "cell_type": "code",
   "execution_count": 1,
   "id": "a6b695ff-55ea-44aa-9d76-eee2db2053c7",
   "metadata": {
    "tags": []
   },
   "outputs": [
    {
     "ename": "FileNotFoundError",
     "evalue": "[Errno 2] No such file or directory: 'machinelearning.txt'",
     "output_type": "error",
     "traceback": [
      "\u001b[1;31m---------------------------------------------------------------------------\u001b[0m",
      "\u001b[1;31mFileNotFoundError\u001b[0m                         Traceback (most recent call last)",
      "Cell \u001b[1;32mIn[1], line 1\u001b[0m\n\u001b[1;32m----> 1\u001b[0m fo \u001b[38;5;241m=\u001b[39m \u001b[38;5;28mopen\u001b[39m (\u001b[38;5;124m'\u001b[39m\u001b[38;5;124mmachinelearning.txt\u001b[39m\u001b[38;5;124m'\u001b[39m,\u001b[38;5;124m'\u001b[39m\u001b[38;5;124mr\u001b[39m\u001b[38;5;124m'\u001b[39m)\n",
      "File \u001b[1;32mC:\\ProgramData\\anaconda3\\Lib\\site-packages\\IPython\\core\\interactiveshell.py:286\u001b[0m, in \u001b[0;36m_modified_open\u001b[1;34m(file, *args, **kwargs)\u001b[0m\n\u001b[0;32m    279\u001b[0m \u001b[38;5;28;01mif\u001b[39;00m file \u001b[38;5;129;01min\u001b[39;00m {\u001b[38;5;241m0\u001b[39m, \u001b[38;5;241m1\u001b[39m, \u001b[38;5;241m2\u001b[39m}:\n\u001b[0;32m    280\u001b[0m     \u001b[38;5;28;01mraise\u001b[39;00m \u001b[38;5;167;01mValueError\u001b[39;00m(\n\u001b[0;32m    281\u001b[0m         \u001b[38;5;124mf\u001b[39m\u001b[38;5;124m\"\u001b[39m\u001b[38;5;124mIPython won\u001b[39m\u001b[38;5;124m'\u001b[39m\u001b[38;5;124mt let you open fd=\u001b[39m\u001b[38;5;132;01m{\u001b[39;00mfile\u001b[38;5;132;01m}\u001b[39;00m\u001b[38;5;124m by default \u001b[39m\u001b[38;5;124m\"\u001b[39m\n\u001b[0;32m    282\u001b[0m         \u001b[38;5;124m\"\u001b[39m\u001b[38;5;124mas it is likely to crash IPython. If you know what you are doing, \u001b[39m\u001b[38;5;124m\"\u001b[39m\n\u001b[0;32m    283\u001b[0m         \u001b[38;5;124m\"\u001b[39m\u001b[38;5;124myou can use builtins\u001b[39m\u001b[38;5;124m'\u001b[39m\u001b[38;5;124m open.\u001b[39m\u001b[38;5;124m\"\u001b[39m\n\u001b[0;32m    284\u001b[0m     )\n\u001b[1;32m--> 286\u001b[0m \u001b[38;5;28;01mreturn\u001b[39;00m io_open(file, \u001b[38;5;241m*\u001b[39margs, \u001b[38;5;241m*\u001b[39m\u001b[38;5;241m*\u001b[39mkwargs)\n",
      "\u001b[1;31mFileNotFoundError\u001b[0m: [Errno 2] No such file or directory: 'machinelearning.txt'"
     ]
    }
   ],
   "source": [
    "fo = open ('machinelearning.txt','r')"
   ]
  },
  {
   "cell_type": "code",
   "execution_count": null,
   "id": "9df4beca-5d32-4331-ab00-e8fde9084a8b",
   "metadata": {
    "tags": []
   },
   "outputs": [],
   "source": [
    "try:\n",
    "    fo = open('machinelearning.txt','r')\n",
    "except FileNotFoundError:\n",
    "    print(\"File Not Found\")"
   ]
  },
  {
   "cell_type": "markdown",
   "id": "cb76bef0-5a16-41e4-8fe2-fd5358771bd8",
   "metadata": {},
   "source": [
    "### Exception 2: ZeroDivisionError:"
   ]
  },
  {
   "cell_type": "code",
   "execution_count": 2,
   "id": "c83701d6-d46e-4b09-a126-f065edaf61d2",
   "metadata": {
    "tags": []
   },
   "outputs": [
    {
     "ename": "ZeroDivisionError",
     "evalue": "division by zero",
     "output_type": "error",
     "traceback": [
      "\u001b[1;31m---------------------------------------------------------------------------\u001b[0m",
      "\u001b[1;31mZeroDivisionError\u001b[0m                         Traceback (most recent call last)",
      "Cell \u001b[1;32mIn[2], line 1\u001b[0m\n\u001b[1;32m----> 1\u001b[0m \u001b[38;5;241m23\u001b[39m\u001b[38;5;241m/\u001b[39m\u001b[38;5;241m0\u001b[39m\n",
      "\u001b[1;31mZeroDivisionError\u001b[0m: division by zero"
     ]
    }
   ],
   "source": [
    "23/0\n"
   ]
  },
  {
   "cell_type": "code",
   "execution_count": 3,
   "id": "0eda2d74-b16b-4f52-947f-6233c1c51dc9",
   "metadata": {
    "tags": []
   },
   "outputs": [
    {
     "name": "stdout",
     "output_type": "stream",
     "text": [
      "Number Can't be divisible by Zero\n"
     ]
    }
   ],
   "source": [
    "try:\n",
    "    23/0\n",
    "except ZeroDivisionError:\n",
    "    print(\"Number Can't be divisible by Zero\")"
   ]
  },
  {
   "cell_type": "markdown",
   "id": "0e8f6f2b-be39-4c21-b312-7d22a34e1a4c",
   "metadata": {},
   "source": [
    "### Exception 3: ModuleNotFoundError"
   ]
  },
  {
   "cell_type": "code",
   "execution_count": 4,
   "id": "09a38af2-8099-4cea-b3f7-6901ca7d0d20",
   "metadata": {
    "tags": []
   },
   "outputs": [
    {
     "ename": "ModuleNotFoundError",
     "evalue": "No module named 'machinelearning'",
     "output_type": "error",
     "traceback": [
      "\u001b[1;31m---------------------------------------------------------------------------\u001b[0m",
      "\u001b[1;31mModuleNotFoundError\u001b[0m                       Traceback (most recent call last)",
      "Cell \u001b[1;32mIn[4], line 1\u001b[0m\n\u001b[1;32m----> 1\u001b[0m \u001b[38;5;28;01mimport\u001b[39;00m \u001b[38;5;21;01mmachinelearning\u001b[39;00m\n",
      "\u001b[1;31mModuleNotFoundError\u001b[0m: No module named 'machinelearning'"
     ]
    }
   ],
   "source": [
    "import machinelearning"
   ]
  },
  {
   "cell_type": "code",
   "execution_count": 5,
   "id": "8777452c-28d4-4f4e-a17c-bc9b81d7b7f7",
   "metadata": {
    "tags": []
   },
   "outputs": [
    {
     "name": "stdout",
     "output_type": "stream",
     "text": [
      "Module not Found\n"
     ]
    }
   ],
   "source": [
    "try:\n",
    "    import machinelearning\n",
    "    \n",
    "except ModuleNotFoundError:\n",
    "    print(\"Module not Found\")"
   ]
  },
  {
   "cell_type": "markdown",
   "id": "a71c0492-c883-45cf-94b9-14ce4bc0ff5e",
   "metadata": {},
   "source": [
    "### Handle Multiple Exceptions"
   ]
  },
  {
   "cell_type": "code",
   "execution_count": 6,
   "id": "f314d338-0724-414a-afd6-8f630a1e7047",
   "metadata": {
    "tags": []
   },
   "outputs": [
    {
     "name": "stdout",
     "output_type": "stream",
     "text": [
      "Module not Found\n"
     ]
    }
   ],
   "source": [
    "try:\n",
    "    import machinelearning\n",
    "    \n",
    "except FileNotFoundError:\n",
    "    print(\"File Not Found\")\n",
    "    \n",
    "except ZeroDivisionError:\n",
    "    print(\"Number Can't be divisible by Zero\")\n",
    "    \n",
    "except ModuleNotFoundError:\n",
    "    print(\"Module not Found\")"
   ]
  },
  {
   "cell_type": "code",
   "execution_count": 7,
   "id": "95059b60-2b00-4897-a3d8-31031ff0886c",
   "metadata": {
    "tags": []
   },
   "outputs": [
    {
     "name": "stdout",
     "output_type": "stream",
     "text": [
      "Number Can't be divisible by Zero\n"
     ]
    }
   ],
   "source": [
    "try:\n",
    "    import random as r\n",
    "    import time\n",
    "    n = 10/0\n",
    "    \n",
    "except FileNotFoundError:\n",
    "    print(\"File Not Found\")\n",
    "    \n",
    "except ZeroDivisionError:\n",
    "    print(\"Number Can't be divisible by Zero\")\n",
    "    \n",
    "except ModuleNotFoundError:\n",
    "    print(\"Module not Found\")"
   ]
  },
  {
   "cell_type": "code",
   "execution_count": 8,
   "id": "6e61fa0c-077c-4735-ba42-91d07ce031bc",
   "metadata": {
    "tags": []
   },
   "outputs": [],
   "source": [
    "try:\n",
    "    import random as r\n",
    "    import time\n",
    "    n = 10/4\n",
    "    open('hello.txt','r')\n",
    "    \n",
    "except FileNotFoundError:\n",
    "    print(\"File Not Found\")\n",
    "    \n",
    "except ZeroDivisionError:\n",
    "    print(\"Number Can't be divisible by Zero\")\n",
    "    \n",
    "except ModuleNotFoundError:\n",
    "    print(\"Module not Found\")"
   ]
  },
  {
   "cell_type": "markdown",
   "id": "534b84bf-e260-4755-a5e1-b757864621ea",
   "metadata": {},
   "source": [
    "### If no exception found"
   ]
  },
  {
   "cell_type": "code",
   "execution_count": 9,
   "id": "aa3c5138-f136-45b7-9f35-e2a7992f0266",
   "metadata": {
    "tags": []
   },
   "outputs": [
    {
     "name": "stdout",
     "output_type": "stream",
     "text": [
      "No Exception Found, Program Execute Successfully\n"
     ]
    }
   ],
   "source": [
    "try:\n",
    "    import random as r\n",
    "    import time\n",
    "    n = 10/4\n",
    "    open('hello.txt','w')\n",
    "    \n",
    "except FileNotFoundError:\n",
    "    print(\"File Not Found\")\n",
    "    \n",
    "except ZeroDivisionError:\n",
    "    print(\"Number Can't be divisible by Zero\")\n",
    "    \n",
    "except ModuleNotFoundError:\n",
    "    print(\"Module not Found\")\n",
    "\n",
    "else:\n",
    "    print(\"No Exception Found, Program Execute Successfully\")"
   ]
  },
  {
   "cell_type": "code",
   "execution_count": null,
   "id": "52fb3419-1033-4ccd-8255-b2f32069f697",
   "metadata": {},
   "outputs": [],
   "source": []
  },
  {
   "cell_type": "code",
   "execution_count": null,
   "id": "5035fa27-3618-4c36-a56b-ea41a776ec03",
   "metadata": {},
   "outputs": [],
   "source": []
  }
 ],
 "metadata": {
  "kernelspec": {
   "display_name": "Python 3 (ipykernel)",
   "language": "python",
   "name": "python3"
  },
  "language_info": {
   "codemirror_mode": {
    "name": "ipython",
    "version": 3
   },
   "file_extension": ".py",
   "mimetype": "text/x-python",
   "name": "python",
   "nbconvert_exporter": "python",
   "pygments_lexer": "ipython3",
   "version": "3.11.5"
  }
 },
 "nbformat": 4,
 "nbformat_minor": 5
}

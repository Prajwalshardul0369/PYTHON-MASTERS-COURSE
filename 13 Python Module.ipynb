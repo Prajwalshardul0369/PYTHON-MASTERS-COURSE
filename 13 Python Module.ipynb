{
 "cells": [
  {
   "cell_type": "markdown",
   "id": "e44ac92e-81a4-4671-a487-c07b2bc1ce3f",
   "metadata": {},
   "source": [
    "## What is a Module?\n",
    "Consider a module to be the same as a code library. A file containing a set of functions you want to include in your application.\n",
    "\n",
    "### Create a Module\n",
    "* To create a module just save the code you want in a file with the file extension .py"
   ]
  },
  {
   "cell_type": "code",
   "execution_count": 1,
   "id": "e5ec9a78-d1c5-4507-a6a2-1b6c23d4dcec",
   "metadata": {},
   "outputs": [],
   "source": [
    "#save this code in codex.py file \n",
    "def function (name):\n",
    "   print(\"welcome to python master course..! : \"+name)"
   ]
  },
  {
   "cell_type": "markdown",
   "id": "d84b5e79-7efe-4a11-80e5-c0bd3a2390ba",
   "metadata": {},
   "source": [
    "##### Note: Save this code in a file named codex.py\n",
    "\n",
    "* Import the module named itronix, and call the function:"
   ]
  },
  {
   "cell_type": "code",
   "execution_count": 3,
   "id": "6465f9d6-d68b-4511-96da-af90ca4cded3",
   "metadata": {},
   "outputs": [
    {
     "name": "stdout",
     "output_type": "stream",
     "text": [
      "Hello,  prajwal\n"
     ]
    }
   ],
   "source": [
    "import codex as cd\n",
    "cd.function(\" prajwal\")"
   ]
  },
  {
   "cell_type": "markdown",
   "id": "0cdb81c9-03b5-4498-aed4-8b92520e34c4",
   "metadata": {},
   "source": [
    "##### Note: When using a function from a module, use the syntax: module_name.function_name."
   ]
  },
  {
   "cell_type": "markdown",
   "id": "7e927d5c-d0b2-42eb-8e92-f54a329e2a78",
   "metadata": {},
   "source": [
    "### Variables in Module\n",
    "* Import the module named itronix, and access the student dictionary:"
   ]
  },
  {
   "cell_type": "code",
   "execution_count": 4,
   "id": "e63d936b-4731-47f9-aada-e7784d189739",
   "metadata": {},
   "outputs": [],
   "source": [
    "#Save this code in master.py file\n",
    "student = {\n",
    "  \"name\": \"Keisha\",\n",
    "  \"age\": 26,\n",
    "  \"country\": \"India\"}\n"
   ]
  },
  {
   "cell_type": "code",
   "execution_count": 5,
   "id": "e5d8d989-1a5c-44b6-90c6-260a4d3926ac",
   "metadata": {},
   "outputs": [
    {
     "data": {
      "text/plain": [
       "'Keisha'"
      ]
     },
     "execution_count": 5,
     "metadata": {},
     "output_type": "execute_result"
    }
   ],
   "source": [
    "import master as ms\n",
    "ms.student['name']"
   ]
  },
  {
   "cell_type": "markdown",
   "id": "5edddf20-8bf7-43a2-b350-d895a9533635",
   "metadata": {},
   "source": [
    "### Naming a Module\n",
    "* You can name the module file whatever you like, but it must have the file extension .py\n",
    "### Re-naming a Module\n",
    "* You can create an alias when you import a module, by using the as keyword:"
   ]
  },
  {
   "cell_type": "code",
   "execution_count": 6,
   "id": "bdd5c38d-b7b8-4d93-a8c5-7b3ad0b743be",
   "metadata": {},
   "outputs": [
    {
     "data": {
      "text/plain": [
       "'Keisha'"
      ]
     },
     "execution_count": 6,
     "metadata": {},
     "output_type": "execute_result"
    }
   ],
   "source": [
    "import master as ms\n",
    "ms.student['name']"
   ]
  },
  {
   "cell_type": "code",
   "execution_count": 7,
   "id": "59762747-55bc-4408-8482-f1b6340fdcc0",
   "metadata": {},
   "outputs": [
    {
     "name": "stdout",
     "output_type": "stream",
     "text": [
      "Hello, codex \n"
     ]
    }
   ],
   "source": [
    "cd.function(\"codex \")"
   ]
  },
  {
   "cell_type": "markdown",
   "id": "10afa988-443a-4257-910e-3e25f38ddfcc",
   "metadata": {},
   "source": [
    "### Built-in Module"
   ]
  },
  {
   "cell_type": "code",
   "execution_count": 8,
   "id": "0a040389-cb0e-4aaa-96a7-567ef1e0236d",
   "metadata": {},
   "outputs": [
    {
     "name": "stdout",
     "output_type": "stream",
     "text": [
      "Windows\n"
     ]
    }
   ],
   "source": [
    "import platform\n",
    "\n",
    "x = platform.system()\n",
    "print(x)"
   ]
  },
  {
   "cell_type": "markdown",
   "id": "8873417d-014a-4e23-8da6-0cfdcb24b56b",
   "metadata": {},
   "source": [
    "#### Here, we define two functions factorial and sum of digit in same module itronix.py"
   ]
  },
  {
   "cell_type": "code",
   "execution_count": 9,
   "id": "ac1dbd92-e44f-4088-b4ae-057333fa968a",
   "metadata": {
    "tags": []
   },
   "outputs": [],
   "source": [
    "def fact(n):\n",
    "    f=1\n",
    "    for i in range(1,n+1):\n",
    "        f=f*i\n",
    "    return f\n",
    "\n",
    "def sod(n):\n",
    "    mod=0\n",
    "    while(n!=0):\n",
    "        m=n%10\n",
    "        n=n//10\n",
    "        mod=mod+m\n",
    "    return mod"
   ]
  },
  {
   "cell_type": "code",
   "execution_count": 10,
   "id": "7e3529e3-c99d-4805-a6d9-895cc522a2a5",
   "metadata": {
    "tags": []
   },
   "outputs": [
    {
     "name": "stdout",
     "output_type": "stream",
     "text": [
      "120\n",
      "6\n"
     ]
    }
   ],
   "source": [
    "import codexx as cdx\n",
    "\n",
    "print(cdx.fact(5))\n",
    "print(cdx.sod(123))"
   ]
  },
  {
   "cell_type": "markdown",
   "id": "8838b821-2ec4-4657-a92f-f07a73bfead2",
   "metadata": {},
   "source": [
    "### we can also import module as"
   ]
  },
  {
   "cell_type": "code",
   "execution_count": 11,
   "id": "bdbabd03-ea30-4c3d-b739-f292291b81b1",
   "metadata": {
    "tags": []
   },
   "outputs": [
    {
     "name": "stdout",
     "output_type": "stream",
     "text": [
      "120\n",
      "6\n"
     ]
    }
   ],
   "source": [
    "import codexx as c\n",
    "print(c.fact(5))\n",
    "print(c.sod(123))"
   ]
  },
  {
   "cell_type": "markdown",
   "id": "4357d18d-b6ad-433c-93d7-456e7675668c",
   "metadata": {},
   "source": [
    "### Import particular function from module"
   ]
  },
  {
   "cell_type": "code",
   "execution_count": 12,
   "id": "afbc5142-76a7-48cd-b705-6329d16caabd",
   "metadata": {
    "tags": []
   },
   "outputs": [
    {
     "name": "stdout",
     "output_type": "stream",
     "text": [
      "120\n",
      "6\n"
     ]
    }
   ],
   "source": [
    "from codexx import fact,sod \n",
    "print(fact(5))\n",
    "print(sod(123))"
   ]
  },
  {
   "cell_type": "markdown",
   "id": "db705d54-1598-45d3-bd3d-54964ead4dd4",
   "metadata": {},
   "source": [
    "### import all the functions from module"
   ]
  },
  {
   "cell_type": "code",
   "execution_count": 13,
   "id": "4ca4a7e4-8a61-41cc-84aa-f8893793d90c",
   "metadata": {
    "tags": []
   },
   "outputs": [
    {
     "name": "stdout",
     "output_type": "stream",
     "text": [
      "120\n",
      "6\n"
     ]
    }
   ],
   "source": [
    "from codexx import *\n",
    "print(fact(5))\n",
    "print(sod(123))"
   ]
  },
  {
   "cell_type": "code",
   "execution_count": null,
   "id": "b5e9d31d-7bf2-4054-93a6-5ab980e2d7d1",
   "metadata": {},
   "outputs": [],
   "source": []
  }
 ],
 "metadata": {
  "kernelspec": {
   "display_name": "Python 3 (ipykernel)",
   "language": "python",
   "name": "python3"
  },
  "language_info": {
   "codemirror_mode": {
    "name": "ipython",
    "version": 3
   },
   "file_extension": ".py",
   "mimetype": "text/x-python",
   "name": "python",
   "nbconvert_exporter": "python",
   "pygments_lexer": "ipython3",
   "version": "3.11.5"
  }
 },
 "nbformat": 4,
 "nbformat_minor": 5
}

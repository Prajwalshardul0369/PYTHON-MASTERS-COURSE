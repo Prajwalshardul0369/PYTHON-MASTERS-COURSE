{
 "cells": [
  {
   "cell_type": "markdown",
   "id": "f919fe73-70bb-4161-8380-da8613211b62",
   "metadata": {},
   "source": [
    "## Python Dictionary"
   ]
  },
  {
   "cell_type": "markdown",
   "id": "7af8759c-6b8f-4d52-bf19-c49fc8ddd02d",
   "metadata": {},
   "source": [
    "Dictionaries are used to store data values in key:value pairs. A dictionary is a collection which is ordered*, changeable and does not allow duplicates. Dictionaries are written with curly brackets, and have keys and values: {'Key':'Value'}"
   ]
  },
  {
   "cell_type": "markdown",
   "id": "a8e048cb-be00-43f2-af9f-15f2a4c376cf",
   "metadata": {},
   "source": [
    "##### Note:As of Python version 3.7, dictionaries are ordered. In Python 3.6 and earlier, dictionaries are unordered."
   ]
  },
  {
   "cell_type": "code",
   "execution_count": 1,
   "id": "03d92b86-7222-458b-8fbb-c485cc2855ec",
   "metadata": {},
   "outputs": [
    {
     "name": "stdout",
     "output_type": "stream",
     "text": [
      "{}\n"
     ]
    }
   ],
   "source": [
    "D = {}\n",
    "print(D)"
   ]
  },
  {
   "cell_type": "code",
   "execution_count": 3,
   "id": "19e12080-0a81-4cc5-96ca-64dd6e446de6",
   "metadata": {},
   "outputs": [
    {
     "name": "stdout",
     "output_type": "stream",
     "text": [
      "{'Name': 'Kevin', 'Age': 30, 'Marks': 89.78}\n"
     ]
    }
   ],
   "source": [
    "D = {'Name':'Kevin','Age':30,'Marks':89.78}\n",
    "print(D)"
   ]
  },
  {
   "cell_type": "code",
   "execution_count": 4,
   "id": "685ba340-7b20-49bc-ab8c-aee7e8c7e2b1",
   "metadata": {},
   "outputs": [
    {
     "name": "stdout",
     "output_type": "stream",
     "text": [
      "Kevin\n",
      "30\n",
      "89.78\n"
     ]
    }
   ],
   "source": [
    "print(D['Name'])\n",
    "print(D['Age'])\n",
    "print(D['Marks'])"
   ]
  },
  {
   "cell_type": "markdown",
   "id": "b4e2935a-0b27-4964-9555-5e810220c76b",
   "metadata": {},
   "source": [
    "### Duplicates Not Allowed"
   ]
  },
  {
   "cell_type": "markdown",
   "id": "02bf4fad-acff-4d7a-8b2d-aaf71f8e720c",
   "metadata": {},
   "source": [
    "* Dictionaries cannot have two items with the same key and Duplicate values will overwrite existing values:"
   ]
  },
  {
   "cell_type": "code",
   "execution_count": 5,
   "id": "825546ba-b966-45bc-87b3-c1cfbe3ca06b",
   "metadata": {},
   "outputs": [
    {
     "name": "stdout",
     "output_type": "stream",
     "text": [
      "{'Name': 'Kevin', 'Age': 56, 'Marks': 89.78}\n"
     ]
    }
   ],
   "source": [
    "D = {'Name':'Kevin','Age':30,'Marks':89.78,'Age':56}\n",
    "print(D)"
   ]
  },
  {
   "cell_type": "markdown",
   "id": "34475753-de0c-408a-bfff-950635517430",
   "metadata": {},
   "source": [
    "### Dictionary Length and Type"
   ]
  },
  {
   "cell_type": "code",
   "execution_count": 6,
   "id": "aec5c8eb-0015-45b8-aa34-1c3519b53cf1",
   "metadata": {},
   "outputs": [
    {
     "name": "stdout",
     "output_type": "stream",
     "text": [
      "{'Name': 'Kevin', 'Age': 56, 'Marks': 89.78}\n"
     ]
    }
   ],
   "source": [
    "print(D)"
   ]
  },
  {
   "cell_type": "code",
   "execution_count": 7,
   "id": "2f2eed0b-c506-4fb2-afd1-2e881b31443e",
   "metadata": {},
   "outputs": [
    {
     "name": "stdout",
     "output_type": "stream",
     "text": [
      "3\n"
     ]
    }
   ],
   "source": [
    "print(len(D))"
   ]
  },
  {
   "cell_type": "code",
   "execution_count": 8,
   "id": "20be8371-c070-46a9-84b6-79d57fdf3cad",
   "metadata": {},
   "outputs": [
    {
     "name": "stdout",
     "output_type": "stream",
     "text": [
      "<class 'dict'>\n"
     ]
    }
   ],
   "source": [
    "print(type(D))"
   ]
  },
  {
   "cell_type": "markdown",
   "id": "bc0f41a9-5e29-40a1-af22-3145d9ee70a5",
   "metadata": {},
   "source": [
    "### print(type(D))"
   ]
  },
  {
   "cell_type": "markdown",
   "id": "c5ba806d-fc3f-48b5-a917-e1df0801e180",
   "metadata": {},
   "source": [
    "* The values in dictionary items can be of any data type:"
   ]
  },
  {
   "cell_type": "code",
   "execution_count": 9,
   "id": "27b6275b-cbc5-49f7-85e9-b28e4eceb035",
   "metadata": {},
   "outputs": [],
   "source": [
    "D = {\n",
    "  \"brand\": \"Tesla\",\n",
    "  \"electric\": True,\n",
    "  \"year\": 2021,\n",
    "  \"colors\": [\"black\", \"white\", \"red\"]\n",
    "}"
   ]
  },
  {
   "cell_type": "code",
   "execution_count": 10,
   "id": "ac7beee0-55d5-460c-b484-65ce7ecef771",
   "metadata": {},
   "outputs": [
    {
     "name": "stdout",
     "output_type": "stream",
     "text": [
      "{'brand': 'Tesla', 'electric': True, 'year': 2021, 'colors': ['black', 'white', 'red']}\n"
     ]
    }
   ],
   "source": [
    "print(D)"
   ]
  },
  {
   "cell_type": "markdown",
   "id": "f6920ce5-b7c2-45fd-b12a-abf0fcb03c56",
   "metadata": {},
   "source": [
    "### Accessing Items"
   ]
  },
  {
   "cell_type": "code",
   "execution_count": 11,
   "id": "e70a95e2-409c-406a-8743-18cbb88d6d5d",
   "metadata": {},
   "outputs": [
    {
     "name": "stdout",
     "output_type": "stream",
     "text": [
      "{'brand': 'Tesla', 'electric': True, 'year': 2021, 'colors': ['black', 'white', 'red']}\n"
     ]
    }
   ],
   "source": [
    "print(D)"
   ]
  },
  {
   "cell_type": "code",
   "execution_count": 12,
   "id": "65ffef3c-2087-4e9b-8f40-b5d4d677a665",
   "metadata": {},
   "outputs": [
    {
     "name": "stdout",
     "output_type": "stream",
     "text": [
      "Tesla\n"
     ]
    }
   ],
   "source": [
    "print(D['brand'])"
   ]
  },
  {
   "cell_type": "markdown",
   "id": "8e56b755-7512-4900-8d6c-41e8a9f9a1bd",
   "metadata": {},
   "source": [
    "### Get all Keys"
   ]
  },
  {
   "cell_type": "code",
   "execution_count": 13,
   "id": "ab513ac2-d6f2-45e6-9640-57f8b494439f",
   "metadata": {},
   "outputs": [
    {
     "name": "stdout",
     "output_type": "stream",
     "text": [
      "dict_keys(['brand', 'electric', 'year', 'colors'])\n"
     ]
    }
   ],
   "source": [
    "print(D.keys())"
   ]
  },
  {
   "cell_type": "markdown",
   "id": "414f28a1-fe54-43e1-ba74-645e795d25b7",
   "metadata": {},
   "source": [
    "### Get all Values"
   ]
  },
  {
   "cell_type": "code",
   "execution_count": 14,
   "id": "5c3595b2-4adf-4e4d-a249-a99793582b33",
   "metadata": {},
   "outputs": [
    {
     "name": "stdout",
     "output_type": "stream",
     "text": [
      "dict_values(['Tesla', True, 2021, ['black', 'white', 'red']])\n"
     ]
    }
   ],
   "source": [
    "print(D.values())"
   ]
  },
  {
   "cell_type": "markdown",
   "id": "c718a7d1-67b9-4189-abb0-5b4905bf6aad",
   "metadata": {},
   "source": [
    "##### The list of the keys is a view of the dictionary, meaning that any changes done to the dictionary will be reflected in the keys list."
   ]
  },
  {
   "cell_type": "code",
   "execution_count": 15,
   "id": "3d4c6a04-f54a-4a19-b44d-1ddb9d41dcfc",
   "metadata": {},
   "outputs": [
    {
     "name": "stdout",
     "output_type": "stream",
     "text": [
      "dict_keys(['brand', 'electric', 'year'])\n",
      "dict_keys(['brand', 'electric', 'year', 'color'])\n"
     ]
    }
   ],
   "source": [
    "car = {\n",
    "  \"brand\": \"Tesla\",\n",
    "  \"electric\": True,\n",
    "  \"year\": 2021,\n",
    "}\n",
    "x = car.keys()\n",
    "\n",
    "print(x) #before the change\n",
    "\n",
    "car[\"color\"] = \"black\"\n",
    "\n",
    "print(x) #after the change"
   ]
  },
  {
   "cell_type": "markdown",
   "id": "b65e85ea-a592-4af0-9752-bf297f001200",
   "metadata": {},
   "source": [
    "##### Make a change in the original dictionary, and see that the values list gets updated as well:"
   ]
  },
  {
   "cell_type": "code",
   "execution_count": 16,
   "id": "7f4f59a6-5f51-4559-b132-1280f2789e74",
   "metadata": {},
   "outputs": [
    {
     "name": "stdout",
     "output_type": "stream",
     "text": [
      "dict_values(['Tesla', True, 2021])\n",
      "dict_values(['Tesla', True, 2021, 'black'])\n"
     ]
    }
   ],
   "source": [
    "car = {\n",
    "  \"brand\": \"Tesla\",\n",
    "  \"electric\": True,\n",
    "  \"year\": 2021,\n",
    "}\n",
    "x = car.values()\n",
    "\n",
    "print(x) #before the change\n",
    "\n",
    "car[\"color\"] = \"black\"\n",
    "\n",
    "print(x) #after the change"
   ]
  },
  {
   "cell_type": "markdown",
   "id": "8d6946bc-bfc3-4ea0-a54e-ae4acf8216e1",
   "metadata": {},
   "source": [
    "### Get Items"
   ]
  },
  {
   "cell_type": "markdown",
   "id": "350d110d-af00-40dd-9c69-208d55d767bc",
   "metadata": {},
   "source": [
    "* The items() method will return each item in a dictionary, as tuples in a list."
   ]
  },
  {
   "cell_type": "code",
   "execution_count": 17,
   "id": "e5711975-8777-4b48-99c4-117f2a781106",
   "metadata": {},
   "outputs": [
    {
     "name": "stdout",
     "output_type": "stream",
     "text": [
      "dict_items([('brand', 'Tesla'), ('electric', True), ('year', 2021)])\n"
     ]
    }
   ],
   "source": [
    "car = {\n",
    "  \"brand\": \"Tesla\",\n",
    "  \"electric\": True,\n",
    "  \"year\": 2021,\n",
    "}\n",
    "print(car.items())"
   ]
  },
  {
   "cell_type": "markdown",
   "id": "3b772aae-0ba1-4d7e-85d7-47129697d831",
   "metadata": {},
   "source": [
    "##### Make a change in the original dictionary, and see that the items list gets updated as well:"
   ]
  },
  {
   "cell_type": "code",
   "execution_count": 18,
   "id": "49754171-cf69-44f0-b6cc-e999209eef48",
   "metadata": {},
   "outputs": [
    {
     "name": "stdout",
     "output_type": "stream",
     "text": [
      "dict_items([('brand', 'Tesla'), ('electric', True), ('year', 2021)])\n",
      "dict_items([('brand', 'Tesla'), ('electric', True), ('year', 2021), ('color', 'black')])\n"
     ]
    }
   ],
   "source": [
    "car = {\n",
    "  \"brand\": \"Tesla\",\n",
    "  \"electric\": True,\n",
    "  \"year\": 2021,\n",
    "}\n",
    "x = car.items()\n",
    "\n",
    "print(x) #before the change\n",
    "\n",
    "car[\"color\"] = \"black\"\n",
    "\n",
    "print(x) #after the change"
   ]
  },
  {
   "cell_type": "markdown",
   "id": "eeabbfe8-0514-48ea-810c-8d73ba183cf0",
   "metadata": {},
   "source": [
    "### Check if Key Exists"
   ]
  },
  {
   "cell_type": "markdown",
   "id": "28c5c8fb-cda5-449b-b1c7-617343880ac0",
   "metadata": {},
   "source": [
    "* To determine if a specified key is present in a dictionary use the in keyword:"
   ]
  },
  {
   "cell_type": "code",
   "execution_count": 19,
   "id": "fe610995-6f2c-46a9-9f7d-beef6a1884cb",
   "metadata": {},
   "outputs": [
    {
     "name": "stdout",
     "output_type": "stream",
     "text": [
      "Yes, 'brand' is one of the keys in the car dictionary\n"
     ]
    }
   ],
   "source": [
    "car = {\n",
    "  \"brand\": \"Tesla\",\n",
    "  \"electric\": True,\n",
    "  \"year\": 2021,\n",
    "}\n",
    "\n",
    "if \"brand\" in car:\n",
    "    print(\"Yes, 'brand' is one of the keys in the car dictionary\")"
   ]
  },
  {
   "cell_type": "markdown",
   "id": "0f7e8fab-3806-4571-a701-af82120c5d44",
   "metadata": {},
   "source": [
    "### Change Dictionary Items"
   ]
  },
  {
   "cell_type": "code",
   "execution_count": 20,
   "id": "df8d252d-c9f6-49d5-b0c3-1c50343170cb",
   "metadata": {},
   "outputs": [
    {
     "name": "stdout",
     "output_type": "stream",
     "text": [
      "{'brand': 'Tesla', 'electric': True, 'year': 2021, 'color': 'black'}\n"
     ]
    }
   ],
   "source": [
    "car = {\n",
    "  \"brand\": \"Tesla\",\n",
    "  \"electric\": True,\n",
    "  \"year\": 2021,\n",
    "  \"color\": 'black'\n",
    "}\n",
    "print(car)\n"
   ]
  },
  {
   "cell_type": "code",
   "execution_count": 21,
   "id": "1515b676-0bdf-4f97-8501-78bdb96fcc69",
   "metadata": {},
   "outputs": [
    {
     "name": "stdout",
     "output_type": "stream",
     "text": [
      "{'brand': 'Tesla', 'electric': True, 'year': 2021, 'color': 'blue'}\n"
     ]
    }
   ],
   "source": [
    "car['color'] = 'blue'\n",
    "print(car)"
   ]
  },
  {
   "cell_type": "markdown",
   "id": "54ebaa9a-6320-4093-974f-819c7677d859",
   "metadata": {},
   "source": [
    "#### Update the \"year\" of the car by using the update() method:"
   ]
  },
  {
   "cell_type": "code",
   "execution_count": 22,
   "id": "e59dc306-35ed-496c-a962-af8953ff7b58",
   "metadata": {},
   "outputs": [
    {
     "name": "stdout",
     "output_type": "stream",
     "text": [
      "{'brand': 'Tesla', 'electric': True, 'year': 2022, 'color': 'blue'}\n"
     ]
    }
   ],
   "source": [
    "car.update({\"year\": 2022})\n",
    "print(car)"
   ]
  },
  {
   "cell_type": "markdown",
   "id": "deafb7b7-7425-447d-855a-3e1eb5cee36b",
   "metadata": {},
   "source": [
    "### Add Dictionary Items"
   ]
  },
  {
   "cell_type": "code",
   "execution_count": 23,
   "id": "cb7ead5a-2a84-45b9-b6ee-9bea16dfcc12",
   "metadata": {},
   "outputs": [
    {
     "name": "stdout",
     "output_type": "stream",
     "text": [
      "{'brand': 'Tesla', 'electric': True, 'year': 2021}\n"
     ]
    }
   ],
   "source": [
    "car = {\n",
    "  \"brand\": \"Tesla\",\n",
    "  \"electric\": True,\n",
    "  \"year\": 2021,\n",
    "}\n",
    "print(car)"
   ]
  },
  {
   "cell_type": "code",
   "execution_count": 24,
   "id": "fd04c9b9-eda9-4f23-a565-cde42498a2ab",
   "metadata": {},
   "outputs": [
    {
     "name": "stdout",
     "output_type": "stream",
     "text": [
      "{'brand': 'Tesla', 'electric': True, 'year': 2021, 'color': 'black'}\n"
     ]
    }
   ],
   "source": [
    "car['color'] = 'black'\n",
    "print(car)"
   ]
  },
  {
   "cell_type": "markdown",
   "id": "2b8c204e-81f5-4e31-81a1-6958a3f94ecb",
   "metadata": {},
   "source": [
    "### Update Dictionary"
   ]
  },
  {
   "cell_type": "markdown",
   "id": "8bfe2fe9-1952-4763-907d-244796254b03",
   "metadata": {},
   "source": [
    "* The update() method will update the dictionary with the items from a given argument. If the item does not exist, the item will be added.\n",
    "* The argument must be a dictionary, or an iterable object with key:value pairs."
   ]
  },
  {
   "cell_type": "code",
   "execution_count": 25,
   "id": "656a0db8-e977-40ab-9d3e-c359472051c8",
   "metadata": {},
   "outputs": [
    {
     "name": "stdout",
     "output_type": "stream",
     "text": [
      "{'brand': 'Tesla', 'electric': True, 'year': 2021}\n"
     ]
    }
   ],
   "source": [
    "car = {\n",
    "  \"brand\": \"Tesla\",\n",
    "  \"electric\": True,\n",
    "  \"year\": 2021\n",
    "}\n",
    "print(car)"
   ]
  },
  {
   "cell_type": "code",
   "execution_count": 26,
   "id": "71f3b436-3e4d-4e0a-b307-f99fe9f116e1",
   "metadata": {},
   "outputs": [
    {
     "name": "stdout",
     "output_type": "stream",
     "text": [
      "{'brand': 'Tesla', 'electric': True, 'year': 2021, 'color': 'black'}\n"
     ]
    }
   ],
   "source": [
    "car.update({\"color\": \"black\"})\n",
    "print(car)"
   ]
  },
  {
   "cell_type": "markdown",
   "id": "80734cba-9099-49d1-9271-c453bafe35f0",
   "metadata": {},
   "source": [
    "### Remove Dictionary Items"
   ]
  },
  {
   "cell_type": "markdown",
   "id": "e7d74e3e-98d9-40a5-8249-145f1543d2a7",
   "metadata": {},
   "source": [
    "* The pop() method removes the item with the specified key name:"
   ]
  },
  {
   "cell_type": "code",
   "execution_count": 27,
   "id": "3d20413d-17db-47fc-9643-d23cc56a18d4",
   "metadata": {},
   "outputs": [
    {
     "name": "stdout",
     "output_type": "stream",
     "text": [
      "{'brand': 'Tesla', 'electric': True, 'year': 2021, 'color': 'black'}\n"
     ]
    }
   ],
   "source": [
    "print(car)"
   ]
  },
  {
   "cell_type": "code",
   "execution_count": 28,
   "id": "a5df124d-9865-48a0-abed-bcbd5508e6d7",
   "metadata": {},
   "outputs": [
    {
     "name": "stdout",
     "output_type": "stream",
     "text": [
      "{'brand': 'Tesla', 'year': 2021, 'color': 'black'}\n"
     ]
    }
   ],
   "source": [
    "car.pop('electric')\n",
    "print(car)"
   ]
  },
  {
   "cell_type": "markdown",
   "id": "4dd1ce37-8ae4-496f-94cb-ff3f3fca42e0",
   "metadata": {},
   "source": [
    "#### The del keyword removes the item with the specified key name:"
   ]
  },
  {
   "cell_type": "code",
   "execution_count": 29,
   "id": "7bc33ce4-93b7-43cd-8685-c191477a7834",
   "metadata": {},
   "outputs": [
    {
     "name": "stdout",
     "output_type": "stream",
     "text": [
      "{'brand': 'Tesla', 'year': 2021, 'color': 'black'}\n"
     ]
    }
   ],
   "source": [
    "print(car)"
   ]
  },
  {
   "cell_type": "code",
   "execution_count": 30,
   "id": "6e4637da-1762-435a-a600-38dcd1d5bea8",
   "metadata": {},
   "outputs": [
    {
     "name": "stdout",
     "output_type": "stream",
     "text": [
      "{'brand': 'Tesla', 'color': 'black'}\n"
     ]
    }
   ],
   "source": [
    "del car['year']\n",
    "print(car)"
   ]
  },
  {
   "cell_type": "markdown",
   "id": "36eafdcd-f35c-4111-a391-8093b1e48f5b",
   "metadata": {},
   "source": [
    "##### The del keyword can also delete the dictionary completely:"
   ]
  },
  {
   "cell_type": "code",
   "execution_count": 34,
   "id": "6498d71c-94e4-4ed6-a289-d66bf2c26d0a",
   "metadata": {},
   "outputs": [
    {
     "ename": "NameError",
     "evalue": "name 'car' is not defined",
     "output_type": "error",
     "traceback": [
      "\u001b[1;31m---------------------------------------------------------------------------\u001b[0m",
      "\u001b[1;31mNameError\u001b[0m                                 Traceback (most recent call last)",
      "Cell \u001b[1;32mIn[34], line 1\u001b[0m\n\u001b[1;32m----> 1\u001b[0m \u001b[38;5;28;01mdel\u001b[39;00m \u001b[43mcar\u001b[49m\n\u001b[0;32m      2\u001b[0m \u001b[38;5;28mprint\u001b[39m(car) \u001b[38;5;66;03m# (do not exist)\u001b[39;00m\n",
      "\u001b[1;31mNameError\u001b[0m: name 'car' is not defined"
     ]
    }
   ],
   "source": [
    "del car\n",
    "print(car) # (do not exist)"
   ]
  },
  {
   "cell_type": "markdown",
   "id": "7b67ff0e-5e33-40e4-9fe0-1fdcf0d0baeb",
   "metadata": {},
   "source": [
    "#### The clear() method empties the dictionary:"
   ]
  },
  {
   "cell_type": "code",
   "execution_count": 35,
   "id": "8bd06ede-6479-4463-a830-340f51cc788d",
   "metadata": {},
   "outputs": [
    {
     "name": "stdout",
     "output_type": "stream",
     "text": [
      "{}\n"
     ]
    }
   ],
   "source": [
    "car = {\n",
    "  \"brand\": \"Tesla\",\n",
    "  \"electric\": True,\n",
    "  \"year\": 2021\n",
    "}\n",
    "car.clear()\n",
    "print(car)"
   ]
  },
  {
   "cell_type": "markdown",
   "id": "71bdcd0b-4386-47e6-8685-947ab9323f03",
   "metadata": {},
   "source": [
    "### Loop Through a Dictionary"
   ]
  },
  {
   "cell_type": "markdown",
   "id": "018cb4a1-d632-42e5-802b-21eb79b88e40",
   "metadata": {},
   "source": [
    "* You can loop through a dictionary by using a for loop.\n",
    "* When looping through a dictionary, the return value are the keys of the dictionary, but there are methods to return the values as well."
   ]
  },
  {
   "cell_type": "code",
   "execution_count": 36,
   "id": "0387c847-9be5-4081-a9dd-cd71eaf1e210",
   "metadata": {},
   "outputs": [],
   "source": [
    "car = {\n",
    "  \"brand\": \"Tesla\",\n",
    "  \"electric\": True,\n",
    "  \"year\": 2021\n",
    "}"
   ]
  },
  {
   "cell_type": "code",
   "execution_count": 37,
   "id": "e57f4ae7-9e92-4275-87fe-9b87fe07d222",
   "metadata": {},
   "outputs": [
    {
     "name": "stdout",
     "output_type": "stream",
     "text": [
      "brand\n",
      "electric\n",
      "year\n"
     ]
    }
   ],
   "source": [
    "for i in car:\n",
    "    print(i)"
   ]
  },
  {
   "cell_type": "markdown",
   "id": "d72641d4-7259-4e04-92fa-29f460bb6250",
   "metadata": {},
   "source": [
    "#### Print all values in the dictionary, one by one:"
   ]
  },
  {
   "cell_type": "code",
   "execution_count": 38,
   "id": "ca348cdf-b7a2-4905-9a7f-bd85fb8f8eed",
   "metadata": {},
   "outputs": [
    {
     "name": "stdout",
     "output_type": "stream",
     "text": [
      "Tesla\n",
      "True\n",
      "2021\n"
     ]
    }
   ],
   "source": [
    "for i in car:\n",
    "    print(car[i])"
   ]
  },
  {
   "cell_type": "markdown",
   "id": "eb10bfdf-d715-4338-8371-37a349e79b67",
   "metadata": {},
   "source": [
    "#### You can also use the values() method to return values of a dictionary:"
   ]
  },
  {
   "cell_type": "code",
   "execution_count": 39,
   "id": "dc2f5546-c51e-4e67-8ca7-6059979009ca",
   "metadata": {},
   "outputs": [
    {
     "name": "stdout",
     "output_type": "stream",
     "text": [
      "Tesla\n",
      "True\n",
      "2021\n"
     ]
    }
   ],
   "source": [
    "for i in car.values():\n",
    "    print(i)"
   ]
  },
  {
   "cell_type": "markdown",
   "id": "e56095e7-ed0c-49cc-bba1-783a07d8421b",
   "metadata": {},
   "source": [
    "#### You can use the keys() method to return the keys of a dictionary:"
   ]
  },
  {
   "cell_type": "code",
   "execution_count": 40,
   "id": "f4049794-a6a5-4738-8712-b4cf3fac1f35",
   "metadata": {},
   "outputs": [
    {
     "name": "stdout",
     "output_type": "stream",
     "text": [
      "brand\n",
      "electric\n",
      "year\n"
     ]
    }
   ],
   "source": [
    "for i in car.keys():\n",
    "    print(i)"
   ]
  },
  {
   "cell_type": "markdown",
   "id": "b3ca2f9b-5919-4eaf-b435-90c4a4f91f73",
   "metadata": {},
   "source": [
    "#### Loop through both keys and values, by using the items() method:"
   ]
  },
  {
   "cell_type": "code",
   "execution_count": 41,
   "id": "93b7e156-bdf3-4cb1-968e-7620154cee5b",
   "metadata": {},
   "outputs": [
    {
     "name": "stdout",
     "output_type": "stream",
     "text": [
      "('brand', 'Tesla')\n",
      "('electric', True)\n",
      "('year', 2021)\n"
     ]
    }
   ],
   "source": [
    "for i in car.items():\n",
    "    print(i)"
   ]
  },
  {
   "cell_type": "code",
   "execution_count": 42,
   "id": "d24e763b-9d00-4e05-81ed-3f15dd826a9b",
   "metadata": {},
   "outputs": [
    {
     "name": "stdout",
     "output_type": "stream",
     "text": [
      "brand Tesla\n",
      "electric True\n",
      "year 2021\n"
     ]
    }
   ],
   "source": [
    "for i,j in car.items():\n",
    "    print(i,j)"
   ]
  },
  {
   "cell_type": "markdown",
   "id": "7b07783d-0b56-4021-90d2-80aa3f85614c",
   "metadata": {},
   "source": [
    "### Copy a Dictionary"
   ]
  },
  {
   "cell_type": "markdown",
   "id": "bf0855d4-14b1-4929-b227-3fe71f1146bd",
   "metadata": {},
   "source": [
    "* You cannot copy a dictionary simply by typing dict2 = dict1, because: dict2 will only be a reference to dict1, and changes made in dict1 will automatically also be made in dict2.\n",
    "* There are ways to make a copy, one way is to use the built-in Dictionary method copy()."
   ]
  },
  {
   "cell_type": "code",
   "execution_count": 43,
   "id": "6ce0dec3-b413-4cee-875a-46ed7f31da7f",
   "metadata": {},
   "outputs": [
    {
     "name": "stdout",
     "output_type": "stream",
     "text": [
      "{'brand': 'Tesla', 'electric': True, 'year': 2021}\n",
      "{'brand': 'Tesla', 'electric': True, 'year': 2021}\n"
     ]
    }
   ],
   "source": [
    "car = {\n",
    "  \"brand\": \"Tesla\",\n",
    "  \"electric\": True,\n",
    "  \"year\": 2021\n",
    "}\n",
    "\n",
    "car2 = car\n",
    "print(car)\n",
    "print(car2)"
   ]
  },
  {
   "cell_type": "code",
   "execution_count": 44,
   "id": "7571e1d2-3f13-4d53-b519-6bb667057976",
   "metadata": {},
   "outputs": [
    {
     "name": "stdout",
     "output_type": "stream",
     "text": [
      "{'brand': 'Tesla', 'electric': True, 'year': 2022}\n",
      "{'brand': 'Tesla', 'electric': True, 'year': 2022}\n"
     ]
    }
   ],
   "source": [
    "car['year']=2022\n",
    "print(car)\n",
    "print(car2)"
   ]
  },
  {
   "cell_type": "code",
   "execution_count": 45,
   "id": "cdbecfa5-9f65-4991-9ca5-9a6672966f78",
   "metadata": {},
   "outputs": [
    {
     "name": "stdout",
     "output_type": "stream",
     "text": [
      "{'brand': 'Tesla', 'electric': True, 'year': 2021}\n",
      "{'brand': 'Tesla', 'electric': True, 'year': 2021}\n"
     ]
    }
   ],
   "source": [
    "car = {\n",
    "  \"brand\": \"Tesla\",\n",
    "  \"electric\": True,\n",
    "  \"year\": 2021\n",
    "}\n",
    "\n",
    "car2 = car.copy()\n",
    "print(car)\n",
    "print(car2)"
   ]
  },
  {
   "cell_type": "code",
   "execution_count": 46,
   "id": "ea139a1e-e4f7-4c58-b298-062a280f971f",
   "metadata": {},
   "outputs": [
    {
     "name": "stdout",
     "output_type": "stream",
     "text": [
      "{'brand': 'Tesla', 'electric': True, 'year': 2022}\n",
      "{'brand': 'Tesla', 'electric': True, 'year': 2021}\n"
     ]
    }
   ],
   "source": [
    "car['year']=2022\n",
    "print(car)\n",
    "print(car2)"
   ]
  },
  {
   "cell_type": "markdown",
   "id": "f421f1a7-b679-43f8-b953-2cc7e097437f",
   "metadata": {},
   "source": [
    "### Nested Dictionary"
   ]
  },
  {
   "cell_type": "code",
   "execution_count": 47,
   "id": "befb38c7-2e10-4b58-8954-91887adc3810",
   "metadata": {},
   "outputs": [],
   "source": [
    "myfamily = {\n",
    "  \"child1\" : {\n",
    "    \"name\" : \"Kevin\",\n",
    "    \"year\" : 2009\n",
    "  },\n",
    "  \"child2\" : {\n",
    "    \"name\" : \"Ronaldo\",\n",
    "    \"year\" : 2011\n",
    "  },\n",
    "  \"child3\" : {\n",
    "    \"name\" : \"Keisha\",\n",
    "    \"year\" : 2013\n",
    "  }\n",
    "}\n"
   ]
  },
  {
   "cell_type": "code",
   "execution_count": 48,
   "id": "f8aadec6-6fa9-43a0-b3cc-984207dd17fb",
   "metadata": {},
   "outputs": [
    {
     "name": "stdout",
     "output_type": "stream",
     "text": [
      "{'child1': {'name': 'Kevin', 'year': 2009}, 'child2': {'name': 'Ronaldo', 'year': 2011}, 'child3': {'name': 'Keisha', 'year': 2013}}\n"
     ]
    }
   ],
   "source": [
    "print(myfamily)"
   ]
  },
  {
   "cell_type": "code",
   "execution_count": 49,
   "id": "4cd7a77b-3ef1-46f4-b871-8fa54d4c83fc",
   "metadata": {},
   "outputs": [
    {
     "name": "stdout",
     "output_type": "stream",
     "text": [
      "{'name': 'Kevin', 'year': 2009}\n",
      "Kevin\n",
      "2009\n"
     ]
    }
   ],
   "source": [
    "print(myfamily['child1'])\n",
    "print(myfamily['child1']['name'])\n",
    "print(myfamily['child1']['year'])"
   ]
  },
  {
   "cell_type": "markdown",
   "id": "ee955a3e-8103-4efe-9a3e-73effa1f2250",
   "metadata": {},
   "source": [
    "### Dictionary of a list"
   ]
  },
  {
   "cell_type": "code",
   "execution_count": 50,
   "id": "14f78875-faac-45c2-add0-8eb6d8635bb4",
   "metadata": {},
   "outputs": [
    {
     "name": "stdout",
     "output_type": "stream",
     "text": [
      "{'Name': ['Kevin', 'Ranaldo', 'Keisha'], 'Age': [31, 33, 34]}\n",
      "['Kevin', 'Ranaldo', 'Keisha']\n",
      "[31, 33, 34]\n",
      "dict_keys(['Name', 'Age'])\n",
      "dict_values([['Kevin', 'Ranaldo', 'Keisha'], [31, 33, 34]])\n",
      "dict_items([('Name', ['Kevin', 'Ranaldo', 'Keisha']), ('Age', [31, 33, 34])])\n"
     ]
    }
   ],
   "source": [
    "d={'Name':['Kevin','Ranaldo','Keisha'],'Age':[31,33,34]}\n",
    "print(d)\n",
    "print(d['Name'])\n",
    "print(d['Age'])\n",
    "print(d.keys())\n",
    "print(d.values())\n",
    "print(d.items())"
   ]
  },
  {
   "cell_type": "code",
   "execution_count": 51,
   "id": "b436cab9-d6eb-43d7-9ea4-6dbfdc234300",
   "metadata": {},
   "outputs": [
    {
     "name": "stdout",
     "output_type": "stream",
     "text": [
      "Name ['Kevin', 'Ranaldo', 'Keisha']\n",
      "Age [31, 33, 34]\n"
     ]
    }
   ],
   "source": [
    "for i,j in d.items():\n",
    "    print(i,j)"
   ]
  },
  {
   "cell_type": "code",
   "execution_count": 52,
   "id": "3bcdbc55-2b2c-480f-9655-e798b6d9d908",
   "metadata": {},
   "outputs": [
    {
     "name": "stdout",
     "output_type": "stream",
     "text": [
      "Key: Name\n",
      "Kevin\n",
      "Ranaldo\n",
      "Keisha\n",
      "\n",
      "Key: Age\n",
      "31\n",
      "33\n",
      "34\n",
      "\n"
     ]
    }
   ],
   "source": [
    "for i,j in d.items():\n",
    "    print(\"Key:\",i)\n",
    "    for val in j:\n",
    "        print(val)\n",
    "    print()"
   ]
  },
  {
   "cell_type": "code",
   "execution_count": null,
   "id": "4e78c80e-af62-46ac-ba09-aad1039939d1",
   "metadata": {},
   "outputs": [],
   "source": []
  }
 ],
 "metadata": {
  "kernelspec": {
   "display_name": "Python 3 (ipykernel)",
   "language": "python",
   "name": "python3"
  },
  "language_info": {
   "codemirror_mode": {
    "name": "ipython",
    "version": 3
   },
   "file_extension": ".py",
   "mimetype": "text/x-python",
   "name": "python",
   "nbconvert_exporter": "python",
   "pygments_lexer": "ipython3",
   "version": "3.12.0"
  }
 },
 "nbformat": 4,
 "nbformat_minor": 5
}

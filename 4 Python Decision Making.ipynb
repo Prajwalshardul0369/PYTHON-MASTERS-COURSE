{
 "cells": [
  {
   "cell_type": "markdown",
   "id": "55b243ea-9ff4-43a7-a82e-817ce07acc97",
   "metadata": {},
   "source": [
    "# Python Decision Making"
   ]
  },
  {
   "cell_type": "markdown",
   "id": "d38c8b7b-51cd-47e4-a875-ebc0f9ad28a4",
   "metadata": {},
   "source": [
    "## Python supports the usual logical conditions from mathematics:"
   ]
  },
  {
   "cell_type": "markdown",
   "id": "ca8c0649-e47b-4def-985c-554020f74db4",
   "metadata": {},
   "source": [
    "* Equals: a == b\n",
    "* Not Equals: a != b\n",
    "* Less than: a < b\n",
    "* Less than or equal to: a <= b\n",
    "* Greater than: a > b\n",
    "* Greater than or equal to: a >= b"
   ]
  },
  {
   "cell_type": "markdown",
   "id": "2f9112d2-c279-412e-a123-bb82cc2f1ca0",
   "metadata": {},
   "source": [
    "These conditions can be used in several ways, most commonly in \"if statements\" and loops.\r\n",
    "An \"if statement\" is written by using the if keyword."
   ]
  },
  {
   "cell_type": "markdown",
   "id": "ffbc3095-69a5-4d55-9f66-87bd7cdc4c77",
   "metadata": {},
   "source": [
    "Python relies on indentation (whitespace at the beginning of a line) to define scope in the code. Other programming languages often use curly-brackets for this purpose."
   ]
  },
  {
   "cell_type": "markdown",
   "id": "98d730c9-0a70-442f-82e5-221b738dd7b9",
   "metadata": {},
   "source": [
    "## Using if Statement "
   ]
  },
  {
   "cell_type": "code",
   "execution_count": 12,
   "id": "02556127-87c5-40c6-b2c3-50a84f586eab",
   "metadata": {},
   "outputs": [
    {
     "name": "stdout",
     "output_type": "stream",
     "text": [
      "Hello\n"
     ]
    }
   ],
   "source": [
    "if 10:\n",
    "    print(\"Hello\")"
   ]
  },
  {
   "cell_type": "code",
   "execution_count": 13,
   "id": "44ad7fa2-118c-41c5-b891-565b6cb3cebc",
   "metadata": {},
   "outputs": [
    {
     "name": "stdout",
     "output_type": "stream",
     "text": [
      "Bye\n"
     ]
    }
   ],
   "source": [
    "if 0:\n",
    "    print(\"Hello\")\n",
    "else:\n",
    "    print(\"Bye\")"
   ]
  },
  {
   "cell_type": "markdown",
   "id": "06179069-1a07-4a29-83d1-5cc0c5eb322b",
   "metadata": {},
   "source": [
    "## using if-else Statement "
   ]
  },
  {
   "cell_type": "markdown",
   "id": "deb67d93-9e4f-49d0-a153-bdd9056185ce",
   "metadata": {},
   "source": [
    "- Here all the true conditions will be executed"
   ]
  },
  {
   "cell_type": "code",
   "execution_count": 14,
   "id": "0f16374a-fe73-4067-828c-f22a1c79fc64",
   "metadata": {},
   "outputs": [
    {
     "name": "stdout",
     "output_type": "stream",
     "text": [
      "Hello\n",
      "Hi\n",
      "Bye\n"
     ]
    }
   ],
   "source": [
    "a=10\n",
    "b=20\n",
    "if(a<b):\n",
    "    print(\"Hello\")\n",
    "if(b>a):\n",
    "    print(\"Hi\")\n",
    "if(a!=b):\n",
    "    print(\"Bye\")"
   ]
  },
  {
   "cell_type": "markdown",
   "id": "16ec2414-22d4-4776-bcfd-ff1148a32bf8",
   "metadata": {},
   "source": [
    "## if-elif Statement"
   ]
  },
  {
   "cell_type": "markdown",
   "id": "2f8479c2-f21e-4f65-9aaa-ebc9aeeaca1a",
   "metadata": {},
   "source": [
    "* Even if all the conditions are true, only first True condition will be executed rest all will not be executed"
   ]
  },
  {
   "cell_type": "code",
   "execution_count": 16,
   "id": "0cd052a5-1b16-4a89-ac1c-cbff6539914d",
   "metadata": {},
   "outputs": [
    {
     "name": "stdout",
     "output_type": "stream",
     "text": [
      "Hello\n"
     ]
    }
   ],
   "source": [
    "A=10\n",
    "b=20\n",
    "if(a<b):\n",
    "    print(\"Hello\")\n",
    "elif(b>a):\n",
    "    print(\"Hi\")\n",
    "elif(a!=b):\n",
    "    print(\"Bye\")\n",
    "else:\n",
    "    print(\"I am optional\")"
   ]
  },
  {
   "cell_type": "markdown",
   "id": "9f770290-6500-4a4f-b76b-fdc9c869e761",
   "metadata": {},
   "source": [
    "## Nested if-else Statement"
   ]
  },
  {
   "cell_type": "code",
   "execution_count": 17,
   "id": "8237610d-9ab5-42e5-9d78-97671c0ddd17",
   "metadata": {},
   "outputs": [
    {
     "name": "stdout",
     "output_type": "stream",
     "text": [
      "B is greater\n",
      "No is +ve\n"
     ]
    }
   ],
   "source": [
    "a=10\n",
    "b=20\n",
    "if(a>b):\n",
    "    print(\"A is greater\")\n",
    "    if(a>0):\n",
    "        print(\"No is +ve\")\n",
    "    else:\n",
    "        print(\"No is -ve\")\n",
    "else:\n",
    "    print(\"B is greater\")\n",
    "    if(b>0):\n",
    "        print(\"No is +ve\")\n",
    "    else:\n",
    "        print(\"No is -ve\") "
   ]
  },
  {
   "cell_type": "markdown",
   "id": "6f3d21b1-6148-4ece-afe9-c130a4225f42",
   "metadata": {},
   "source": [
    "## Short Hand If"
   ]
  },
  {
   "cell_type": "markdown",
   "id": "7c85c886-e73d-4652-9c17-2d68f3078a72",
   "metadata": {},
   "source": [
    "If you have only one statement to execute, one for if, and one for else, you can put it all on the same line:"
   ]
  },
  {
   "cell_type": "code",
   "execution_count": 18,
   "id": "dfc59081-577c-4fcd-8e76-a9a72dea695c",
   "metadata": {},
   "outputs": [
    {
     "name": "stdout",
     "output_type": "stream",
     "text": [
      "a is greater than b\n"
     ]
    }
   ],
   "source": [
    "a = 20\n",
    "b = 10\n",
    "if a > b: print(\"a is greater than b\")"
   ]
  },
  {
   "cell_type": "code",
   "execution_count": 19,
   "id": "c5e64141-aa67-4b27-90cd-0ce0a5474b23",
   "metadata": {},
   "outputs": [
    {
     "name": "stdout",
     "output_type": "stream",
     "text": [
      "B is Greater\n"
     ]
    }
   ],
   "source": [
    "a = 10\n",
    "b = 20\n",
    "print(\"A is Greater\") if a > b else print(\"B is Greater\")"
   ]
  },
  {
   "cell_type": "markdown",
   "id": "7e1032b9-48cf-43de-b0dd-935fd13b14e6",
   "metadata": {},
   "source": [
    "## if-else using Logical AND Operator"
   ]
  },
  {
   "cell_type": "code",
   "execution_count": 20,
   "id": "28b1f10d-4f5f-4bee-aded-3a4e396fdd27",
   "metadata": {},
   "outputs": [
    {
     "name": "stdout",
     "output_type": "stream",
     "text": [
      "Both conditions are True\n"
     ]
    }
   ],
   "source": [
    "a = 250\n",
    "b = 30\n",
    "c = 500\n",
    "if a > b and c > a:\n",
    "    print(\"Both conditions are True\")"
   ]
  },
  {
   "cell_type": "markdown",
   "id": "e746fc59-88e7-4b78-8137-80729e252414",
   "metadata": {},
   "source": [
    "## if-else using Logical OR Operator"
   ]
  },
  {
   "cell_type": "code",
   "execution_count": 21,
   "id": "21e67ebf-58a4-4d7c-adf5-09b7f3947f10",
   "metadata": {},
   "outputs": [],
   "source": [
    "a = 250\n",
    "b = 30\n",
    "c = 500\n",
    "if a > b and a > c:\n",
    "    print(\"At least one of the conditions is True\")"
   ]
  },
  {
   "cell_type": "markdown",
   "id": "10704d47-09cf-4461-abac-2bf2905b79f6",
   "metadata": {},
   "source": [
    "##  he pass Statement"
   ]
  },
  {
   "cell_type": "markdown",
   "id": "6e357142-23d6-4211-9d55-ca75f1fbbbad",
   "metadata": {},
   "source": [
    "if statements cannot be empty, but if you for some reason have an if statement with no content, put in the pass statement to avoid getting an error"
   ]
  },
  {
   "cell_type": "code",
   "execution_count": 23,
   "id": "18f5c144-8e25-4a20-88dd-435faf5e5dfc",
   "metadata": {},
   "outputs": [],
   "source": [
    "a = 10\n",
    "b = 20\n",
    "\n",
    "if b > a:\n",
    "    pass"
   ]
  },
  {
   "cell_type": "markdown",
   "id": "81b0b01f-7e36-42c0-bb96-12d9096f8bce",
   "metadata": {},
   "source": [
    "# Task"
   ]
  },
  {
   "cell_type": "markdown",
   "id": "2b503da9-eb9c-43ef-b582-6676b067073e",
   "metadata": {},
   "source": [
    "* Find No is +ve/-ve\n",
    "* Find the No is Even/Odd\n",
    "* Find the No is Even/Odd ( Without using any Arithmetic Operator )\n",
    "* Find the Greatest Between 2 No's\n",
    "* Find the Greatest Between 3 No's\n",
    "* Find the No is Even/Odd if the number is greater then 6, else find the no is multiple of 3 or not.\n",
    "* Calculate Ticket Price:\n",
    "* Age : (00-05) --> Free\n",
    "* Age : (06-18) --> Rs. 150\n",
    "* Age : (19-24) --> Rs. 250\n",
    "* Age : (25-30) --> Rs. 25% off on total of age from (6-18 + 19-24)\n",
    "* Age : (31-50) --> Rs. 3% off on total age of first 4 condition\n",
    "* Age : (51-60) --> Go to chaar dhaam yaatra"
   ]
  },
  {
   "cell_type": "code",
   "execution_count": null,
   "id": "01ce90a7-a2e9-4d8b-822c-038572858ed6",
   "metadata": {},
   "outputs": [],
   "source": []
  },
  {
   "cell_type": "markdown",
   "id": "81b8b70d-79bf-40b1-80e1-6f90b02fc44c",
   "metadata": {},
   "source": [
    "## Find No is +ve/-ve"
   ]
  },
  {
   "cell_type": "code",
   "execution_count": 25,
   "id": "6e50b08d-d8a3-486d-8a33-c13f684ed63c",
   "metadata": {},
   "outputs": [
    {
     "name": "stdin",
     "output_type": "stream",
     "text": [
      "Enter Number -25\n"
     ]
    },
    {
     "name": "stdout",
     "output_type": "stream",
     "text": [
      "No is -ve\n"
     ]
    }
   ],
   "source": [
    "# Write your code here\n",
    "n=int(input(\"Enter Number\"))\n",
    "if n>0:\n",
    "    print(\"No is +Ve\")\n",
    "else:\n",
    "    print(\"No is -ve\")"
   ]
  },
  {
   "cell_type": "markdown",
   "id": "f92a5583-52e5-4033-b7e0-9c48a7ad8779",
   "metadata": {},
   "source": [
    "## Find the No is Even/Odd"
   ]
  },
  {
   "cell_type": "code",
   "execution_count": 26,
   "id": "5b84c335-53ba-4c17-a2bc-2e46927f632d",
   "metadata": {},
   "outputs": [
    {
     "name": "stdin",
     "output_type": "stream",
     "text": [
      "Enter Number: 25\n"
     ]
    },
    {
     "name": "stdout",
     "output_type": "stream",
     "text": [
      "No is odd\n"
     ]
    }
   ],
   "source": [
    "# Write your code here\n",
    "n=int(input(\"Enter Number:\"))\n",
    "if n%2==0:\n",
    "    print(\"No is even\")\n",
    "else:\n",
    "    print(\"No is odd\")"
   ]
  },
  {
   "cell_type": "markdown",
   "id": "bb0d9c94-94bf-47af-8a4b-8955f3a9d7d3",
   "metadata": {},
   "source": [
    "## Find the No is Even/Odd ( Without using any Arithmetic Operator )"
   ]
  },
  {
   "cell_type": "code",
   "execution_count": 28,
   "id": "027370d6-d235-4d4e-a7a1-af48600f4608",
   "metadata": {},
   "outputs": [
    {
     "name": "stdin",
     "output_type": "stream",
     "text": [
      "Enter Number: 18\n"
     ]
    },
    {
     "name": "stdout",
     "output_type": "stream",
     "text": [
      "No is even\n"
     ]
    }
   ],
   "source": [
    "# Write your code here\n",
    "n=int(input(\"Enter Number:\"))\n",
    "if (n & 1)==0:\n",
    "    print(\"No is even\")\n",
    "else:\n",
    "    print(\"No is odd\")"
   ]
  },
  {
   "cell_type": "markdown",
   "id": "8ce637e3-d27f-4a1e-8069-27769dcd5a57",
   "metadata": {},
   "source": [
    "## Find the Greatest Between 2 No's"
   ]
  },
  {
   "cell_type": "code",
   "execution_count": 29,
   "id": "0d1e4b28-8f96-4a5c-8a92-11bcd7a6f045",
   "metadata": {},
   "outputs": [
    {
     "name": "stdin",
     "output_type": "stream",
     "text": [
      "Enter First Number: 100\n",
      "Enter Second Number: 250\n"
     ]
    },
    {
     "name": "stdout",
     "output_type": "stream",
     "text": [
      "Second No is Greater 250\n"
     ]
    }
   ],
   "source": [
    "# Write your code here\n",
    "n1=int(input(\"Enter First Number:\"))\n",
    "n2=int(input(\"Enter Second Number:\"))\n",
    "if n1>n2:\n",
    "    print(\"First No is Greater\",n1)\n",
    "else:\n",
    "    print(\"Second No is Greater\",n2)"
   ]
  },
  {
   "cell_type": "markdown",
   "id": "a8a33e14-5e0a-4376-8120-7759cff0fd82",
   "metadata": {},
   "source": [
    "## Find the Greatest Between 3 No's"
   ]
  },
  {
   "cell_type": "code",
   "execution_count": 30,
   "id": "e4a28c3b-69ae-4241-943a-4339642f2c8f",
   "metadata": {},
   "outputs": [
    {
     "name": "stdin",
     "output_type": "stream",
     "text": [
      "Enter First Number: 125\n",
      "Enter Second Number: 24\n",
      "Enter third Number: 65\n"
     ]
    },
    {
     "name": "stdout",
     "output_type": "stream",
     "text": [
      "First No is Greater\n"
     ]
    }
   ],
   "source": [
    "# Write your code here\n",
    "n1=int(input(\"Enter First Number:\"))\n",
    "n2=int(input(\"Enter Second Number:\"))\n",
    "n3=int(input(\"Enter third Number:\"))\n",
    "if n1>n2 and n1>n3:\n",
    "    print(\"First No is Greater\")\n",
    "elif n2>n1 and n2>n3:\n",
    "    print(\"Second no is greater\")\n",
    "else:\n",
    "    print(\"Third no is greater\")"
   ]
  },
  {
   "cell_type": "markdown",
   "id": "19694e57-6bdf-437a-b404-26b947ea82a6",
   "metadata": {},
   "source": [
    "## Find the No is Even/Odd if the number is greaterthen 6, else find the no is multiple of 3 or not"
   ]
  },
  {
   "cell_type": "code",
   "execution_count": 31,
   "id": "2e998d96-2846-4721-ae5c-00f603b2c1d9",
   "metadata": {},
   "outputs": [
    {
     "name": "stdin",
     "output_type": "stream",
     "text": [
      "Enter First Number: 19\n"
     ]
    },
    {
     "name": "stdout",
     "output_type": "stream",
     "text": [
      "Odd\n"
     ]
    }
   ],
   "source": [
    "# Write your code here\n",
    "n=int(input(\"Enter First Number:\"))\n",
    "if n>6:\n",
    "    if n%2==0:\n",
    "        print(\"Even\")\n",
    "    else:\n",
    "        print(\"Odd\")\n",
    "else:\n",
    "    if n%3==0:\n",
    "        print(\"Multiple of 3\")\n",
    "    else:\n",
    "        print(\"Not Multiple of 3\")"
   ]
  },
  {
   "cell_type": "markdown",
   "id": "67941ec7-7b9c-4877-8416-0bcf5e8ef4fd",
   "metadata": {},
   "source": [
    "## Calculate Ticket Price:"
   ]
  },
  {
   "cell_type": "code",
   "execution_count": 32,
   "id": "be0d0f0f-8214-4038-afbf-3987dd4ce99b",
   "metadata": {},
   "outputs": [
    {
     "name": "stdin",
     "output_type": "stream",
     "text": [
      "Enter Age: 45\n"
     ]
    },
    {
     "name": "stdout",
     "output_type": "stream",
     "text": [
      "Ticket Price: 291.0\n"
     ]
    }
   ],
   "source": [
    "# Write your code here\n",
    "P1=0\n",
    "P2=150\n",
    "P3=250\n",
    "n=int(input(\"Enter Age:\"))\n",
    "if n>=0 and n<=5:\n",
    "    print(\"Ticket Price:\",P1)\n",
    "elif n>=6 and n<=18:\n",
    "    print(\"Ticket Price:\",P2)\n",
    "elif n>=19 and n<=24:\n",
    "    print(\"Ticket Price:\",P3)\n",
    "elif n>=25 and n<=30:\n",
    "    print(\"Ticket Price:\",(P1+P2+P3)*0.75)\n",
    "elif n>=31 and n<=50:\n",
    "    print(\"Ticket Price:\",((P1+P2+P3)*0.75)*0.97)\n",
    "else:\n",
    "    print(\"Go to chaar dhaam yaatra\")"
   ]
  },
  {
   "cell_type": "code",
   "execution_count": null,
   "id": "29ce98c6-3852-4c07-b4b9-475fa25d4b6c",
   "metadata": {},
   "outputs": [],
   "source": []
  }
 ],
 "metadata": {
  "kernelspec": {
   "display_name": "Python 3 (ipykernel)",
   "language": "python",
   "name": "python3"
  },
  "language_info": {
   "codemirror_mode": {
    "name": "ipython",
    "version": 3
   },
   "file_extension": ".py",
   "mimetype": "text/x-python",
   "name": "python",
   "nbconvert_exporter": "python",
   "pygments_lexer": "ipython3",
   "version": "3.12.0"
  }
 },
 "nbformat": 4,
 "nbformat_minor": 5
}

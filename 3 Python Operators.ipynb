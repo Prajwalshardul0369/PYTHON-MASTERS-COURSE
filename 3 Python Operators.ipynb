{
 "cells": [
  {
   "cell_type": "markdown",
   "id": "eb190d49-c74d-4e6c-8a77-c12dee1d68c6",
   "metadata": {},
   "source": [
    "## Operators in Python\n",
    "\n",
    "An operator is a symbol that tells the compiler to perform specific mathematical or logical manipulations. Python language is rich in built-in operators and provides following types of operators.\n"
   ]
  },
  {
   "cell_type": "markdown",
   "id": "7592f0bd-dfe6-45a2-a39f-3e01c537534c",
   "metadata": {},
   "source": [
    "## Types of Operators"
   ]
  },
  {
   "cell_type": "markdown",
   "id": "8d5578ae-be7e-4272-be3f-67fc992db9de",
   "metadata": {},
   "source": [
    "We have the following types of operators in Python programming"
   ]
  },
  {
   "cell_type": "markdown",
   "id": "04672fd2-e25a-4e5a-9678-6b0afe490a3a",
   "metadata": {},
   "source": [
    "* Arithmetic operators\n",
    "* Assignment operators\n",
    "* Relational/Comparison Operators\n",
    "* Logical Operators\n",
    "* Bitwise Operators\n",
    "* Identity Operator\n",
    "* Membership Operator"
   ]
  },
  {
   "cell_type": "markdown",
   "id": "61b7207d-2d4b-499e-86fe-e674c604e0e4",
   "metadata": {},
   "source": [
    "## Arithmetic Operator"
   ]
  },
  {
   "cell_type": "markdown",
   "id": "8ff0b2be-b5ba-45f5-aba7-32eaf6cd7530",
   "metadata": {},
   "source": [
    "Arithmetic operators are used with numeric values to perform common mathematical operations:"
   ]
  },
  {
   "attachments": {
    "eb9b68a6-4592-4211-abfe-c99768905a1c.png": {
     "image/png": "[encoded data removed]"
    }
   },
   "cell_type": "markdown",
   "id": "669d2846-1ca5-448c-8778-a636345323a2",
   "metadata": {},
   "source": [
    "![image.png](attachment:eb9b68a6-4592-4211-abfe-c99768905a1c.png)"
   ]
  },
  {
   "cell_type": "code",
   "execution_count": 2,
   "id": "1c111488-1402-4f21-93cd-574af02f387d",
   "metadata": {},
   "outputs": [
    {
     "name": "stdin",
     "output_type": "stream",
     "text": [
      "Enter First Number: 7\n",
      "Enter First Number: 2\n"
     ]
    },
    {
     "name": "stdout",
     "output_type": "stream",
     "text": [
      "Addition: 9\n",
      "Subtraction: 5\n",
      "Multiplication: 14\n",
      "Division 3.5\n",
      "Floor Division: 3\n",
      "Modulus 1\n",
      "Exponentiation: 49\n"
     ]
    }
   ],
   "source": [
    "a=int(input(\"Enter First Number:\"))\n",
    "b=int(input(\"Enter First Number:\"))\n",
    "print(\"Addition:\",a+b)\n",
    "print(\"Subtraction:\",a-b)\n",
    "print(\"Multiplication:\",a*b)\n",
    "print(\"Division\",a/b)\n",
    "print(\"Floor Division:\",a//b)\n",
    "print(\"Modulus\",a%b)\n",
    "print(\"Exponentiation:\",a**b)"
   ]
  },
  {
   "cell_type": "markdown",
   "id": "79977d21-7a01-43d8-9b57-173278b9aa01",
   "metadata": {},
   "source": [
    " ## Python Assignment Operators\n",
    " "
   ]
  },
  {
   "cell_type": "markdown",
   "id": "5eb443f9-dfa5-4978-a1df-364e7276ce65",
   "metadata": {},
   "source": [
    "Assignment operators are used to assign values to variables:"
   ]
  },
  {
   "attachments": {
    "07a221e7-a53a-45a6-8f28-a9364dc703cc.png": {
     "image/png": "[encoded data removed]"
    }
   },
   "cell_type": "markdown",
   "id": "72b21882-29e2-460d-b1e9-623197a3af7b",
   "metadata": {},
   "source": [
    "![image.png](attachment:07a221e7-a53a-45a6-8f28-a9364dc703cc.png)"
   ]
  },
  {
   "cell_type": "code",
   "execution_count": 6,
   "id": "1a07ccc2-7dd9-4db7-8543-da40e321f189",
   "metadata": {},
   "outputs": [
    {
     "name": "stdout",
     "output_type": "stream",
     "text": [
      "10\n"
     ]
    }
   ],
   "source": [
    "a = 10\n",
    "print(a)"
   ]
  },
  {
   "cell_type": "code",
   "execution_count": 7,
   "id": "490339a1-5804-4818-837a-b3e47800dcaa",
   "metadata": {},
   "outputs": [
    {
     "name": "stdout",
     "output_type": "stream",
     "text": [
      "30\n"
     ]
    }
   ],
   "source": [
    "a = 10\n",
    "b = 20\n",
    "a = a + b\n",
    "print(a)"
   ]
  },
  {
   "cell_type": "code",
   "execution_count": 8,
   "id": "0ebf8818-6ada-47d3-8a85-a23df168f663",
   "metadata": {},
   "outputs": [
    {
     "name": "stdout",
     "output_type": "stream",
     "text": [
      "30\n"
     ]
    }
   ],
   "source": [
    "a = 10\n",
    "b = 20\n",
    "a += b\n",
    "print(a)"
   ]
  },
  {
   "cell_type": "markdown",
   "id": "58879d26-a0fa-4f97-b7a3-7e162c94b1dc",
   "metadata": {},
   "source": [
    "## Python Comparison/Relational Operators"
   ]
  },
  {
   "cell_type": "markdown",
   "id": "4bc5e13f-0cb8-4471-892b-e67b65c208a1",
   "metadata": {},
   "source": [
    "Comparison operators are used to compare two values:"
   ]
  },
  {
   "attachments": {
    "88494b64-083f-4045-9cb5-d6ebce2d6c5f.png": {
     "image/png": "[encoded data removed]"
    }
   },
   "cell_type": "markdown",
   "id": "feefb60d-309b-46dd-94ae-a0364859f832",
   "metadata": {},
   "source": [
    "![image.png](attachment:88494b64-083f-4045-9cb5-d6ebce2d6c5f.png)"
   ]
  },
  {
   "cell_type": "code",
   "execution_count": 9,
   "id": "2ff5c0ec-2838-43f7-898e-f370c8fcd887",
   "metadata": {},
   "outputs": [
    {
     "name": "stdout",
     "output_type": "stream",
     "text": [
      "True\n"
     ]
    }
   ],
   "source": [
    "a=10\n",
    "b=20\n",
    "c = a < b\n",
    "print(c)"
   ]
  },
  {
   "cell_type": "code",
   "execution_count": 10,
   "id": "93b12725-02c5-41a3-80a4-2e5511d4d8b0",
   "metadata": {},
   "outputs": [
    {
     "name": "stdout",
     "output_type": "stream",
     "text": [
      "False\n"
     ]
    }
   ],
   "source": [
    "a=10\n",
    "b=20\n",
    "c = a > b\n",
    "print(c)"
   ]
  },
  {
   "cell_type": "code",
   "execution_count": 11,
   "id": "321f811a-168d-48fb-907c-77c29cd42ca7",
   "metadata": {},
   "outputs": [
    {
     "name": "stdout",
     "output_type": "stream",
     "text": [
      "True\n"
     ]
    }
   ],
   "source": [
    "a=10\n",
    "b=20\n",
    "c = a <= b\n",
    "print(c)"
   ]
  },
  {
   "cell_type": "code",
   "execution_count": 12,
   "id": "fefb40e8-0448-4da9-a6e6-23b7dafa7795",
   "metadata": {},
   "outputs": [
    {
     "name": "stdout",
     "output_type": "stream",
     "text": [
      "False\n"
     ]
    }
   ],
   "source": [
    "a=10\n",
    "b=20\n",
    "c = a >= b\n",
    "print(c)\n"
   ]
  },
  {
   "cell_type": "code",
   "execution_count": 13,
   "id": "294d602f-53f8-4505-a63b-2739a9ed1d00",
   "metadata": {},
   "outputs": [
    {
     "name": "stdout",
     "output_type": "stream",
     "text": [
      "False\n"
     ]
    }
   ],
   "source": [
    "a=10\n",
    "b=20\n",
    "c = a == b\n",
    "print(c)"
   ]
  },
  {
   "cell_type": "code",
   "execution_count": 14,
   "id": "49283e32-f1e1-4327-a213-80138b8946d3",
   "metadata": {},
   "outputs": [
    {
     "name": "stdout",
     "output_type": "stream",
     "text": [
      "True\n"
     ]
    }
   ],
   "source": [
    "a=10\n",
    "b=20\n",
    "c = a != b\n",
    "print(c)"
   ]
  },
  {
   "cell_type": "markdown",
   "id": "0d5a667c-f900-4ff0-8850-ec30f7e030c0",
   "metadata": {},
   "source": [
    "## Python Logical Operators"
   ]
  },
  {
   "cell_type": "markdown",
   "id": "fa7855ab-ab0c-47c2-b4d2-8c59af6e8404",
   "metadata": {},
   "source": [
    "Logical operators are used to combine conditional statements"
   ]
  },
  {
   "attachments": {
    "56282936-0245-421c-b82f-1098ff42c36a.png": {
     "image/png": "[encoded data removed]"
    }
   },
   "cell_type": "markdown",
   "id": "66c12b68-eb0b-4709-9251-8255dc924dd8",
   "metadata": {},
   "source": [
    "![image.png](attachment:56282936-0245-421c-b82f-1098ff42c36a.png)"
   ]
  },
  {
   "cell_type": "markdown",
   "id": "4d3210b0-9341-4c7e-a505-8f5c2c621d66",
   "metadata": {},
   "source": [
    "## Logial AND"
   ]
  },
  {
   "cell_type": "code",
   "execution_count": 17,
   "id": "8e6c2b92-3ad5-4803-8890-eb999e8744fd",
   "metadata": {},
   "outputs": [
    {
     "name": "stdout",
     "output_type": "stream",
     "text": [
      "True\n"
     ]
    }
   ],
   "source": [
    "x = 1\n",
    "print(x < 5 and x < 10)"
   ]
  },
  {
   "cell_type": "code",
   "execution_count": 18,
   "id": "1fd0b750-65b2-493c-90da-6f5b7a4e8496",
   "metadata": {},
   "outputs": [
    {
     "name": "stdout",
     "output_type": "stream",
     "text": [
      "20\n"
     ]
    }
   ],
   "source": [
    "print(10 and 20)"
   ]
  },
  {
   "cell_type": "markdown",
   "id": "75346d26-e6be-4b07-94cd-343a6202e61c",
   "metadata": {},
   "source": [
    "## Logical OR"
   ]
  },
  {
   "cell_type": "code",
   "execution_count": 20,
   "id": "5c18ecc9-d86e-4c4a-b8de-16cc18148763",
   "metadata": {},
   "outputs": [
    {
     "name": "stdout",
     "output_type": "stream",
     "text": [
      "True\n"
     ]
    }
   ],
   "source": [
    "x = 1\n",
    "print(x < 5 or x > 4)"
   ]
  },
  {
   "cell_type": "code",
   "execution_count": 22,
   "id": "8e6abe56-4e09-4eb3-9360-dd354bc46534",
   "metadata": {},
   "outputs": [
    {
     "name": "stdout",
     "output_type": "stream",
     "text": [
      "10\n"
     ]
    }
   ],
   "source": [
    "print(10 or 20)\n"
   ]
  },
  {
   "cell_type": "markdown",
   "id": "90b67b33-eff1-4c99-86ca-98c22990c20b",
   "metadata": {},
   "source": [
    "## Logical NOT"
   ]
  },
  {
   "cell_type": "code",
   "execution_count": 23,
   "id": "a237659b-3cff-45e9-90f0-6a97dd1573f6",
   "metadata": {},
   "outputs": [
    {
     "name": "stdout",
     "output_type": "stream",
     "text": [
      "False\n"
     ]
    }
   ],
   "source": [
    "x = 1\n",
    "print(not(x < 5 or x > 4))"
   ]
  },
  {
   "cell_type": "code",
   "execution_count": 24,
   "id": "e476964c-7a07-4eaf-ada4-4584484f17fd",
   "metadata": {},
   "outputs": [
    {
     "name": "stdout",
     "output_type": "stream",
     "text": [
      "True\n"
     ]
    }
   ],
   "source": [
    "a=0\n",
    "print(not a)"
   ]
  },
  {
   "cell_type": "markdown",
   "id": "8b8b3766-3c4f-4141-8336-03c59817443f",
   "metadata": {},
   "source": [
    "## Python Bitwise Operators"
   ]
  },
  {
   "cell_type": "markdown",
   "id": "72e344d6-1ec3-47b5-b3d1-ff0d238e8467",
   "metadata": {},
   "source": [
    "Bitwise operators are used to compare (binary) numbers:"
   ]
  },
  {
   "attachments": {
    "a2e37496-3ea9-43a0-99b6-4e6b944dd4ac.png": {
     "image/png": "[encoded data removed]"
    }
   },
   "cell_type": "markdown",
   "id": "6ff18bee-c843-4575-a516-ac07d002a03d",
   "metadata": {},
   "source": [
    "![image.png](attachment:a2e37496-3ea9-43a0-99b6-4e6b944dd4ac.png)"
   ]
  },
  {
   "cell_type": "code",
   "execution_count": 25,
   "id": "8f33474b-89ee-43dd-9651-899319da6989",
   "metadata": {},
   "outputs": [
    {
     "name": "stdout",
     "output_type": "stream",
     "text": [
      "Bitwise AND: 2\n",
      "Bitwise OR: 14\n",
      "Bitwise XOR: 12\n",
      "Left Shift: 40\n",
      "Right Shift: 2\n",
      "1's Complement: -11\n"
     ]
    }
   ],
   "source": [
    "a=10\n",
    "b=6\n",
    "print(\"Bitwise AND:\",a&b)\n",
    "print(\"Bitwise OR:\",a|b)\n",
    "print(\"Bitwise XOR:\",a^b)\n",
    "print(\"Left Shift:\",a<<2)\n",
    "print(\"Right Shift:\",a>>2)\n",
    "print(\"1's Complement:\",~a)"
   ]
  },
  {
   "cell_type": "markdown",
   "id": "15f88df5-50a1-4bbe-af40-9ae58ebf4ec5",
   "metadata": {},
   "source": [
    "## Python Identity Operators"
   ]
  },
  {
   "cell_type": "markdown",
   "id": "a9d0e6df-ff3d-4e79-97bb-45609bdacdd8",
   "metadata": {},
   "source": [
    "Identity operators are used to compare the objects, not if they are equal, but if they are actually the same object, with the same memory location:"
   ]
  },
  {
   "attachments": {
    "5a3e30cd-9f5a-47e8-9cc4-8cb51b9e624e.png": {
     "image/png": "[encoded data removed]"
    }
   },
   "cell_type": "markdown",
   "id": "f46a6823-a777-4b91-bc29-a48d4036e8e4",
   "metadata": {},
   "source": [
    "![image.png](attachment:5a3e30cd-9f5a-47e8-9cc4-8cb51b9e624e.png)"
   ]
  },
  {
   "cell_type": "code",
   "execution_count": 26,
   "id": "65ccd63d-5bd9-431a-addc-0de9dcbdfc3a",
   "metadata": {},
   "outputs": [
    {
     "name": "stdout",
     "output_type": "stream",
     "text": [
      "True\n",
      "False\n"
     ]
    }
   ],
   "source": [
    "l1=[1,2,3]\n",
    "l2=[1,2,3]\n",
    "print(l1==l2)\n",
    "print(l1 is l2)"
   ]
  },
  {
   "cell_type": "code",
   "execution_count": 27,
   "id": "0494b12d-bc74-4f65-aa22-01c04e907738",
   "metadata": {},
   "outputs": [
    {
     "name": "stdout",
     "output_type": "stream",
     "text": [
      "[1, 2, 3]\n",
      "[1, 2, 3]\n",
      "True\n",
      "True\n"
     ]
    }
   ],
   "source": [
    "l3=l2\n",
    "print(l2)\n",
    "print(l3)\n",
    "print(l2==l3)\n",
    "print(l2 is l3)"
   ]
  },
  {
   "cell_type": "code",
   "execution_count": 28,
   "id": "dab88d5a-38b4-4cd5-8303-1024c9b1ccf3",
   "metadata": {},
   "outputs": [
    {
     "name": "stdout",
     "output_type": "stream",
     "text": [
      "[1, 2, 3]\n",
      "[1, 2, 3]\n",
      "True\n",
      "True\n"
     ]
    }
   ],
   "source": [
    "l3=l2\n",
    "print(l2)\n",
    "print(l3)\n",
    "print(l2==l3)\n",
    "print(l2 is l3)"
   ]
  },
  {
   "cell_type": "code",
   "execution_count": 29,
   "id": "598c4218-940c-4a4f-8497-5288c79254aa",
   "metadata": {},
   "outputs": [],
   "source": [
    "del l2"
   ]
  },
  {
   "cell_type": "code",
   "execution_count": 30,
   "id": "6aae68ee-0c7f-475b-b1c8-2e48cacba726",
   "metadata": {},
   "outputs": [
    {
     "name": "stdout",
     "output_type": "stream",
     "text": [
      "[1, 2, 3]\n"
     ]
    }
   ],
   "source": [
    "print(l3)"
   ]
  },
  {
   "cell_type": "markdown",
   "id": "7511e018-9043-4de1-90fc-8c43f9aa25db",
   "metadata": {},
   "source": [
    "## Membership Operators"
   ]
  },
  {
   "cell_type": "markdown",
   "id": "a221cf58-158f-4b70-abfd-efb773853536",
   "metadata": {},
   "source": [
    "Membership operators are used to test if a sequence is presented in an object:"
   ]
  },
  {
   "cell_type": "markdown",
   "id": "ce37dd6c-969a-4353-b01c-5872af722b7e",
   "metadata": {},
   "source": [
    "* in - Evaluates to true if it finds a variable in the specified sequence\n",
    "* not in - Evaluates to true if it does not finds a variable in the specified sequence"
   ]
  },
  {
   "attachments": {
    "a9655be1-47ef-43a4-8ccd-1a71ce32f520.png": {
     "image/png": "[encoded data removed]"
    }
   },
   "cell_type": "markdown",
   "id": "e5734afe-ff6a-4cd1-9626-3fab4f8472c6",
   "metadata": {},
   "source": [
    "![image.png](attachment:a9655be1-47ef-43a4-8ccd-1a71ce32f520.png)"
   ]
  },
  {
   "cell_type": "code",
   "execution_count": 31,
   "id": "5bc35b92-40fe-4740-91dd-1688aa572d4d",
   "metadata": {},
   "outputs": [
    {
     "name": "stdout",
     "output_type": "stream",
     "text": [
      "True\n"
     ]
    }
   ],
   "source": [
    "L=[12,353,545,2,45,67,89,23]\n",
    "n=2\n",
    "print(n in L)"
   ]
  },
  {
   "cell_type": "code",
   "execution_count": 32,
   "id": "b2489d2a-820a-4016-aa46-40181fb7a990",
   "metadata": {},
   "outputs": [
    {
     "name": "stdout",
     "output_type": "stream",
     "text": [
      "False\n"
     ]
    }
   ],
   "source": [
    "print(n not in L)"
   ]
  },
  {
   "cell_type": "code",
   "execution_count": null,
   "id": "6be2cb09-a12a-459e-9c06-439326333829",
   "metadata": {},
   "outputs": [],
   "source": []
  }
 ],
 "metadata": {
  "kernelspec": {
   "display_name": "Python 3 (ipykernel)",
   "language": "python",
   "name": "python3"
  },
  "language_info": {
   "codemirror_mode": {
    "name": "ipython",
    "version": 3
   },
   "file_extension": ".py",
   "mimetype": "text/x-python",
   "name": "python",
   "nbconvert_exporter": "python",
   "pygments_lexer": "ipython3",
   "version": "3.12.0"
  }
 },
 "nbformat": 4,
 "nbformat_minor": 5
}

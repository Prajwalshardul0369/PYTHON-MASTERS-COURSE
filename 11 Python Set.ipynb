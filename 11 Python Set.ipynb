{
 "cells": [
  {
   "cell_type": "markdown",
   "id": "9c481268-fcf7-4e5a-9e98-add304dd9925",
   "metadata": {},
   "source": [
    "## Python Set"
   ]
  },
  {
   "cell_type": "markdown",
   "id": "71d1480e-e558-44bd-969c-88950d6e23e2",
   "metadata": {},
   "source": [
    "A set is an unordered collection of items. Every set element is unique (no duplicates) and must be immutable (cannot be changed).\n",
    "\n",
    "Sets are used to store multiple items in a single variable. Set is one of 4 built-in data types in Python used to store collections of data, the other 3 are List, Tuple, and Dictionary, all with different qualities and usage. Sets can also be used to perform mathematical set operations like union, intersection, symmetric difference, etc.\n",
    "\n",
    "A set is a collection which is both unordered and unindexed. Sets are written with curly brackets {}"
   ]
  },
  {
   "cell_type": "code",
   "execution_count": 5,
   "id": "2a80bf0f-c668-4bdb-b88e-638beea82e9a",
   "metadata": {},
   "outputs": [
    {
     "name": "stdout",
     "output_type": "stream",
     "text": [
      "{'Python', 'data science', 'Machine Learning'}\n"
     ]
    }
   ],
   "source": [
    "my_set = {\"Python\",\"data science\",\"Machine Learning\"}\n",
    "print(my_set)"
   ]
  },
  {
   "cell_type": "markdown",
   "id": "9b97aa14-475d-4957-af46-ea5baf2a096d",
   "metadata": {},
   "source": [
    "### Set of mixed datatypes"
   ]
  },
  {
   "cell_type": "code",
   "execution_count": 7,
   "id": "57357058-5a81-4292-ac8e-22b6eb4f4c15",
   "metadata": {},
   "outputs": [
    {
     "name": "stdout",
     "output_type": "stream",
     "text": [
      "{'hello', 1.0, (1, 2, 3)}\n"
     ]
    }
   ],
   "source": [
    "my_set={1.0,'hello',(1,2,3)}\n",
    "print(my_set)"
   ]
  },
  {
   "cell_type": "markdown",
   "id": "74be455e-f39e-4a65-bddf-6466eecfc69d",
   "metadata": {},
   "source": [
    "* Set items are unordered, unchangeable, and do not allow duplicate values.\n",
    "* Set items can appear in a different order every time you use them, and cannot be referred to by index or key.\n",
    "* Sets are unchangeable, meaning that we cannot change the items after the set has been created."
   ]
  },
  {
   "cell_type": "markdown",
   "id": "dd850219-3b34-4b95-b5ae-44df486ab36a",
   "metadata": {},
   "source": [
    "### Duplicates Not Allowed"
   ]
  },
  {
   "cell_type": "code",
   "execution_count": 8,
   "id": "3ddb8a5d-e8e1-41e7-b0c1-126fffa19569",
   "metadata": {},
   "outputs": [
    {
     "name": "stdout",
     "output_type": "stream",
     "text": [
      "{'python', 'data science', 'machine learning'}\n"
     ]
    }
   ],
   "source": [
    "my_set = {\"python\", \"data science\", \"machine learning\",\"python\"}\n",
    "print(my_set)"
   ]
  },
  {
   "cell_type": "markdown",
   "id": "f1657774-cb52-49ef-b8a0-0711c31e2f47",
   "metadata": {},
   "source": [
    "### Get the Length and Type of a Set"
   ]
  },
  {
   "cell_type": "code",
   "execution_count": 9,
   "id": "c9feeda2-08b1-4db4-9ed0-c0a270c276b5",
   "metadata": {},
   "outputs": [
    {
     "name": "stdout",
     "output_type": "stream",
     "text": [
      "3\n"
     ]
    }
   ],
   "source": [
    "my_set = {\"python\", \"data science\", \"machine learning\"}\n",
    "print(len(my_set))"
   ]
  },
  {
   "cell_type": "code",
   "execution_count": 11,
   "id": "b0c807c3-8d4e-4dcf-b89a-28a56f0407ad",
   "metadata": {},
   "outputs": [
    {
     "name": "stdout",
     "output_type": "stream",
     "text": [
      "<class 'set'>\n"
     ]
    }
   ],
   "source": [
    "print(type(my_set))"
   ]
  },
  {
   "cell_type": "markdown",
   "id": "c0c6f5df-fd75-4f02-943a-808de4900b7e",
   "metadata": {},
   "source": [
    "### Access Set Items\n",
    "* You cannot access items in a set by referring to an index or a key.\n",
    "* But you can loop through the set items using a for loop, or ask if a specified value is present in a set, by using the in keyword"
   ]
  },
  {
   "cell_type": "code",
   "execution_count": 12,
   "id": "7b340fd9-c7f3-44c6-af7a-0a081b81a0b3",
   "metadata": {},
   "outputs": [
    {
     "name": "stdout",
     "output_type": "stream",
     "text": [
      "python\n",
      "data science\n",
      "machine learning\n"
     ]
    }
   ],
   "source": [
    "my_set = {\"python\", \"data science\", \"machine learning\"}\n",
    "for item in my_set:\n",
    "    print(item)"
   ]
  },
  {
   "cell_type": "markdown",
   "id": "2f295278-194e-4713-8f86-d15cb09b8e6a",
   "metadata": {},
   "source": [
    "### Add Set Items\n",
    "Once a set is created, you cannot change its items, but you can add new items using the add() method"
   ]
  },
  {
   "cell_type": "code",
   "execution_count": 13,
   "id": "24427ff9-f6fb-4bb6-ac2b-6ebf49b3fb72",
   "metadata": {},
   "outputs": [
    {
     "name": "stdout",
     "output_type": "stream",
     "text": [
      "{'Deep Learning', 'Machine Learning', 'Python', 'Data Science'}\n"
     ]
    }
   ],
   "source": [
    "my_set = {\"Python\", \"Data Science\", \"Machine Learning\"}\n",
    "my_set.add(\"Deep Learning\")\n",
    "print(my_set)"
   ]
  },
  {
   "cell_type": "markdown",
   "id": "2dc115ec-78a4-4573-b5fc-795ffacb028e",
   "metadata": {},
   "source": [
    "#### To add items from another set into the current set, use the update() method."
   ]
  },
  {
   "cell_type": "code",
   "execution_count": 14,
   "id": "77f82d01-f498-4851-a811-6fc225f71f16",
   "metadata": {},
   "outputs": [
    {
     "name": "stdout",
     "output_type": "stream",
     "text": [
      "{'mango', 'cherry', 'orange', 'pineapple', 'kiwi', 'apple'}\n"
     ]
    }
   ],
   "source": [
    "my_set1 = {\"apple\", \"kiwi\", \"cherry\"}\n",
    "my_set2 = {\"pineapple\", \"mango\", \"orange\"}\n",
    "\n",
    "my_set1.update(my_set2)\n",
    "\n",
    "print(my_set1)"
   ]
  },
  {
   "cell_type": "markdown",
   "id": "56f7bfe7-c86a-4049-9323-a9e2d2c60040",
   "metadata": {},
   "source": [
    "#### Add Any Iterable object (tuples, lists, dictionaries etc.)."
   ]
  },
  {
   "cell_type": "code",
   "execution_count": 69,
   "id": "65e04f20-2704-4e1d-9851-6f4b130d1ad7",
   "metadata": {},
   "outputs": [
    {
     "name": "stdout",
     "output_type": "stream",
     "text": [
      "{'mango', 'cherry', 'kiwi', 'apple', 'orange', 'pineapple'}\n",
      "['pineapple', 'mango', 'orange']\n",
      "('grapes', 'banana')\n"
     ]
    }
   ],
   "source": [
    "my_set1 = {\"apple\", \"kiwi\", \"cherry\"}\n",
    "my_list2 = [\"pineapple\", \"mango\", \"orange\"]\n",
    "my_tuple= (\"grapes\",\"banana\")\n",
    "\n",
    "my_set1.update(my_set2)\n",
    "print(my_set1)\n",
    "print(my_list2)\n",
    "print(my_tuple)\n"
   ]
  },
  {
   "cell_type": "code",
   "execution_count": 70,
   "id": "72b41cff-0945-4c97-8c9c-7b4390a9d2b7",
   "metadata": {},
   "outputs": [
    {
     "name": "stdout",
     "output_type": "stream",
     "text": [
      "<class 'list'>\n",
      "<class 'set'>\n",
      "<class 'tuple'>\n"
     ]
    }
   ],
   "source": [
    "print(type(my_list2))\n",
    "print(type(my_set1))\n",
    "print(type(my_tuple))"
   ]
  },
  {
   "cell_type": "markdown",
   "id": "21bf7b24-7cad-4791-aeb4-0935632616ca",
   "metadata": {},
   "source": [
    "### Remove Set Items\n"
   ]
  },
  {
   "cell_type": "markdown",
   "id": "ed7cff4f-5496-4487-bee2-348da2d50e87",
   "metadata": {},
   "source": [
    "* To remove an item in a set, use the remove(), or the discard() method."
   ]
  },
  {
   "cell_type": "code",
   "execution_count": 71,
   "id": "b6cc25ce-f7ae-4035-b096-d9a5b453a5ca",
   "metadata": {},
   "outputs": [
    {
     "name": "stdout",
     "output_type": "stream",
     "text": [
      "{'mango', 'cherry', 'kiwi', 'apple', 'orange', 'pineapple'}\n"
     ]
    }
   ],
   "source": [
    "print(my_set1)"
   ]
  },
  {
   "cell_type": "code",
   "execution_count": 72,
   "id": "02632c54-2490-4577-9076-c92ed7f9b299",
   "metadata": {},
   "outputs": [
    {
     "name": "stdout",
     "output_type": "stream",
     "text": [
      "{'mango', 'cherry', 'apple', 'orange', 'pineapple'}\n"
     ]
    }
   ],
   "source": [
    "\n",
    "my_set1.remove('kiwi')\n",
    "print(my_set1)"
   ]
  },
  {
   "cell_type": "code",
   "execution_count": 77,
   "id": "1981a1f6-e418-458f-8034-e1c270d9fb1c",
   "metadata": {},
   "outputs": [
    {
     "name": "stdout",
     "output_type": "stream",
     "text": [
      "{'mango', 'cherry', 'orange', 'pineapple'}\n"
     ]
    }
   ],
   "source": [
    "my_set1.discard(\"apple\")\n",
    "print(my_set1)"
   ]
  },
  {
   "cell_type": "markdown",
   "id": "ab278682-44c0-42ba-a57a-56f6d12a14bb",
   "metadata": {},
   "source": [
    "##### Note: If the item to remove does not exist, discard() will NOT raise an error.\n",
    "\n"
   ]
  },
  {
   "cell_type": "markdown",
   "id": "b76ef877-bc5b-439f-88d5-0916291bb4e9",
   "metadata": {},
   "source": [
    "#### You can also use the pop() method to remove an item, but this method will remove the last item. Remember that sets are unordered, so you will not know what item that gets removed."
   ]
  },
  {
   "cell_type": "code",
   "execution_count": 79,
   "id": "ad82fb44-d763-4469-8a16-c033c7d1578b",
   "metadata": {},
   "outputs": [
    {
     "name": "stdout",
     "output_type": "stream",
     "text": [
      "{'Python', 'Data Science'}\n"
     ]
    }
   ],
   "source": [
    "my_set = {\"Python\", \"Data Science\", \"Machine Learning\"}\n",
    "my_set.pop()\n",
    "print(my_set)"
   ]
  },
  {
   "cell_type": "markdown",
   "id": "d905d3c3-5c53-4f4f-bfc7-90cef2332733",
   "metadata": {},
   "source": [
    "#### The clear() method empties the set:"
   ]
  },
  {
   "cell_type": "code",
   "execution_count": 80,
   "id": "b19a2e0d-d288-48d9-ac54-d7a58bf30cbe",
   "metadata": {},
   "outputs": [
    {
     "name": "stdout",
     "output_type": "stream",
     "text": [
      "set()\n"
     ]
    }
   ],
   "source": [
    "my_set = {\"Python\", \"Data Science\", \"Machine Learning\"}\n",
    "my_set.clear()\n",
    "print(my_set)"
   ]
  },
  {
   "cell_type": "markdown",
   "id": "08331338-7cba-4423-8c0c-04d1ef578683",
   "metadata": {},
   "source": [
    "#### The del keyword will delete the set completely:"
   ]
  },
  {
   "cell_type": "code",
   "execution_count": 81,
   "id": "fa9f8122-8e91-49cf-b5e8-2a8155995cdd",
   "metadata": {},
   "outputs": [
    {
     "ename": "NameError",
     "evalue": "name 'my_set' is not defined",
     "output_type": "error",
     "traceback": [
      "\u001b[1;31m---------------------------------------------------------------------------\u001b[0m",
      "\u001b[1;31mNameError\u001b[0m                                 Traceback (most recent call last)",
      "Cell \u001b[1;32mIn[81], line 3\u001b[0m\n\u001b[0;32m      1\u001b[0m my_set \u001b[38;5;241m=\u001b[39m {\u001b[38;5;124m\"\u001b[39m\u001b[38;5;124mPython\u001b[39m\u001b[38;5;124m\"\u001b[39m, \u001b[38;5;124m\"\u001b[39m\u001b[38;5;124mData Science\u001b[39m\u001b[38;5;124m\"\u001b[39m, \u001b[38;5;124m\"\u001b[39m\u001b[38;5;124mMachine Learning\u001b[39m\u001b[38;5;124m\"\u001b[39m}\n\u001b[0;32m      2\u001b[0m \u001b[38;5;28;01mdel\u001b[39;00m my_set\n\u001b[1;32m----> 3\u001b[0m \u001b[38;5;28mprint\u001b[39m(\u001b[43mmy_set\u001b[49m) \u001b[38;5;66;03m#erroe \u001b[39;00m\n",
      "\u001b[1;31mNameError\u001b[0m: name 'my_set' is not defined"
     ]
    }
   ],
   "source": [
    "my_set = {\"Python\", \"Data Science\", \"Machine Learning\"}\n",
    "del my_set\n",
    "print(my_set) #error"
   ]
  },
  {
   "cell_type": "markdown",
   "id": "6377f5e4-1a43-4653-83d5-bc6a4e27d9be",
   "metadata": {},
   "source": [
    "### Loop Items"
   ]
  },
  {
   "cell_type": "markdown",
   "id": "9cc4394f-cebf-40e6-bf4b-067830845940",
   "metadata": {},
   "source": [
    "* You can loop through the set items by using a for loop"
   ]
  },
  {
   "cell_type": "code",
   "execution_count": 82,
   "id": "b2a59a9b-cc71-4567-947a-e15bcaa645d5",
   "metadata": {},
   "outputs": [
    {
     "name": "stdout",
     "output_type": "stream",
     "text": [
      "Machine Learning\n",
      "Python\n",
      "Data Science\n"
     ]
    }
   ],
   "source": [
    "my_set = {\"Python\", \"Data Science\", \"Machine Learning\"}\n",
    "for item in my_set:\n",
    "    print(item)"
   ]
  },
  {
   "cell_type": "markdown",
   "id": "043930fc-06c2-4e94-82ba-cbfb9afb5c3e",
   "metadata": {},
   "source": [
    "### Join Two Sets\n",
    "There are several ways to join two or more sets in Python.\n",
    "You can use the union() method that returns a new set containing all items from both sets, or the update() method that inserts all the items from one set into another:"
   ]
  },
  {
   "cell_type": "code",
   "execution_count": 83,
   "id": "3e53fcbb-26bc-443a-aed1-d55f8a35ff22",
   "metadata": {},
   "outputs": [
    {
     "name": "stdout",
     "output_type": "stream",
     "text": [
      "{'mango', 'cherry', 'orange', 'pineapple', 'kiwi', 'apple'}\n"
     ]
    }
   ],
   "source": [
    "set1 = {\"apple\", \"kiwi\", \"cherry\"}\n",
    "set2 = {\"pineapple\", \"mango\", \"orange\"}\n",
    "\n",
    "set3 = set1.union(set2)\n",
    "print(set3)"
   ]
  },
  {
   "cell_type": "code",
   "execution_count": 85,
   "id": "84541965-0458-4de6-a064-66d322b5edaf",
   "metadata": {},
   "outputs": [
    {
     "name": "stdout",
     "output_type": "stream",
     "text": [
      "{'mango', 'cherry', 'orange', 'pineapple', 'kiwi', 'apple'}\n"
     ]
    }
   ],
   "source": [
    "set1 = {\"apple\", \"kiwi\", \"cherry\"}\n",
    "set2 = {\"pineapple\", \"mango\", \"orange\"}\n",
    "\n",
    "set1.update(set2)\n",
    "print(set1)"
   ]
  },
  {
   "cell_type": "markdown",
   "id": "0e94931c-8047-487b-86e2-374376439d02",
   "metadata": {},
   "source": [
    "##### Note: Both union() and update() will exclude any duplicate items."
   ]
  },
  {
   "cell_type": "markdown",
   "id": "77811505-9f7d-42ae-bce3-b151ba25bfae",
   "metadata": {},
   "source": [
    "### Keep ONLY the Duplicate"
   ]
  },
  {
   "cell_type": "markdown",
   "id": "a0b9e678-46a9-489d-8248-8655412064bc",
   "metadata": {},
   "source": [
    "* The intersection_update() method will keep only the items that are present in both sets.\n"
   ]
  },
  {
   "cell_type": "code",
   "execution_count": 87,
   "id": "f69096c1-cdde-418f-9e76-4fefd98e77ae",
   "metadata": {},
   "outputs": [
    {
     "name": "stdout",
     "output_type": "stream",
     "text": [
      "{'apple'}\n"
     ]
    }
   ],
   "source": [
    "set1 = {\"apple\", \"kiwi\", \"cherry\"}\n",
    "set2 = {\"pineapple\", \"mango\", \"apple\"}\n",
    "\n",
    "set1.intersection_update(set2)\n",
    "print(set1)"
   ]
  },
  {
   "cell_type": "markdown",
   "id": "ea29ebea-c1a8-495b-a966-6f929d487d53",
   "metadata": {},
   "source": [
    "### Keep All, But NOT the Duplicates\n",
    "* The symmetric_difference_update() method will keep only the elements that are NOT present in both sets."
   ]
  },
  {
   "cell_type": "code",
   "execution_count": 88,
   "id": "f3bd7934-a4af-4b37-aefc-9d64c8dd6175",
   "metadata": {},
   "outputs": [
    {
     "name": "stdout",
     "output_type": "stream",
     "text": [
      "{'mango', 'cherry', 'kiwi', 'pineapple'}\n"
     ]
    }
   ],
   "source": [
    "set1 = {\"apple\", \"kiwi\", \"cherry\"}\n",
    "set2 = {\"pineapple\", \"mango\", \"apple\"}\n",
    "\n",
    "set1.symmetric_difference_update(set2)\n",
    "print(set1)"
   ]
  },
  {
   "cell_type": "markdown",
   "id": "6f662423-4bd6-493a-babf-2694f2883e4b",
   "metadata": {},
   "source": [
    "#### The symmetric_difference() method will return a new set, that contains only the elements that are NOT present in both sets."
   ]
  },
  {
   "cell_type": "code",
   "execution_count": 89,
   "id": "0b143875-4bc4-4120-85cc-12ea87167add",
   "metadata": {},
   "outputs": [
    {
     "name": "stdout",
     "output_type": "stream",
     "text": [
      "{'mango', 'cherry', 'kiwi', 'pineapple'}\n"
     ]
    }
   ],
   "source": [
    "set1 = {\"apple\", \"kiwi\", \"cherry\"}\n",
    "set2 = {\"pineapple\", \"mango\", \"apple\"}\n",
    "\n",
    "set3 = set1.symmetric_difference(set2)\n",
    "print(set3)"
   ]
  },
  {
   "cell_type": "code",
   "execution_count": null,
   "id": "0939523f-a774-42e5-9732-4b0a342c980c",
   "metadata": {},
   "outputs": [],
   "source": []
  }
 ],
 "metadata": {
  "kernelspec": {
   "display_name": "Python 3 (ipykernel)",
   "language": "python",
   "name": "python3"
  },
  "language_info": {
   "codemirror_mode": {
    "name": "ipython",
    "version": 3
   },
   "file_extension": ".py",
   "mimetype": "text/x-python",
   "name": "python",
   "nbconvert_exporter": "python",
   "pygments_lexer": "ipython3",
   "version": "3.12.0"
  }
 },
 "nbformat": 4,
 "nbformat_minor": 5
}

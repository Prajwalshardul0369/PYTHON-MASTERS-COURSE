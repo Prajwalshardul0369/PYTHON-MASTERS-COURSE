{
 "cells": [
  {
   "cell_type": "markdown",
   "id": "77930232-64e8-4274-ad21-166831ff6935",
   "metadata": {},
   "source": [
    "###  Python Tuples "
   ]
  },
  {
   "cell_type": "markdown",
   "id": "c5ede9f0-1e2e-4e13-9e1b-4e6ca730267e",
   "metadata": {},
   "source": [
    "tuples are used to store multiple items in a single variable "
   ]
  },
  {
   "cell_type": "markdown",
   "id": "c7be020d-70d1-4389-bf5d-8f0c21651875",
   "metadata": {},
   "source": [
    "tuples is one of 4 build-in data types in pyrhon used to store collection of data, the others 3 are List, Set and Dictionary, all different qualities and usage.\n",
    "\n",
    "A tuple a collection which is oredered and unchangeable.\n",
    "\n",
    "Tuples are written with round brackets()\n"
   ]
  },
  {
   "cell_type": "code",
   "execution_count": 3,
   "id": "f1398ada-e629-4463-91d8-e29742f4568d",
   "metadata": {},
   "outputs": [
    {
     "name": "stdout",
     "output_type": "stream",
     "text": [
      "()\n"
     ]
    }
   ],
   "source": [
    "T = ()\n",
    "print(T)"
   ]
  },
  {
   "cell_type": "code",
   "execution_count": 4,
   "id": "91bce9f8-2544-4fd7-ad6c-8defd603020a",
   "metadata": {},
   "outputs": [
    {
     "name": "stdout",
     "output_type": "stream",
     "text": [
      "(10, 3.14, 'Data Science', 98, 65, 'Python', 88)\n"
     ]
    }
   ],
   "source": [
    "T = (10,3.14,\"Data Science\",98,65,\"Python\",88)\n",
    "print(T)"
   ]
  },
  {
   "cell_type": "markdown",
   "id": "d2b1b6d8-ea67-48cf-8536-42da1474f909",
   "metadata": {},
   "source": [
    "*  Tuple items are ordered, unchangeable, and allow duplicate values.  \r",
    "* \n",
    "Tuple items are indexed, the first item has index [0], the second item has inde[1] et.      .* \r\n",
    "Tuples are unchangeable, meaning that we cannot change, add or remove items after the tuple has been creat.  \n",
    "  d* .\r\n",
    "Since tuple are indexed, tuples can have items with the same value: "
   ]
  },
  {
   "cell_type": "code",
   "execution_count": 5,
   "id": "0b3f13a0-8cac-4eaa-90af-7700db4e8d8f",
   "metadata": {},
   "outputs": [
    {
     "data": {
      "text/plain": [
       "10"
      ]
     },
     "execution_count": 5,
     "metadata": {},
     "output_type": "execute_result"
    }
   ],
   "source": [
    "T[0]"
   ]
  },
  {
   "cell_type": "markdown",
   "id": "2b3e702e-b0a7-4678-a28a-eca0a2fd9d69",
   "metadata": {},
   "source": [
    "#### Determine the length and type of a list"
   ]
  },
  {
   "cell_type": "code",
   "execution_count": 6,
   "id": "809bde25-d5d4-4c3c-805d-318709408efb",
   "metadata": {},
   "outputs": [
    {
     "name": "stdout",
     "output_type": "stream",
     "text": [
      "7\n"
     ]
    }
   ],
   "source": [
    "print(len(T))"
   ]
  },
  {
   "cell_type": "code",
   "execution_count": 7,
   "id": "8a223674-af91-4036-85ea-da4d7a0cabd9",
   "metadata": {},
   "outputs": [
    {
     "name": "stdout",
     "output_type": "stream",
     "text": [
      "<class 'tuple'>\n"
     ]
    }
   ],
   "source": [
    "print(type(T))"
   ]
  },
  {
   "cell_type": "markdown",
   "id": "23fccba9-198d-44a7-ba29-05e19f63132b",
   "metadata": {},
   "source": [
    "#### Access tuple items"
   ]
  },
  {
   "cell_type": "markdown",
   "id": "85ac97da-f72c-4b0b-86aa-32af546e4c85",
   "metadata": {},
   "source": [
    "* Tuple items are indexed and you can access them by referring to the index number:\n",
    "  \r",
    "* \n",
    "Negative indexing means start from the end\n",
    "  .* \r\n",
    "1 refers to the last item, -2 refers to the second last item et  c\n",
    "* .\r\n",
    "You can specify a range of indexes by specifying where to start and where to end the range."
   ]
  },
  {
   "cell_type": "code",
   "execution_count": 8,
   "id": "7e8dcef7-70ec-4970-abbb-4964b8cd76a7",
   "metadata": {},
   "outputs": [
    {
     "name": "stdout",
     "output_type": "stream",
     "text": [
      "(10, 3.14, 'Machine Learning', 98.34, 100, 'Python', 77)\n",
      "(10, 3.14, 'Machine Learning', 98.34, 100, 'Python', 77)\n",
      "(10, 3.14, 'Machine Learning', 98.34, 100, 'Python', 77)\n",
      "10\n",
      "('Machine Learning', 98.34, 100)\n",
      "('Machine Learning', 98.34, 100, 'Python', 77)\n",
      "(10, 3.14, 'Machine Learning', 98.34, 100)\n",
      "77\n",
      "(100, 'Python', 77)\n"
     ]
    }
   ],
   "source": [
    "T = (10,3.14,\"Machine Learning\",98.34,100,\"Python\",77)\n",
    "print(T)\n",
    "print(T[:])\n",
    "print(T[::])\n",
    "print(T[0])\n",
    "print(T[2:5])\n",
    "print(T[2:])\n",
    "print(T[:5])\n",
    "print(T[-1])\n",
    "print(T[-3:])"
   ]
  },
  {
   "cell_type": "markdown",
   "id": "c2b1bf03-ca45-4383-9cd8-1c5f777165d2",
   "metadata": {},
   "source": [
    "#### Change Tuple Values"
   ]
  },
  {
   "cell_type": "markdown",
   "id": "6e7d5783-90e2-46a4-a3b4-82587536a0a5",
   "metadata": {},
   "source": [
    "* Once a tuple is created, you cannot change its values. Tuples are unchangeable, or immutable as it also is called.\n",
    "* But there is a workaround. You can convert the tuple into a list, change the list, and convert the list back into a tuple."
   ]
  },
  {
   "cell_type": "code",
   "execution_count": 9,
   "id": "1e909343-e8ca-47b6-857b-0fc9653dad42",
   "metadata": {},
   "outputs": [
    {
     "name": "stdout",
     "output_type": "stream",
     "text": [
      "(10, 3.14, 'Machine Learning', 98.34, 100, 'Python', 77)\n"
     ]
    }
   ],
   "source": [
    "print(T)"
   ]
  },
  {
   "cell_type": "code",
   "execution_count": 10,
   "id": "ba5eb405-ec75-45c5-b3ef-e1c7d9c98d50",
   "metadata": {},
   "outputs": [
    {
     "name": "stdout",
     "output_type": "stream",
     "text": [
      "(10, 'Python masters course ', 'Machine Learning', 98.34, 100, 'Python', 77)\n"
     ]
    }
   ],
   "source": [
    "L = list(T)\n",
    "L[1] = \"Python masters course \"\n",
    "\n",
    "T = tuple(L)\n",
    "print(T)"
   ]
  },
  {
   "cell_type": "markdown",
   "id": "ac4faae7-86a3-48cd-b3b8-1e02c387f3a4",
   "metadata": {},
   "source": [
    "#### Unpacking a tuple:"
   ]
  },
  {
   "cell_type": "code",
   "execution_count": 11,
   "id": "812eb084-0a43-4b35-a076-2ef4c8d1f1b6",
   "metadata": {},
   "outputs": [
    {
     "name": "stdout",
     "output_type": "stream",
     "text": [
      "python\n",
      "10\n",
      "45.66\n"
     ]
    }
   ],
   "source": [
    "a,b,c = ('python',10,45.66)\n",
    "print(a)\n",
    "print(b)\n",
    "print(c)"
   ]
  },
  {
   "cell_type": "markdown",
   "id": "1396a8a1-1128-4333-88b8-7e56ed4b1914",
   "metadata": {},
   "source": [
    "#### Loop Through a Tuple"
   ]
  },
  {
   "cell_type": "markdown",
   "id": "b500a49b-c2cb-48ef-b597-d262cfbb2f22",
   "metadata": {},
   "source": [
    "* You can loop through the tuple items by using a for loop"
   ]
  },
  {
   "cell_type": "code",
   "execution_count": 12,
   "id": "ffb9db5a-657c-430a-a6b2-743070431117",
   "metadata": {},
   "outputs": [
    {
     "name": "stdout",
     "output_type": "stream",
     "text": [
      "10\n",
      "3.14\n",
      "Machine Learning\n",
      "98.34\n",
      "100\n",
      "Python\n",
      "77\n"
     ]
    }
   ],
   "source": [
    "T = (10,3.14,\"Machine Learning\",98.34,100,\"Python\",77)\n",
    "for item in T:\n",
    "    print(item)"
   ]
  },
  {
   "cell_type": "markdown",
   "id": "bc26cd8e-19c8-4131-b185-679ab61c6aee",
   "metadata": {},
   "source": [
    "#### Loop Through the Index Numbers"
   ]
  },
  {
   "cell_type": "code",
   "execution_count": 13,
   "id": "97e6568a-4f14-4308-a4a2-3cec2d2c7b54",
   "metadata": {},
   "outputs": [
    {
     "name": "stdout",
     "output_type": "stream",
     "text": [
      "10\n",
      "Python masters course \n",
      "Machine Learning\n",
      "98.34\n",
      "100\n",
      "Python\n",
      "77\n"
     ]
    }
   ],
   "source": [
    "for i in range(len(T)):\n",
    "    print(L[i])"
   ]
  },
  {
   "cell_type": "markdown",
   "id": "1aa4cb51-26cd-4372-91bf-a1ea3c55efa8",
   "metadata": {},
   "source": [
    "#### Print list items using while loop"
   ]
  },
  {
   "cell_type": "code",
   "execution_count": 14,
   "id": "94088e50-5a45-4031-ae7a-876a72afe5db",
   "metadata": {},
   "outputs": [
    {
     "name": "stdout",
     "output_type": "stream",
     "text": [
      "10\n",
      "3.14\n",
      "Machine Learning\n",
      "98.34\n",
      "100\n",
      "Python\n",
      "77\n"
     ]
    }
   ],
   "source": [
    "T = (10,3.14,\"Machine Learning\",98.34,100,\"Python\",77)\n",
    "i=0\n",
    "while i < len(T):\n",
    "    print(T[i])\n",
    "    i = i + 1"
   ]
  },
  {
   "cell_type": "markdown",
   "id": "2ec79f7f-e363-4b86-900e-54c5625419e7",
   "metadata": {},
   "source": [
    "#### Join Two Tuples"
   ]
  },
  {
   "cell_type": "code",
   "execution_count": 15,
   "id": "e96673b0-878e-4b3e-a464-505ec67e430e",
   "metadata": {},
   "outputs": [
    {
     "name": "stdout",
     "output_type": "stream",
     "text": [
      "(1, 2, 3, 4, 5, 6)\n"
     ]
    }
   ],
   "source": [
    "T1 = (1,2,3)\n",
    "T2 = (4,5,6)\n",
    "T3 = T1 + T2\n",
    "print(T3)"
   ]
  },
  {
   "cell_type": "markdown",
   "id": "a334e5c4-1d72-4424-9993-de4fb1eb0d41",
   "metadata": {},
   "source": [
    "#### Multiply Tuples"
   ]
  },
  {
   "cell_type": "code",
   "execution_count": 16,
   "id": "65d9d137-8302-4170-9be3-cc1c3ebb0b07",
   "metadata": {},
   "outputs": [
    {
     "name": "stdout",
     "output_type": "stream",
     "text": [
      "(3, 6, 9, 3, 6, 9, 3, 6, 9)\n"
     ]
    }
   ],
   "source": [
    "T1 = (3,6,9)\n",
    "print(T1 * 3)"
   ]
  },
  {
   "cell_type": "markdown",
   "id": "b4423c33-e272-4de3-af1a-78575420fdeb",
   "metadata": {},
   "source": [
    "#### Count item in Tuple"
   ]
  },
  {
   "cell_type": "code",
   "execution_count": 17,
   "id": "d24b10e8-4f47-481d-bee8-d102d2ce34c2",
   "metadata": {},
   "outputs": [
    {
     "data": {
      "text/plain": [
       "3"
      ]
     },
     "execution_count": 17,
     "metadata": {},
     "output_type": "execute_result"
    }
   ],
   "source": [
    "T1 = (1,45,35,78,35,67,45,25,78,45)\n",
    "T1.count(45)"
   ]
  },
  {
   "cell_type": "markdown",
   "id": "47cd7271-5359-4fc6-ba7e-2f0edd0dff95",
   "metadata": {},
   "source": [
    "#### Find index of a item in tuple"
   ]
  },
  {
   "cell_type": "code",
   "execution_count": 18,
   "id": "b1ed11dc-41d7-4aa2-b6b2-59d5ac646ead",
   "metadata": {},
   "outputs": [
    {
     "data": {
      "text/plain": [
       "2"
      ]
     },
     "execution_count": 18,
     "metadata": {},
     "output_type": "execute_result"
    }
   ],
   "source": [
    "T1.index(35)"
   ]
  },
  {
   "cell_type": "code",
   "execution_count": 19,
   "id": "8732a837-815a-43da-a586-b8c87a8c160f",
   "metadata": {},
   "outputs": [
    {
     "data": {
      "text/plain": [
       "7"
      ]
     },
     "execution_count": 19,
     "metadata": {},
     "output_type": "execute_result"
    }
   ],
   "source": [
    "T1.index(25)"
   ]
  },
  {
   "cell_type": "code",
   "execution_count": null,
   "id": "5dd509c1-047b-4d67-b6d0-1ffb665b3cd0",
   "metadata": {},
   "outputs": [],
   "source": []
  }
 ],
 "metadata": {
  "kernelspec": {
   "display_name": "Python 3 (ipykernel)",
   "language": "python",
   "name": "python3"
  },
  "language_info": {
   "codemirror_mode": {
    "name": "ipython",
    "version": 3
   },
   "file_extension": ".py",
   "mimetype": "text/x-python",
   "name": "python",
   "nbconvert_exporter": "python",
   "pygments_lexer": "ipython3",
   "version": "3.12.0"
  }
 },
 "nbformat": 4,
 "nbformat_minor": 5
}

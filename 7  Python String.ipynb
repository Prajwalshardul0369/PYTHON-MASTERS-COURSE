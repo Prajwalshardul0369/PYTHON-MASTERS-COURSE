{
 "cells": [
  {
   "cell_type": "markdown",
   "id": "d5e9f571-1dfa-4d34-acec-c80d9d2c9f93",
   "metadata": {},
   "source": [
    "## Strings in Python\n"
   ]
  },
  {
   "cell_type": "markdown",
   "id": "9ca4b10a-ec61-41ae-8e42-28092325cc7e",
   "metadata": {},
   "source": [
    "Strings are used in Python to record text information, such as name. Strings in Python are actually a sequence, which basically means Python keeps track of every element in the string as a sequence. For example, Python understands the string \"hello' to be a sequence of letters in a specific order. This means we will be able to use indexing to grab particular letters (like the first letter, or the last letter)."
   ]
  },
  {
   "cell_type": "markdown",
   "id": "f4666849-687d-4015-8a03-c7bb77bd0870",
   "metadata": {},
   "source": [
    "This idea of a sequence is an important one in Python and we will touch upon it later on in the future."
   ]
  },
  {
   "cell_type": "markdown",
   "id": "eaed2ad8-4c86-4d6b-af19-5493cf4b622f",
   "metadata": {},
   "source": [
    "In this lecture we'll learn about the following:"
   ]
  },
  {
   "cell_type": "markdown",
   "id": "8d820cd4-77c8-4ffa-bb6d-e362074691ee",
   "metadata": {},
   "source": [
    "1.) Creating Strings    \n",
    "2.) Printing Strings   \n",
    "3.) Differences in Printing in Python 2 vs 3     \n",
    "4.) String Indexing and Slicing     \n",
    "5.) String Properties    \n",
    "6.) String Methods     \n",
    "7.) Print Formatting     "
   ]
  },
  {
   "cell_type": "markdown",
   "id": "5c105851-aac1-4c89-9ce5-8777bf1976e9",
   "metadata": {},
   "source": [
    "### Creating a String"
   ]
  },
  {
   "cell_type": "markdown",
   "id": "b77f642c-819c-4792-86e4-5daefdedb001",
   "metadata": {},
   "source": [
    "To create a string in Python you need to use either single quotes or double quotes. For example:"
   ]
  },
  {
   "cell_type": "code",
   "execution_count": 1,
   "id": "8686f213-2b68-4145-b772-04f1016bb44b",
   "metadata": {},
   "outputs": [
    {
     "data": {
      "text/plain": [
       "'python'"
      ]
     },
     "execution_count": 1,
     "metadata": {},
     "output_type": "execute_result"
    }
   ],
   "source": [
    "# Single word\n",
    "'python'"
   ]
  },
  {
   "cell_type": "code",
   "execution_count": 2,
   "id": "a0981a4c-1be6-4db1-b9ce-e58ff46b412b",
   "metadata": {},
   "outputs": [
    {
     "data": {
      "text/plain": [
       "'This is also a string'"
      ]
     },
     "execution_count": 2,
     "metadata": {},
     "output_type": "execute_result"
    }
   ],
   "source": [
    "# Entire phrase \n",
    "'This is also a string'"
   ]
  },
  {
   "cell_type": "code",
   "execution_count": 3,
   "id": "d12dbfe9-8057-468f-a446-640d49ef2195",
   "metadata": {},
   "outputs": [
    {
     "data": {
      "text/plain": [
       "'String built with double quotes'"
      ]
     },
     "execution_count": 3,
     "metadata": {},
     "output_type": "execute_result"
    }
   ],
   "source": [
    "# We can also use double quote\n",
    "\"String built with double quotes\""
   ]
  },
  {
   "cell_type": "code",
   "execution_count": 4,
   "id": "e704597e-85b6-428d-bf6d-7612a22e1829",
   "metadata": {},
   "outputs": [
    {
     "ename": "SyntaxError",
     "evalue": "unterminated string literal (detected at line 2) (3013451865.py, line 2)",
     "output_type": "error",
     "traceback": [
      "\u001b[1;36m  Cell \u001b[1;32mIn[4], line 2\u001b[1;36m\u001b[0m\n\u001b[1;33m    ' I'm using single quotes, but will create an error'\u001b[0m\n\u001b[1;37m                                                       ^\u001b[0m\n\u001b[1;31mSyntaxError\u001b[0m\u001b[1;31m:\u001b[0m unterminated string literal (detected at line 2)\n"
     ]
    }
   ],
   "source": [
    "# Be careful with quotes!\n",
    "' I'm using single quotes, but will create an error'"
   ]
  },
  {
   "cell_type": "markdown",
   "id": "859f39f0-0402-4d9f-a56b-3fc9a20e6b13",
   "metadata": {},
   "source": [
    "The reason for the error above is because the single quote in I'm stopped the string. You can use combinations of double and single quotes to get the complete statement."
   ]
  },
  {
   "cell_type": "code",
   "execution_count": 5,
   "id": "a89a60db-06d2-4b7f-9567-c91416210ab8",
   "metadata": {},
   "outputs": [
    {
     "data": {
      "text/plain": [
       "\"Now I'm ready to use the single quotes inside a string!\""
      ]
     },
     "execution_count": 5,
     "metadata": {},
     "output_type": "execute_result"
    }
   ],
   "source": [
    "\"Now I'm ready to use the single quotes inside a string!\""
   ]
  },
  {
   "cell_type": "markdown",
   "id": "7c9a6b46-4676-4e3a-b697-aa79c0182399",
   "metadata": {},
   "source": [
    "We can also use triple quotes. They function the same way as double and single qoutes."
   ]
  },
  {
   "cell_type": "code",
   "execution_count": 6,
   "id": "8716426a-7e60-4f5b-bed3-e02f96fdb48f",
   "metadata": {},
   "outputs": [
    {
     "data": {
      "text/plain": [
       "'This is a string with triple qoutes'"
      ]
     },
     "execution_count": 6,
     "metadata": {},
     "output_type": "execute_result"
    }
   ],
   "source": [
    "\"\"\"This is a string with triple qoutes\"\"\"\n"
   ]
  },
  {
   "cell_type": "markdown",
   "id": "062ef3f7-43e3-44c9-b104-4b0a35160a81",
   "metadata": {},
   "source": [
    "Just like using double qoutes to use single qoutes without escape characters, we can do the same with double quotes and triple quotes. But its not optimal since you have to put an extra line in between them."
   ]
  },
  {
   "cell_type": "code",
   "execution_count": 7,
   "id": "83a22e9b-241d-4570-9619-c5126101b119",
   "metadata": {},
   "outputs": [
    {
     "data": {
      "text/plain": [
       "'The man said \"What is that going on over there!\" '"
      ]
     },
     "execution_count": 7,
     "metadata": {},
     "output_type": "execute_result"
    }
   ],
   "source": [
    "\"\"\"The man said \"What is that going on over there!\" \"\"\""
   ]
  },
  {
   "cell_type": "code",
   "execution_count": 8,
   "id": "dc4a53a2-870b-40a6-bfd2-08de83505b17",
   "metadata": {},
   "outputs": [
    {
     "ename": "SyntaxError",
     "evalue": "unterminated string literal (detected at line 1) (576430101.py, line 1)",
     "output_type": "error",
     "traceback": [
      "\u001b[1;36m  Cell \u001b[1;32mIn[8], line 1\u001b[1;36m\u001b[0m\n\u001b[1;33m    \"\"\"The man said \"What is that going on over there!\"\"\"\"\u001b[0m\n\u001b[1;37m                                                         ^\u001b[0m\n\u001b[1;31mSyntaxError\u001b[0m\u001b[1;31m:\u001b[0m unterminated string literal (detected at line 1)\n"
     ]
    }
   ],
   "source": [
    "\"\"\"The man said \"What is that going on over there!\"\"\"\""
   ]
  },
  {
   "cell_type": "markdown",
   "id": "97761ec7-f2be-4d09-97a8-9b12baccc830",
   "metadata": {},
   "source": [
    "Must add space"
   ]
  },
  {
   "cell_type": "markdown",
   "id": "8e3e759b-3f1c-4aa7-8b15-d0d8eee6529f",
   "metadata": {},
   "source": [
    "So just use the single quotes around double quotes first."
   ]
  },
  {
   "cell_type": "code",
   "execution_count": 11,
   "id": "0c6afdf6-37ca-4af8-81f9-5ab97f7ffb91",
   "metadata": {},
   "outputs": [
    {
     "data": {
      "text/plain": [
       "'There went \"The Animal\"'"
      ]
     },
     "execution_count": 11,
     "metadata": {},
     "output_type": "execute_result"
    }
   ],
   "source": [
    "'There went \"The Animal\"'"
   ]
  },
  {
   "cell_type": "markdown",
   "id": "896fd003-52c1-4121-a7d6-aada9073cf59",
   "metadata": {},
   "source": [
    "Escape characters. If there is some where situation where you need a bunch of quotes, you can use escape character \\' \\'.\n",
    "Just make sure you close the end of the string without the escape character ."
   ]
  },
  {
   "cell_type": "code",
   "execution_count": 12,
   "id": "114ed209-110f-4fb0-acec-6d9c6f05c58f",
   "metadata": {},
   "outputs": [
    {
     "data": {
      "text/plain": [
       "\"There went the man called 'Boaty McBoatFace'\""
      ]
     },
     "execution_count": 12,
     "metadata": {},
     "output_type": "execute_result"
    }
   ],
   "source": [
    "'There went the man called \\'Boaty McBoatFace\\'' "
   ]
  },
  {
   "cell_type": "markdown",
   "id": "88e2867c-af28-4682-bd0f-879ab8132c50",
   "metadata": {},
   "source": [
    "### Printing a String"
   ]
  },
  {
   "cell_type": "markdown",
   "id": "07677bd3-734a-422a-88ef-0f710501910e",
   "metadata": {},
   "source": [
    "Using Jupyter notebook with just a string in a cell will automatically output strings, but the correct way to display strings in your output is by using a print function."
   ]
  },
  {
   "cell_type": "code",
   "execution_count": 13,
   "id": "9176d564-29b7-41ca-9e39-7a8b0d60b47b",
   "metadata": {},
   "outputs": [
    {
     "data": {
      "text/plain": [
       "'Hello World'"
      ]
     },
     "execution_count": 13,
     "metadata": {},
     "output_type": "execute_result"
    }
   ],
   "source": [
    "# We can simply declare a string\n",
    "'Hello World'"
   ]
  },
  {
   "cell_type": "code",
   "execution_count": 14,
   "id": "ad74ec21-6361-4e1f-90e7-5abe294dad06",
   "metadata": {},
   "outputs": [
    {
     "data": {
      "text/plain": [
       "'Hello World 2'"
      ]
     },
     "execution_count": 14,
     "metadata": {},
     "output_type": "execute_result"
    }
   ],
   "source": [
    "# note that we can't output multiple strings this way\n",
    "'Hello World 1'\n",
    "'Hello World 2'"
   ]
  },
  {
   "cell_type": "code",
   "execution_count": 15,
   "id": "c0d699a7-45b4-40d7-805e-90099c2ab90b",
   "metadata": {},
   "outputs": [
    {
     "name": "stdout",
     "output_type": "stream",
     "text": [
      "Hello World\n",
      "Hello World\n"
     ]
    }
   ],
   "source": [
    "print('Hello World')\n",
    "print('Hello World')\n"
   ]
  },
  {
   "cell_type": "markdown",
   "id": "9feaf8d5-7c10-44f0-a4ce-2a7d372d16ed",
   "metadata": {},
   "source": [
    "The combination \"\\n\" makes a newline appear in a string. You can use newlines anywhere you like in a string."
   ]
  },
  {
   "cell_type": "code",
   "execution_count": 16,
   "id": "a451524d-4c60-40b2-813a-e1741f125bea",
   "metadata": {},
   "outputs": [
    {
     "name": "stdout",
     "output_type": "stream",
     "text": [
      "\n",
      "Hello everyone!\n"
     ]
    }
   ],
   "source": [
    "print(\"\\nHello everyone!\")"
   ]
  },
  {
   "cell_type": "code",
   "execution_count": 17,
   "id": "d878c510-0b9f-47ff-b4a9-217a125dbaee",
   "metadata": {},
   "outputs": [
    {
     "name": "stdout",
     "output_type": "stream",
     "text": [
      "\tHello everyone!\n"
     ]
    }
   ],
   "source": [
    "print(\"\\tHello everyone!\")"
   ]
  },
  {
   "cell_type": "markdown",
   "id": "4bd640ed-16f9-41fa-9230-a9b07a2c8ed1",
   "metadata": {},
   "source": [
    "### String Basics"
   ]
  },
  {
   "cell_type": "markdown",
   "id": "fb24de8a-d93d-49e7-95d3-63a439481457",
   "metadata": {},
   "source": [
    "We can also use a function called len() to check the length of a string!\n",
    "\n",
    "Sidenote: We can check the length of any data types that are collections with the same len() \"call\".\n",
    "It is considered a built-in function."
   ]
  },
  {
   "cell_type": "code",
   "execution_count": 18,
   "id": "d4e404af-bd75-49c1-8f87-b79695ad4427",
   "metadata": {},
   "outputs": [
    {
     "data": {
      "text/plain": [
       "15"
      ]
     },
     "execution_count": 18,
     "metadata": {},
     "output_type": "execute_result"
    }
   ],
   "source": [
    "len('PRAJWAL SHARDUL')\n"
   ]
  },
  {
   "cell_type": "markdown",
   "id": "05c29e0f-ed1e-43a6-8ea7-accc983a4b17",
   "metadata": {},
   "source": [
    "### String Indexing"
   ]
  },
  {
   "cell_type": "markdown",
   "id": "5f1dd145-829c-48a8-bbef-db39027604fb",
   "metadata": {},
   "source": [
    "We know strings are a sequence, which means Python can use indexes to call parts of the sequence. Let's learn how this works.\n",
    "\n",
    "In Python, we use brackets [] after an object to call its index. We should also note that indexing starts at 0 for Python. Let's create a new object called s and the walk through a few examples of indexing."
   ]
  },
  {
   "cell_type": "code",
   "execution_count": 19,
   "id": "270f5e86-dbe0-48b3-b910-f528c186435d",
   "metadata": {},
   "outputs": [],
   "source": [
    "# Assign s as a string\n",
    "s = 'Hello World'\n"
   ]
  },
  {
   "cell_type": "code",
   "execution_count": 20,
   "id": "17f58e35-a3ee-4b8e-977a-110ab4bf7367",
   "metadata": {},
   "outputs": [
    {
     "data": {
      "text/plain": [
       "'Hello World'"
      ]
     },
     "execution_count": 20,
     "metadata": {},
     "output_type": "execute_result"
    }
   ],
   "source": [
    "#Check\n",
    "s"
   ]
  },
  {
   "cell_type": "code",
   "execution_count": 21,
   "id": "ff36de80-f617-49e7-bf74-fe4f910ca6a0",
   "metadata": {},
   "outputs": [
    {
     "name": "stdout",
     "output_type": "stream",
     "text": [
      "Hello World\n"
     ]
    }
   ],
   "source": [
    "# Print the object\n",
    "print(s) "
   ]
  },
  {
   "cell_type": "markdown",
   "id": "8c88d5c1-49ab-4463-8967-f2deee2f87bc",
   "metadata": {},
   "source": [
    "### Let's start indexing!\n"
   ]
  },
  {
   "cell_type": "code",
   "execution_count": 22,
   "id": "1b17688d-f4de-45a6-8c58-0946f565eaed",
   "metadata": {},
   "outputs": [
    {
     "name": "stdout",
     "output_type": "stream",
     "text": [
      "https://github.com/Prajwalshardul0369/PYTHON-MASTERS-COURSE\n",
      "h\n",
      "/github.\n",
      "/github.com/Prajwalshardul0369/PYTHON-MASTERS-COURSE\n",
      "https://github.com/Prajwalshardul0369/PYTHON-MASTERS-COURSEhttps://github.com/Prajwalshardul0369/PYTHON-MASTERS-COURSE\n",
      "https:.https://github.com/Prajwalshardul0369/PYTHON-MASTERS-COURSE\n",
      "https://github.com/Prajwalshardul0369/PYTHON-MASTERS-COURSE\n",
      "https://github.com/Prajwalshardul0369/PYTHON-MASTERS-COURSE\n",
      "hts/gtu.o/rjasadl39PTO-ATR-ORE\n",
      "E\n",
      "RSE\n"
     ]
    }
   ],
   "source": [
    "s = \"https://github.com/Prajwalshardul0369/PYTHON-MASTERS-COURSE\"\n",
    "print(s)           # Prints complete string\n",
    "print(s[0])        # Prints first character of the string\n",
    "print(s[7:15])     # Prints characters starting from 3rd to 5th\n",
    "print(s[7:])       # Prints string starting from 3rd character\n",
    "print(s * 2)       # Prints string two times\n",
    "print('https:.' + s)  # Prints concatenated string\n",
    "print(s[:])        # Prints complete string with range start to end\n",
    "print(s[::])       # Prints complete string with range start to end with increment 1\n",
    "print(s[::2])      # Print String with increment of 2\n",
    "print(s[-1])       # print last character of a string\n",
    "print(s[-3:])      # print last 3 character of a string"
   ]
  },
  {
   "cell_type": "markdown",
   "id": "db4320d0-fc21-4ee1-b71e-9df4c03d85d4",
   "metadata": {},
   "source": [
    "### String Properties"
   ]
  },
  {
   "cell_type": "markdown",
   "id": "c6714e4a-5704-4f44-836e-62971ee73626",
   "metadata": {},
   "source": [
    "Its important to note that strings have an important property known as immutability. This means that once a string is created, the elements within it can not be changed or replaced. Immuntiblity is a concept seen in other data types.\n",
    "\n",
    "Immutability means that the data cannot mutate, aka the data cannot change. A new 'data object' needs to be created instead.\n",
    "\n",
    "For example"
   ]
  },
  {
   "cell_type": "markdown",
   "id": "6b747810-9da9-4f89-a257-9edfb7836dd2",
   "metadata": {},
   "source": [
    "#Let's try to change the first letter to 'x'\n",
    "s[0] = 'x'"
   ]
  },
  {
   "cell_type": "markdown",
   "id": "650c0369-c3d7-416a-9201-9b726ae7289c",
   "metadata": {},
   "source": [
    "Notice how the error tells us directly what we can't do, change the item assignment!\n",
    "\n",
    "Something we can do is concatenate strings!"
   ]
  },
  {
   "cell_type": "code",
   "execution_count": 25,
   "id": "a80e2f28-7bcc-43f8-88e4-595a6d4ed63a",
   "metadata": {},
   "outputs": [
    {
     "data": {
      "text/plain": [
       "'https://github.com/Prajwalshardul0369/PYTHON-MASTERS-COURSE'"
      ]
     },
     "execution_count": 25,
     "metadata": {},
     "output_type": "execute_result"
    }
   ],
   "source": [
    "s"
   ]
  },
  {
   "cell_type": "markdown",
   "id": "acb8a302-3267-4cd8-a232-bcca1d851040",
   "metadata": {},
   "source": [
    "Concatenate just means joining two strings together. Its a term used in other programming languages. But, don't be scared about the terms."
   ]
  },
  {
   "cell_type": "code",
   "execution_count": 26,
   "id": "e24d6bf8-134e-4db0-81fa-93d56e4ab6ff",
   "metadata": {},
   "outputs": [
    {
     "data": {
      "text/plain": [
       "'https://github.com/Prajwalshardul0369/PYTHON-MASTERS-COURSE concatenate me!'"
      ]
     },
     "execution_count": 26,
     "metadata": {},
     "output_type": "execute_result"
    }
   ],
   "source": [
    "# Concatenate strings!\n",
    "s + ' concatenate me!'"
   ]
  },
  {
   "cell_type": "code",
   "execution_count": 27,
   "id": "16d85e08-b699-4a0e-bce3-2c1026accca4",
   "metadata": {},
   "outputs": [],
   "source": [
    "# We can reassign s completely though!\n",
    "s = s + ' concatenate me!'"
   ]
  },
  {
   "cell_type": "code",
   "execution_count": 28,
   "id": "c7c2c438-a0e4-48ea-be8d-b7adfbb3ff51",
   "metadata": {},
   "outputs": [
    {
     "data": {
      "text/plain": [
       "'https://github.com/Prajwalshardul0369/PYTHON-MASTERS-COURSE concatenate me!'"
      ]
     },
     "execution_count": 28,
     "metadata": {},
     "output_type": "execute_result"
    }
   ],
   "source": [
    "s"
   ]
  },
  {
   "cell_type": "code",
   "execution_count": 29,
   "id": "fa7d3878-0729-4cd2-a134-6d0f86f11780",
   "metadata": {},
   "outputs": [
    {
     "name": "stdout",
     "output_type": "stream",
     "text": [
      "https://github.com/Prajwalshardul0369/PYTHON-MASTERS-COURSE concatenate me!\n"
     ]
    }
   ],
   "source": [
    "print(s)"
   ]
  },
  {
   "cell_type": "markdown",
   "id": "5ae0f7cb-fbf1-4a50-9e25-6232bcb04d04",
   "metadata": {},
   "source": [
    "We can use the multiplication symbol to create repetition!"
   ]
  },
  {
   "cell_type": "code",
   "execution_count": 30,
   "id": "b6989793-4062-4f91-b51a-b20c4ff41de2",
   "metadata": {},
   "outputs": [],
   "source": [
    "letter = 'z'"
   ]
  },
  {
   "cell_type": "code",
   "execution_count": 31,
   "id": "a5cfc248-43a5-4126-bd5e-967bf4cbec86",
   "metadata": {},
   "outputs": [
    {
     "data": {
      "text/plain": [
       "'zzzzzzzzzz'"
      ]
     },
     "execution_count": 31,
     "metadata": {},
     "output_type": "execute_result"
    }
   ],
   "source": [
    "letter*10"
   ]
  },
  {
   "cell_type": "markdown",
   "id": "b572b52d-eb35-49e2-9836-ff32f2dee283",
   "metadata": {},
   "source": [
    "### Basic Built-in String methods"
   ]
  },
  {
   "cell_type": "markdown",
   "id": "ed683d7a-4c31-49bc-9216-89d0e7390200",
   "metadata": {},
   "source": [
    "Objects in Python usually have built-in methods. These methods are functions inside the object (we will learn about these in much more depth later) that can perform actions or commands on the object itself. To keep it brief, methods are actions that a 'data thing', aka an object like a string, can take. Functions are actions that belong to no 'data thing' aka object, and just exist in the program.\n",
    "\n",
    "We call methods with a period and then the method name. Basically, we say 'Hey object, do this to these things\". The things in question that we are asking the object to mess with are placed in the parameters.\n",
    "\n",
    "Methods take the form:\n",
    "\n",
    "object.method(parameters)\n",
    "\n",
    "Where parameters are extra arguments we can pass into the method. Don't worry if the details don't make 100% sense right now. Later on we will be creating our own objects and functions! But, to keep it brief, parameters represent what the action for the object should take. The arguments are the actual 'data things' that it needs to take.\n",
    "\n",
    "Here are some examples of built-in methods in string"
   ]
  },
  {
   "cell_type": "code",
   "execution_count": 32,
   "id": "5371f1ae-3c55-4259-b442-8c9c86e68dfc",
   "metadata": {},
   "outputs": [
    {
     "name": "stdout",
     "output_type": "stream",
     "text": [
      "CODEX DEVLOPER \n",
      "codex devloper \n",
      "CODEX dEVLOPER \n",
      "15\n",
      "False\n",
      "False\n",
      "False\n",
      "False\n"
     ]
    }
   ],
   "source": [
    "s=\"codex Devloper \"\n",
    "print(s.upper())\n",
    "print(s.lower())\n",
    "print(s.swapcase())\n",
    "print(len(s))\n",
    "print(s.isupper())\n",
    "print(s.islower())\n",
    "print(s.isnumeric())\n",
    "print(s.isdigit())"
   ]
  },
  {
   "cell_type": "code",
   "execution_count": 33,
   "id": "556b903f-f62e-46a3-afb6-7b21625c8d47",
   "metadata": {},
   "outputs": [
    {
     "name": "stdout",
     "output_type": "stream",
     "text": [
      "x\n",
      " \n"
     ]
    }
   ],
   "source": [
    "print(max(s))\n",
    "print(min(s))"
   ]
  },
  {
   "cell_type": "code",
   "execution_count": 34,
   "id": "84629a2f-4dff-4cc0-a37b-ca7ce28e5c39",
   "metadata": {},
   "outputs": [
    {
     "data": {
      "text/plain": [
       "'This is a string...wow'"
      ]
     },
     "execution_count": 34,
     "metadata": {},
     "output_type": "execute_result"
    }
   ],
   "source": [
    "s='this is a string...wow'\n",
    "s.capitalize()"
   ]
  },
  {
   "cell_type": "code",
   "execution_count": 35,
   "id": "0085750a-d0af-47dd-9a30-9d5afabb2015",
   "metadata": {},
   "outputs": [
    {
     "name": "stdout",
     "output_type": "stream",
     "text": [
      "----------hello world, welcome to python tutorials----------\n"
     ]
    }
   ],
   "source": [
    "str='hello world, welcome to python tutorials'\n",
    "print (str.center(60,\"-\"))"
   ]
  },
  {
   "cell_type": "code",
   "execution_count": 36,
   "id": "f6b28bf0-1273-479b-b4c0-7d8ed75410d9",
   "metadata": {},
   "outputs": [
    {
     "name": "stdout",
     "output_type": "stream",
     "text": [
      "3\n",
      "2\n"
     ]
    }
   ],
   "source": [
    "s='this is a string..wow and wow!!!'\n",
    "print (s.count('i',2,40)) #s.count(string,start,end)\n",
    "print (s.count('wow'))"
   ]
  },
  {
   "cell_type": "markdown",
   "id": "4d539a6a-f33c-445b-a761-ecb64a08a8ec",
   "metadata": {},
   "source": [
    "### Print Formatting"
   ]
  },
  {
   "cell_type": "markdown",
   "id": "a1096849-6ba8-4b1d-be47-767afde319aa",
   "metadata": {},
   "source": [
    "We can use the .format() method to add formatted objects to printed string statements.\n",
    "\n",
    "The easiest way to show this is through an example:"
   ]
  },
  {
   "cell_type": "code",
   "execution_count": 37,
   "id": "99d40947-387a-4072-ab82-5f20754e3d28",
   "metadata": {},
   "outputs": [
    {
     "name": "stdout",
     "output_type": "stream",
     "text": [
      "My name is PRAJWAL  and Age is 21\n",
      "My Name is PRAJWAL  and Age is 21\n",
      "My Name is PRAJWAL  and Age is 21\n",
      "My Name is PRAJWAL  and Age is 21\n",
      "My Name is 21 and Age is PRAJWAL \n",
      "My Name is PRAJWAL  and age is 21\n",
      "My Name is PRAJWAL  and age is 21 and Sum is 30\n"
     ]
    }
   ],
   "source": [
    "Name='PRAJWAL '\n",
    "Age=21\n",
    "print(\"My name is\",Name,\"and Age is\",Age)\n",
    "print(\"My Name is %s and Age is %d\"%(Name,Age))\n",
    "print(\"My Name is {} and Age is {}\".format(Name,Age))\n",
    "print(\"My Name is {0} and Age is {1}\".format(Name,Age))\n",
    "print(\"My Name is {1} and Age is {0}\".format(Name,Age))\n",
    "print(f\"My Name is {Name} and age is {Age}\")\n",
    "print(f\"My Name is {Name} and age is {Age} and Sum is {10+20}\")"
   ]
  },
  {
   "cell_type": "markdown",
   "id": "f03f8501-a54d-4860-8bea-cd6c910ceec4",
   "metadata": {},
   "source": [
    "### Split Function"
   ]
  },
  {
   "cell_type": "code",
   "execution_count": 41,
   "id": "97cf303b-105b-49ab-82a3-6bada23b14a9",
   "metadata": {},
   "outputs": [
    {
     "data": {
      "text/plain": [
       "['Welcome', 'to', 'Python', 'MASTER', 'COURSE']"
      ]
     },
     "execution_count": 41,
     "metadata": {},
     "output_type": "execute_result"
    }
   ],
   "source": [
    "s=\"Welcome to Python MASTER COURSE \"\n",
    "s.split()\n"
   ]
  },
  {
   "cell_type": "code",
   "execution_count": 40,
   "id": "e4e8c01c-3967-4f64-a915-d7bb5dd14150",
   "metadata": {},
   "outputs": [
    {
     "data": {
      "text/plain": [
       "['Welcome', 'to', 'PYTHON  MASTER COURSE']"
      ]
     },
     "execution_count": 40,
     "metadata": {},
     "output_type": "execute_result"
    }
   ],
   "source": [
    "s=\"Welcome-to-PYTHON  MASTER COURSE\"\n",
    "s.split('-')"
   ]
  },
  {
   "cell_type": "markdown",
   "id": "da217d2e-f401-4fc0-a394-0cf7a3279fbc",
   "metadata": {},
   "source": [
    "### Strip Function"
   ]
  },
  {
   "cell_type": "code",
   "execution_count": 42,
   "id": "9329c21e-675c-4024-8d9f-1244537a8497",
   "metadata": {},
   "outputs": [
    {
     "name": "stdout",
     "output_type": "stream",
     "text": [
      "      Python          \n",
      "Python\n",
      "Python          \n",
      "      Python\n"
     ]
    }
   ],
   "source": [
    "s='      Python          '\n",
    "print(s)\n",
    "print(s.strip())\n",
    "print(s.lstrip())\n",
    "print(s.rstrip())"
   ]
  },
  {
   "cell_type": "code",
   "execution_count": 44,
   "id": "f4f4b8d8-42d5-48a4-b077-95ec9de9f8ef",
   "metadata": {},
   "outputs": [
    {
     "data": {
      "text/plain": [
       "'codex'"
      ]
     },
     "execution_count": 44,
     "metadata": {},
     "output_type": "execute_result"
    }
   ],
   "source": [
    "s = '$codex#'\n",
    "s = s.lstrip('$')\n",
    "s = s.rstrip('#')\n",
    "s"
   ]
  },
  {
   "cell_type": "code",
   "execution_count": null,
   "id": "3adeabe0-ae5d-431d-a114-fde618256f7b",
   "metadata": {},
   "outputs": [],
   "source": [
    "s = '$Itronx#'\n",
    "s.lstrip('$').rstrip('#')"
   ]
  }
 ],
 "metadata": {
  "kernelspec": {
   "display_name": "Python 3 (ipykernel)",
   "language": "python",
   "name": "python3"
  },
  "language_info": {
   "codemirror_mode": {
    "name": "ipython",
    "version": 3
   },
   "file_extension": ".py",
   "mimetype": "text/x-python",
   "name": "python",
   "nbconvert_exporter": "python",
   "pygments_lexer": "ipython3",
   "version": "3.12.0"
  }
 },
 "nbformat": 4,
 "nbformat_minor": 5
}

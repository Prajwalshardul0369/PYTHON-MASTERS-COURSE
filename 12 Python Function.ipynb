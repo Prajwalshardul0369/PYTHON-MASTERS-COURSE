{
 "cells": [
  {
   "cell_type": "markdown",
   "id": "78933cb6-2294-46d7-9a8b-b9a1718d7d9f",
   "metadata": {},
   "source": [
    "## Python Fumction"
   ]
  },
  {
   "cell_type": "markdown",
   "id": "6cd85592-53fe-410a-b8b4-a47f49f8b80a",
   "metadata": {},
   "source": [
    "* A function is a block of code which only runs when it is called.\n",
    "* You can pass data, known as parameters, into a function.\n",
    "* A function can return data as a resul\n",
    "* A colon (:) to mark the end of the function header.\n",
    "* An optional return statement to return a value from the function."
   ]
  },
  {
   "cell_type": "markdown",
   "id": "b6b1e919-77c0-4fcd-b8b6-e75daebf81c4",
   "metadata": {},
   "source": [
    "### Creating a Function"
   ]
  },
  {
   "cell_type": "markdown",
   "id": "595d7444-cf27-43d3-a37f-9513ee45ba85",
   "metadata": {},
   "source": [
    "* In Python a function is defined using the def keyword:"
   ]
  },
  {
   "cell_type": "code",
   "execution_count": 1,
   "id": "6f6d40c4-88e7-45ed-97dc-8b18aee00a46",
   "metadata": {},
   "outputs": [
    {
     "name": "stdout",
     "output_type": "stream",
     "text": [
      "hello,welcome to python master course\n"
     ]
    }
   ],
   "source": [
    "def function():\n",
    "    print(\"hello,welcome to python master course\")\n",
    "function()    "
   ]
  },
  {
   "cell_type": "code",
   "execution_count": 2,
   "id": "3bc16fa6-9ea6-4284-93b9-d36f5388daf6",
   "metadata": {},
   "outputs": [
    {
     "name": "stdout",
     "output_type": "stream",
     "text": [
      "hello,welcome to python master course\n"
     ]
    }
   ],
   "source": [
    "function()"
   ]
  },
  {
   "cell_type": "markdown",
   "id": "b53bc07f-d482-4c49-b815-3e861b167f43",
   "metadata": {},
   "source": [
    "### Scope of a Variable in Function\n",
    "Local variable is declared inside a function whereas Global variable is declared outside the function. Local variables are created when the function has started execution and is lost when the function terminates, on the other hand, Global variable is created as execution starts and is lost when the program ends."
   ]
  },
  {
   "cell_type": "code",
   "execution_count": 3,
   "id": "a670e946-b87c-4cb8-a9d0-1a853db36f70",
   "metadata": {},
   "outputs": [
    {
     "name": "stdout",
     "output_type": "stream",
     "text": [
      "Outside 10\n",
      "Inside: 10\n"
     ]
    }
   ],
   "source": [
    "a = 10\n",
    "def fun():\n",
    "    print(\"Inside:\",a)\n",
    "print(\"Outside\",a)\n",
    "fun()"
   ]
  },
  {
   "cell_type": "markdown",
   "id": "71ef8697-add2-4704-ae0e-e983acd84a44",
   "metadata": {},
   "source": [
    "##### Note: Gloal variable can be used anywhere"
   ]
  },
  {
   "cell_type": "code",
   "execution_count": 17,
   "id": "a539bce9-b83a-492f-94c9-980670fc41e7",
   "metadata": {},
   "outputs": [
    {
     "name": "stdout",
     "output_type": "stream",
     "text": [
      "Inside: 20\n",
      "Outside: 10\n"
     ]
    }
   ],
   "source": [
    "a=10 #Local Variable\n",
    "def fun():\n",
    "    a=20 #Global Variable\n",
    "    print(\"Inside:\",a)\n",
    "    \n",
    "fun()\n",
    "print(\"Outside:\",a)"
   ]
  },
  {
   "cell_type": "markdown",
   "id": "9dbaf692-3b81-430b-a6fc-f3ca0c87377c",
   "metadata": {},
   "source": [
    "##### Note: Inside local function, local variable priority is first"
   ]
  },
  {
   "cell_type": "code",
   "execution_count": 18,
   "id": "4b159d8e-c8d3-487e-bf3a-efa7cb04b022",
   "metadata": {},
   "outputs": [
    {
     "ename": "UnboundLocalError",
     "evalue": "cannot access local variable 'a' where it is not associated with a value",
     "output_type": "error",
     "traceback": [
      "\u001b[1;31m---------------------------------------------------------------------------\u001b[0m",
      "\u001b[1;31mUnboundLocalError\u001b[0m                         Traceback (most recent call last)",
      "Cell \u001b[1;32mIn[18], line 6\u001b[0m\n\u001b[0;32m      3\u001b[0m     a\u001b[38;5;241m=\u001b[39ma\u001b[38;5;241m+\u001b[39m\u001b[38;5;241m30\u001b[39m\n\u001b[0;32m      4\u001b[0m     \u001b[38;5;28mprint\u001b[39m(\u001b[38;5;124m\"\u001b[39m\u001b[38;5;124mInside:\u001b[39m\u001b[38;5;124m\"\u001b[39m,a)\n\u001b[1;32m----> 6\u001b[0m \u001b[43mfun\u001b[49m\u001b[43m(\u001b[49m\u001b[43m)\u001b[49m\n\u001b[0;32m      7\u001b[0m \u001b[38;5;28mprint\u001b[39m(\u001b[38;5;124m\"\u001b[39m\u001b[38;5;124mOutside:\u001b[39m\u001b[38;5;124m\"\u001b[39m,a) \u001b[38;5;66;03m# error\u001b[39;00m\n",
      "Cell \u001b[1;32mIn[18], line 3\u001b[0m, in \u001b[0;36mfun\u001b[1;34m()\u001b[0m\n\u001b[0;32m      2\u001b[0m \u001b[38;5;28;01mdef\u001b[39;00m \u001b[38;5;21mfun\u001b[39m():\n\u001b[1;32m----> 3\u001b[0m     a\u001b[38;5;241m=\u001b[39m\u001b[43ma\u001b[49m\u001b[38;5;241m+\u001b[39m\u001b[38;5;241m30\u001b[39m\n\u001b[0;32m      4\u001b[0m     \u001b[38;5;28mprint\u001b[39m(\u001b[38;5;124m\"\u001b[39m\u001b[38;5;124mInside:\u001b[39m\u001b[38;5;124m\"\u001b[39m,a)\n",
      "\u001b[1;31mUnboundLocalError\u001b[0m: cannot access local variable 'a' where it is not associated with a value"
     ]
    }
   ],
   "source": [
    "a=10\n",
    "def fun():\n",
    "    a=a+30\n",
    "    print(\"Inside:\",a)\n",
    "\n",
    "fun()\n",
    "print(\"Outside:\",a) # error"
   ]
  },
  {
   "cell_type": "markdown",
   "id": "3fe78cc3-433e-4415-aa57-f9a4c6afdf12",
   "metadata": {},
   "source": [
    "##### Note : We can'not change global variable value inside a local function directly"
   ]
  },
  {
   "cell_type": "code",
   "execution_count": 19,
   "id": "0a49ce98-5b34-475f-ac31-669d602101a1",
   "metadata": {},
   "outputs": [
    {
     "name": "stdout",
     "output_type": "stream",
     "text": [
      "Inside: 40\n",
      "Outside: 40\n"
     ]
    }
   ],
   "source": [
    "a=10\n",
    "def fun():\n",
    "    global a\n",
    "    a=a+30\n",
    "    print(\"Inside:\",a)\n",
    "\n",
    "fun()\n",
    "print(\"Outside:\",a)"
   ]
  },
  {
   "cell_type": "markdown",
   "id": "b16dd13c-62ce-48a5-b64c-2f33e2d650ac",
   "metadata": {},
   "source": [
    "### Types of Functions\n",
    "* Function with No Argument, No Return Value\n",
    "* Function with No Argument, with Return Value\n",
    "* Function with Argument, No Return Value\n",
    "* Function with Argument, with Return Value"
   ]
  },
  {
   "cell_type": "markdown",
   "id": "6368c45f-f841-49dd-b312-be984f967eec",
   "metadata": {},
   "source": [
    "### 1. Function with No Argument, No Return Value"
   ]
  },
  {
   "cell_type": "code",
   "execution_count": 20,
   "id": "10c4f593-1565-4fcd-9571-99f3bb3d3d8c",
   "metadata": {},
   "outputs": [
    {
     "name": "stdin",
     "output_type": "stream",
     "text": [
      "Enter First No: 50\n",
      "Enter Second No: 80\n"
     ]
    },
    {
     "name": "stdout",
     "output_type": "stream",
     "text": [
      "Sum: 130\n"
     ]
    }
   ],
   "source": [
    "def add():\n",
    "    a=int(input(\"Enter First No:\"))\n",
    "    b=int(input(\"Enter Second No:\"))\n",
    "    print(\"Sum:\",a+b)\n",
    "    \n",
    "add()"
   ]
  },
  {
   "cell_type": "markdown",
   "id": "ab66ee03-d8b2-4abd-9398-2463861c34af",
   "metadata": {},
   "source": [
    "### 2. Function with No Argument, with Return Value"
   ]
  },
  {
   "cell_type": "code",
   "execution_count": 21,
   "id": "973c748e-ac5c-490d-b86c-c7e46d7122d5",
   "metadata": {},
   "outputs": [
    {
     "name": "stdin",
     "output_type": "stream",
     "text": [
      "Enter First No: 70\n",
      "Enter Second No: 50\n"
     ]
    },
    {
     "name": "stdout",
     "output_type": "stream",
     "text": [
      "Sum: 120\n",
      "None\n"
     ]
    }
   ],
   "source": [
    "def add():\n",
    "    a=int(input(\"Enter First No:\"))\n",
    "    b=int(input(\"Enter Second No:\"))\n",
    "    print(\"Sum:\",a+b)\n",
    "    \n",
    "a=add()\n",
    "print(a)"
   ]
  },
  {
   "cell_type": "code",
   "execution_count": 22,
   "id": "ea2038d2-0d4c-4486-98a5-5b3916fcd185",
   "metadata": {},
   "outputs": [
    {
     "name": "stdin",
     "output_type": "stream",
     "text": [
      "Enter First No: 30\n",
      "Enter Second No: 50\n"
     ]
    },
    {
     "name": "stdout",
     "output_type": "stream",
     "text": [
      "Sum: 80\n"
     ]
    }
   ],
   "source": [
    "def add():\n",
    "    a=int(input(\"Enter First No:\"))\n",
    "    b=int(input(\"Enter Second No:\"))\n",
    "    return a+b\n",
    "    \n",
    "a=add()\n",
    "print(\"Sum:\",a)"
   ]
  },
  {
   "cell_type": "markdown",
   "id": "98ea95f7-5675-43c0-b91c-8249f9421cea",
   "metadata": {},
   "source": [
    "### 3. Function with Argument, No Return Value"
   ]
  },
  {
   "cell_type": "code",
   "execution_count": 23,
   "id": "a6ce9d84-0fbd-46d5-82a4-61888ce68fc2",
   "metadata": {},
   "outputs": [
    {
     "name": "stdin",
     "output_type": "stream",
     "text": [
      "Enter First No: 20\n",
      "Enter Second No: 30\n"
     ]
    },
    {
     "name": "stdout",
     "output_type": "stream",
     "text": [
      "Sum: 50\n"
     ]
    }
   ],
   "source": [
    "def add(x,y):\n",
    "    print(\"Sum:\",x+y)\n",
    "\n",
    "a=int(input(\"Enter First No:\"))\n",
    "b=int(input(\"Enter Second No:\"))\n",
    "add(a,b)"
   ]
  },
  {
   "cell_type": "markdown",
   "id": "b5a76cfc-34cd-47c6-a8ce-45eb441bfbde",
   "metadata": {},
   "source": [
    "### 4. Function with Argument, With Return Value"
   ]
  },
  {
   "cell_type": "code",
   "execution_count": 25,
   "id": "6b34e10b-d3c7-4a92-a42b-942cf6c29806",
   "metadata": {},
   "outputs": [
    {
     "name": "stdin",
     "output_type": "stream",
     "text": [
      "Enter First No: 10\n",
      "Enter Second No: 20\n"
     ]
    },
    {
     "name": "stdout",
     "output_type": "stream",
     "text": [
      "Sum: 30\n"
     ]
    }
   ],
   "source": [
    "def add(x,y):\n",
    "    return x+y\n",
    "\n",
    "a=int(input(\"Enter First No:\"))\n",
    "b=int(input(\"Enter Second No:\"))\n",
    "print(\"Sum:\",add(a,b))"
   ]
  },
  {
   "cell_type": "markdown",
   "id": "c6520a08-a9cc-4216-b975-d36bdb2c7e38",
   "metadata": {},
   "source": [
    "### Default Argument"
   ]
  },
  {
   "cell_type": "code",
   "execution_count": 26,
   "id": "7f9191c4-bac6-4c6a-84b2-d34c7512f35c",
   "metadata": {},
   "outputs": [
    {
     "name": "stdout",
     "output_type": "stream",
     "text": [
      "itronix 20\n",
      "itronix 30\n",
      "sol 30\n"
     ]
    }
   ],
   "source": [
    "def fun1(a=\"itronix\",b=20):\n",
    "    print(a,b)\n",
    "    \n",
    "fun1() #No Argument pass\n",
    "fun1(b=30) #Single Argument Pass\n",
    "fun1(b=30,a=\"sol\") #Both Argument Pass"
   ]
  },
  {
   "cell_type": "markdown",
   "id": "af8d0462-d417-4670-89fd-a4cd2757eada",
   "metadata": {},
   "source": [
    "### Calculate time of execution of a function"
   ]
  },
  {
   "cell_type": "code",
   "execution_count": 28,
   "id": "ef3087b9-6d44-47c8-9db0-aa5ac2796a81",
   "metadata": {},
   "outputs": [
    {
     "name": "stdout",
     "output_type": "stream",
     "text": [
      "Time Taken: 5.698665618896484\n"
     ]
    }
   ],
   "source": [
    "import time\n",
    "\n",
    "def square():\n",
    "    start=time.time()\n",
    "    for i in range(100000000):\n",
    "        i=i*i\n",
    "    end=time.time()\n",
    "    print(\"Time Taken:\",end-start)\n",
    "    \n",
    "square()"
   ]
  },
  {
   "cell_type": "markdown",
   "id": "3cef5fbb-bbab-4275-b0f1-87f985b8c4f8",
   "metadata": {},
   "source": [
    "### Pass Function as a Argument in other function"
   ]
  },
  {
   "cell_type": "code",
   "execution_count": 2,
   "id": "875ade1e-5742-419b-a99b-395556470d96",
   "metadata": {},
   "outputs": [
    {
     "name": "stdout",
     "output_type": "stream",
     "text": [
      "Pythom Master Course 70 % complete \n"
     ]
    }
   ],
   "source": [
    "def fun(a):\n",
    "    a(\"Pythom Master Course 70 % complete \")\n",
    "    \n",
    "fun(print)"
   ]
  },
  {
   "cell_type": "markdown",
   "id": "49da207b-33df-4a21-acbf-be0aaff50f4d",
   "metadata": {},
   "source": [
    "### Return Function from another Function"
   ]
  },
  {
   "cell_type": "code",
   "execution_count": 3,
   "id": "3118a2b7-47a0-4260-84d6-6d6aedc8e25d",
   "metadata": {},
   "outputs": [
    {
     "name": "stdout",
     "output_type": "stream",
     "text": [
      "Data Science Program\n"
     ]
    }
   ],
   "source": [
    "def fun():\n",
    "    return print\n",
    "\n",
    "a=fun()\n",
    "a(\"Data Science Program\")"
   ]
  },
  {
   "cell_type": "markdown",
   "id": "b68f7576-135e-45ed-9dc7-9f5be497cc8d",
   "metadata": {},
   "source": [
    "### Nested Function"
   ]
  },
  {
   "cell_type": "code",
   "execution_count": 4,
   "id": "b7f4ffbc-f7c3-44a3-97a2-d4c70f4c9118",
   "metadata": {},
   "outputs": [
    {
     "name": "stdout",
     "output_type": "stream",
     "text": [
      "Great\n",
      "Your ready to learn python modul & lib.\n"
     ]
    }
   ],
   "source": [
    "def fun1():\n",
    "    print(\"Great\")\n",
    "    def fun2():\n",
    "        print(\"Your ready to learn python modul & lib.\")\n",
    "    fun2()\n",
    "\n",
    "fun1()"
   ]
  },
  {
   "cell_type": "markdown",
   "id": "3daa128f-6c7d-43f9-8cb1-ad22e9c946a7",
   "metadata": {},
   "source": [
    "### Calculate the time of execution of each function"
   ]
  },
  {
   "cell_type": "code",
   "execution_count": 5,
   "id": "5c7c9270-4e4a-4e2d-93c6-6d75a07b264e",
   "metadata": {},
   "outputs": [
    {
     "name": "stdout",
     "output_type": "stream",
     "text": [
      "Time Taken: 0.598649263381958\n",
      "Time Taken: 1.0336663722991943\n"
     ]
    }
   ],
   "source": [
    "import time\n",
    "def fun1(fun):\n",
    "    def fun2():\n",
    "        s=time.time()\n",
    "        fun()\n",
    "        e=time.time()\n",
    "        print(\"Time Taken:\",e-s)\n",
    "    return fun2\n",
    "    \n",
    "\n",
    "@fun1\n",
    "def square():\n",
    "    for i in range(10000000):\n",
    "        i=i*i\n",
    "\n",
    "@fun1\n",
    "def cube():\n",
    "    for i in range(10000000):\n",
    "        i=i*i*i\n",
    "              \n",
    "square()\n",
    "cube()"
   ]
  },
  {
   "cell_type": "code",
   "execution_count": null,
   "id": "84e9b960-dd76-4610-aee7-357ee298d44b",
   "metadata": {},
   "outputs": [],
   "source": []
  }
 ],
 "metadata": {
  "kernelspec": {
   "display_name": "Python 3 (ipykernel)",
   "language": "python",
   "name": "python3"
  },
  "language_info": {
   "codemirror_mode": {
    "name": "ipython",
    "version": 3
   },
   "file_extension": ".py",
   "mimetype": "text/x-python",
   "name": "python",
   "nbconvert_exporter": "python",
   "pygments_lexer": "ipython3",
   "version": "3.12.0"
  }
 },
 "nbformat": 4,
 "nbformat_minor": 5
}

{
 "cells": [
  {
   "cell_type": "markdown",
   "id": "0be1c19f-e4fb-49c6-8b49-a140b00ecf1b",
   "metadata": {},
   "source": [
    "**Introduction to Python Programming Language\n",
    "What is Python?\n",
    "Python is a popular programming language. It was created by Guido van Rossum, and released in 1991.\n",
    "\n",
    "It is used for:\n",
    "artificial intelligence\n",
    "big data\n",
    "web development (server-side)\n",
    "software development\n",
    "mathematics\n",
    "system scripting"
   ]
  },
  {
   "cell_type": "code",
   "execution_count": 1,
   "id": "49b17796-17f0-48d7-a9c4-d4b838394bf7",
   "metadata": {},
   "outputs": [
    {
     "name": "stdout",
     "output_type": "stream",
     "text": [
      "www.machinelearning.org.in\n",
      "Python\n",
      "Data Science\n",
      "Machine Learning\n"
     ]
    }
   ],
   "source": [
    "# First Python Program\n",
    "print(\"www.machinelearning.org.in\")\n",
    "print(\"Python\")\n",
    "print(\"Data Science\")\n",
    "print(\"Machine Learning\")"
   ]
  },
  {
   "cell_type": "markdown",
   "id": "35c54df6-a762-431c-ba48-b3a4376c7d7e",
   "metadata": {},
   "source": [
    "Single Line Comment\n",
    "Comments start with a #, and Python will render the rest of the line as a comment:"
   ]
  },
  {
   "cell_type": "code",
   "execution_count": 2,
   "id": "ed808793-dd0e-4598-828f-b181365c21f3",
   "metadata": {},
   "outputs": [
    {
     "name": "stdout",
     "output_type": "stream",
     "text": [
      "Hello\n",
      "Python\n",
      "Data Science\n",
      "Deep Learnig\n",
      "Artificial Intelligence\n"
     ]
    }
   ],
   "source": [
    "print(\"Hello\")  #This is a comment\n",
    "print(\"Python\")\n",
    "print(\"Data Science\")\n",
    "#print(\"Machine Learning\")\n",
    "print(\"Deep Learnig\")\n",
    "print(\"Artificial Intelligence\")\n"
   ]
  },
  {
   "cell_type": "markdown",
   "id": "6664a3d4-41e7-414b-b5d7-32b49948cbd7",
   "metadata": {},
   "source": [
    "Multiline Comment\n",
    "Python will ignore string literals that are not assigned to a variable, you can add a multiline string (triple quotes) in your code, and place your comment inside it:"
   ]
  },
  {
   "cell_type": "code",
   "execution_count": 3,
   "id": "342d9c59-6d10-46a8-9396-4fb6ca254bee",
   "metadata": {},
   "outputs": [
    {
     "data": {
      "text/plain": [
       "'\\nprint(\"Python\")\\nprint(\"Data Science\")\\nprint(\"Machine Learning\")\\nprint(\"Deep Learnig\")\\n'"
      ]
     },
     "execution_count": 3,
     "metadata": {},
     "output_type": "execute_result"
    }
   ],
   "source": [
    "'''\n",
    "print(\"Python\")\n",
    "print(\"Data Science\")\n",
    "print(\"Machine Learning\")\n",
    "print(\"Deep Learnig\")\n",
    "'''"
   ]
  },
  {
   "cell_type": "markdown",
   "id": "f55aba6d-bb4d-47f8-a5d9-952febef7147",
   "metadata": {},
   "source": [
    "## variable"
   ]
  },
  {
   "cell_type": "code",
   "execution_count": 5,
   "id": "057986fc-54ec-4e81-b780-80951c35951b",
   "metadata": {},
   "outputs": [
    {
     "name": "stdout",
     "output_type": "stream",
     "text": [
      "10\n",
      "3.134\n",
      "Machine Learning\n"
     ]
    }
   ],
   "source": [
    "\n",
    "# Assign Value to a variable\n",
    "a=10\n",
    "b=3.134\n",
    "c=\"Machine Learning\"\n",
    "print(a)\n",
    "print(b)\n",
    "print(c)"
   ]
  },
  {
   "cell_type": "code",
   "execution_count": 6,
   "id": "d673fd32-3dcc-41a6-9456-50e5c70116c2",
   "metadata": {},
   "outputs": [
    {
     "name": "stdout",
     "output_type": "stream",
     "text": [
      "Value of a : 10\n",
      "Value of b : 3.134\n",
      "Value of c : Machine Learning\n"
     ]
    }
   ],
   "source": [
    "print(\"Value of a :\",a)\n",
    "print(\"Value of b :\",b)\n",
    "print(\"Value of c :\",c)"
   ]
  },
  {
   "cell_type": "code",
   "execution_count": 7,
   "id": "e7511da5-0c68-4e10-b2a5-3084d0781403",
   "metadata": {},
   "outputs": [
    {
     "name": "stdout",
     "output_type": "stream",
     "text": [
      "10 3.134 Machine Learning\n"
     ]
    }
   ],
   "source": [
    "print(a,b,c)"
   ]
  },
  {
   "cell_type": "code",
   "execution_count": 9,
   "id": "8e8eb084-79cb-414e-8298-d6a47de51270",
   "metadata": {},
   "outputs": [
    {
     "name": "stdout",
     "output_type": "stream",
     "text": [
      "Value of a : 10 Value of b : 3.134 Value of c : Machine Learning\n",
      "Value of a : 10 \n",
      "Value of b : 3.134 \n",
      "Value of c : Machine Learning\n"
     ]
    }
   ],
   "source": [
    "print(\"Value of a :\",a,\"Value of b :\",b,\"Value of c :\",c)\n",
    "print(\"Value of a :\",a,\"\\nValue of b :\",b,\"\\nValue of c :\",c)"
   ]
  },
  {
   "cell_type": "code",
   "execution_count": 10,
   "id": "35e4c3d4-0ddc-4c2a-ac11-ccdaee4ca5a9",
   "metadata": {},
   "outputs": [
    {
     "name": "stdout",
     "output_type": "stream",
     "text": [
      "Value of a : 10\n",
      "Value of b : 3.134\n",
      "Value of c : Machine Learning\n"
     ]
    }
   ],
   "source": [
    "# next line use --> '\\n'\n",
    "print(\"Value of a :\",a,end='\\n')\n",
    "print(\"Value of b :\",b,end='\\n')\n",
    "print(\"Value of c :\",c,end='\\n')"
   ]
  },
  {
   "cell_type": "code",
   "execution_count": 11,
   "id": "4eb5a4c2-c5c0-42f8-8fc0-5479869cc1a8",
   "metadata": {},
   "outputs": [
    {
     "name": "stdout",
     "output_type": "stream",
     "text": [
      "Value of a : 10 Value of b : 3.134 Value of c : Machine Learning "
     ]
    }
   ],
   "source": [
    "print(\"Value of a :\",a,end=' ')\n",
    "print(\"Value of b :\",b,end=' ')\n",
    "print(\"Value of c :\",c,end=' ')"
   ]
  },
  {
   "cell_type": "markdown",
   "id": "b1d66693-f1cd-4e53-8a16-2b9ee4f82165",
   "metadata": {},
   "source": [
    "Accepting User Inputs\n",
    "input( ) accepts input and stores it as a string. Hence, if the user inputs a integer, the code should convert the string to an integer and then proceed."
   ]
  },
  {
   "cell_type": "code",
   "execution_count": 12,
   "id": "80353910-30c3-433d-b2a5-69a9def049b8",
   "metadata": {},
   "outputs": [
    {
     "name": "stdin",
     "output_type": "stream",
     "text": [
      "Enter any value: 2\n"
     ]
    },
    {
     "name": "stdout",
     "output_type": "stream",
     "text": [
      "2\n"
     ]
    }
   ],
   "source": [
    "a=input(\"Enter any value:\")\n",
    "print(a)"
   ]
  },
  {
   "cell_type": "code",
   "execution_count": 13,
   "id": "578d8a7c-0492-4a06-95bd-7d79b2282c60",
   "metadata": {},
   "outputs": [
    {
     "name": "stdout",
     "output_type": "stream",
     "text": [
      "<class 'str'>\n"
     ]
    }
   ],
   "source": [
    "print(type(a))\n",
    "\n",
    "# Note that type( ) returns the format or the type of a variable or a number"
   ]
  },
  {
   "cell_type": "code",
   "execution_count": null,
   "id": "7ba40376-a187-437a-891c-d50404c3bc90",
   "metadata": {},
   "outputs": [],
   "source": []
  }
 ],
 "metadata": {
  "kernelspec": {
   "display_name": "Python 3 (ipykernel)",
   "language": "python",
   "name": "python3"
  },
  "language_info": {
   "codemirror_mode": {
    "name": "ipython",
    "version": 3
   },
   "file_extension": ".py",
   "mimetype": "text/x-python",
   "name": "python",
   "nbconvert_exporter": "python",
   "pygments_lexer": "ipython3",
   "version": "3.12.0"
  }
 },
 "nbformat": 4,
 "nbformat_minor": 5
}

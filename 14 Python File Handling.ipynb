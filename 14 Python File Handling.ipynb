{
 "cells": [
  {
   "cell_type": "markdown",
   "id": "adaa680c-3b04-415e-9690-9499b3981c7f",
   "metadata": {},
   "source": [
    "## Python File Handling"
   ]
  },
  {
   "cell_type": "markdown",
   "id": "9186f117-d0f2-4c31-86a8-df325c00a5b9",
   "metadata": {},
   "source": [
    "File handling is an important part of any web application.Python has several functions for creating, reading, updating, and deleting files.\n",
    "\n",
    "### Functions used in File Handling\n",
    "\n",
    "* open()\n",
    "* close()\n",
    "* read()\n",
    "* write()\n",
    "* seek()\n",
    "* tell()\n",
    "### The key function for working with files in Python is the open() function.\n",
    "* The open() function takes two parameters; filename, and mode.\n",
    "### Types of Mode\n",
    "* \"r\" - Read - Default value. Opens a file for reading, error if the file does not exist\n",
    "* \"w\" - Write - Opens a file for writing, creates the file if it does not exist\n",
    "\n",
    "* \"a\" - Append - Opens a file for appending, creates the file if it does not exist\n",
    "* \"r+\" - Read + Write\n",
    "* \"w+\" - Create + Read + Write (Previous Data Erase)\n",
    "* \"a+\" - Create + Read + Write (Append Mode)"
   ]
  },
  {
   "cell_type": "markdown",
   "id": "79326a78-9a79-4043-ad68-77e5e59d4c21",
   "metadata": {},
   "source": [
    "### Open the file\n",
    "* fo = open(\"itronix.txt\")\n",
    "* fo = open(\"itronix.txt\",'r')"
   ]
  },
  {
   "cell_type": "code",
   "execution_count": 1,
   "id": "ec616a8d-f585-4fa8-844c-c1fcbaf6502f",
   "metadata": {
    "tags": []
   },
   "outputs": [
    {
     "ename": "FileNotFoundError",
     "evalue": "[Errno 2] No such file or directory: 'itronix.txt'",
     "output_type": "error",
     "traceback": [
      "\u001b[1;31m---------------------------------------------------------------------------\u001b[0m",
      "\u001b[1;31mFileNotFoundError\u001b[0m                         Traceback (most recent call last)",
      "Cell \u001b[1;32mIn[1], line 1\u001b[0m\n\u001b[1;32m----> 1\u001b[0m fo \u001b[38;5;241m=\u001b[39m \u001b[38;5;28mopen\u001b[39m(\u001b[38;5;124m'\u001b[39m\u001b[38;5;124mitronix.txt\u001b[39m\u001b[38;5;124m'\u001b[39m,\u001b[38;5;124m'\u001b[39m\u001b[38;5;124mr\u001b[39m\u001b[38;5;124m'\u001b[39m)\n",
      "File \u001b[1;32mC:\\ProgramData\\anaconda3\\Lib\\site-packages\\IPython\\core\\interactiveshell.py:286\u001b[0m, in \u001b[0;36m_modified_open\u001b[1;34m(file, *args, **kwargs)\u001b[0m\n\u001b[0;32m    279\u001b[0m \u001b[38;5;28;01mif\u001b[39;00m file \u001b[38;5;129;01min\u001b[39;00m {\u001b[38;5;241m0\u001b[39m, \u001b[38;5;241m1\u001b[39m, \u001b[38;5;241m2\u001b[39m}:\n\u001b[0;32m    280\u001b[0m     \u001b[38;5;28;01mraise\u001b[39;00m \u001b[38;5;167;01mValueError\u001b[39;00m(\n\u001b[0;32m    281\u001b[0m         \u001b[38;5;124mf\u001b[39m\u001b[38;5;124m\"\u001b[39m\u001b[38;5;124mIPython won\u001b[39m\u001b[38;5;124m'\u001b[39m\u001b[38;5;124mt let you open fd=\u001b[39m\u001b[38;5;132;01m{\u001b[39;00mfile\u001b[38;5;132;01m}\u001b[39;00m\u001b[38;5;124m by default \u001b[39m\u001b[38;5;124m\"\u001b[39m\n\u001b[0;32m    282\u001b[0m         \u001b[38;5;124m\"\u001b[39m\u001b[38;5;124mas it is likely to crash IPython. If you know what you are doing, \u001b[39m\u001b[38;5;124m\"\u001b[39m\n\u001b[0;32m    283\u001b[0m         \u001b[38;5;124m\"\u001b[39m\u001b[38;5;124myou can use builtins\u001b[39m\u001b[38;5;124m'\u001b[39m\u001b[38;5;124m open.\u001b[39m\u001b[38;5;124m\"\u001b[39m\n\u001b[0;32m    284\u001b[0m     )\n\u001b[1;32m--> 286\u001b[0m \u001b[38;5;28;01mreturn\u001b[39;00m io_open(file, \u001b[38;5;241m*\u001b[39margs, \u001b[38;5;241m*\u001b[39m\u001b[38;5;241m*\u001b[39mkwargs)\n",
      "\u001b[1;31mFileNotFoundError\u001b[0m: [Errno 2] No such file or directory: 'itronix.txt'"
     ]
    }
   ],
   "source": [
    "fo = open('itronix.txt','r')  #file is not present so it will give error"
   ]
  },
  {
   "cell_type": "markdown",
   "id": "4c9d8950-14f0-4235-8805-6dd00e8aab64",
   "metadata": {},
   "source": [
    "### Write to file\n",
    "* if file not exist it will create the file"
   ]
  },
  {
   "cell_type": "code",
   "execution_count": 2,
   "id": "5a760e13-289d-4046-bc58-93f62d62ee89",
   "metadata": {
    "tags": []
   },
   "outputs": [],
   "source": [
    "fo=open('codex.txt','w')\n",
    "fo.write(\"Welcome to Python Tutorials\")\n",
    "fo.close()"
   ]
  },
  {
   "cell_type": "markdown",
   "id": "ae2ffda1-b852-4c93-bae9-806055b623f5",
   "metadata": {},
   "source": [
    "Welcome to Python Tutorials"
   ]
  },
  {
   "cell_type": "markdown",
   "id": "d3788260-21e9-40b4-b24b-6548ddcf65bb",
   "metadata": {},
   "source": [
    "### Read Only Parts of the File"
   ]
  },
  {
   "cell_type": "code",
   "execution_count": 3,
   "id": "21fa02cf-d09b-4dd9-b28d-89a5b3eb1eb3",
   "metadata": {
    "tags": []
   },
   "outputs": [
    {
     "name": "stdout",
     "output_type": "stream",
     "text": [
      "Welcome\n"
     ]
    }
   ],
   "source": [
    "fo=open('codex.txt','r')\n",
    "data=fo.read(7) #read first 7 characters\n",
    "print(data)"
   ]
  },
  {
   "cell_type": "markdown",
   "id": "7ebc2a6a-fe3d-4a4d-8b0e-452882688e89",
   "metadata": {},
   "source": [
    "### Read Line\n",
    "* You can return one line by using the readline() method:"
   ]
  },
  {
   "cell_type": "code",
   "execution_count": 4,
   "id": "5e951f66-9505-43e5-9b16-feec34ed49b8",
   "metadata": {
    "tags": []
   },
   "outputs": [
    {
     "name": "stdout",
     "output_type": "stream",
     "text": [
      "Welcome to Python Tutorials\n"
     ]
    }
   ],
   "source": [
    "fo=open('codex.txt','r')\n",
    "data=fo.readline()\n",
    "print(data)"
   ]
  },
  {
   "cell_type": "markdown",
   "id": "33c71527-76bd-4321-b7f2-81058a3499aa",
   "metadata": {},
   "source": [
    "### Read Lines\n",
    "* You can return Line by Line in a List by using the readlines() method:"
   ]
  },
  {
   "cell_type": "code",
   "execution_count": 5,
   "id": "9ae5870c-3358-4976-a433-4bac8b86197b",
   "metadata": {
    "tags": []
   },
   "outputs": [
    {
     "name": "stdout",
     "output_type": "stream",
     "text": [
      "['Welcome to Python Tutorials']\n"
     ]
    }
   ],
   "source": [
    "fo=open('codex.txt','r')\n",
    "data=fo.readlines()\n",
    "print(data)"
   ]
  },
  {
   "cell_type": "markdown",
   "id": "c731c825-089d-44f5-95a7-ec9c6c8cf7c0",
   "metadata": {},
   "source": [
    "### Loop through the file line by line:"
   ]
  },
  {
   "cell_type": "code",
   "execution_count": 6,
   "id": "1f4fd4a7-72c7-4a3e-ab5b-2d732da501f2",
   "metadata": {
    "tags": []
   },
   "outputs": [
    {
     "name": "stdout",
     "output_type": "stream",
     "text": [
      "Welcome to Python Tutorials\n"
     ]
    }
   ],
   "source": [
    "fo=open('codex.txt','r')\n",
    "for x in fo:\n",
    "    print(x)"
   ]
  },
  {
   "cell_type": "markdown",
   "id": "c3ae8c21-8495-43c9-bd26-260e40702775",
   "metadata": {},
   "source": [
    "### Write in Append Mode"
   ]
  },
  {
   "cell_type": "code",
   "execution_count": 7,
   "id": "9d3435d7-4929-4955-82fb-2adc67319378",
   "metadata": {
    "tags": []
   },
   "outputs": [],
   "source": [
    "fo=open('masters.txt','a')\n",
    "fo.write(\"Learn Python from https://github.com/Prajwalshardul0369/PYTHON-MASTERS-COURSE\")\n",
    "fo.close()"
   ]
  },
  {
   "cell_type": "markdown",
   "id": "7d81eedd-977f-4a32-a633-cbb6112afe2d",
   "metadata": {},
   "source": [
    "Learn Python from https://github.com/Prajwalshardul0369/PYTHON-MASTERS-COURSE"
   ]
  },
  {
   "cell_type": "markdown",
   "id": "bfca69fa-9a52-476a-ba4f-0b716a0c30a9",
   "metadata": {},
   "source": [
    "### Write+ Mode: Used for both read and write"
   ]
  },
  {
   "cell_type": "code",
   "execution_count": 8,
   "id": "0ccb34d9-7a5e-494d-b9ed-101195ed0291",
   "metadata": {
    "tags": []
   },
   "outputs": [
    {
     "name": "stdout",
     "output_type": "stream",
     "text": [
      "\n"
     ]
    }
   ],
   "source": [
    "fo=open('codex.txt','w+')\n",
    "fo.write(\"Welcome to Python Tutorials. \")\n",
    "data=fo.read()\n",
    "print(data)\n",
    "fo.close()"
   ]
  },
  {
   "cell_type": "markdown",
   "id": "d3a80516-24ba-4aa7-b816-d9efcdbbdb67",
   "metadata": {
    "jp-MarkdownHeadingCollapsed": true,
    "tags": []
   },
   "source": [
    "##### Note: Data is written in file but it won't read any single character because pointer is point at the end. so we need to move pointer to the starting postion with the help of seek() function"
   ]
  },
  {
   "cell_type": "markdown",
   "id": "45fc9a31-dfbe-48e6-b526-915c596c7472",
   "metadata": {},
   "source": [
    "### Seek(offset[, whence])\n",
    "* offset − This is the position of the read/write pointer within the file.\n",
    "* whence − This is optional and defaults to 0 which means absolute file positioning,"
   ]
  },
  {
   "cell_type": "code",
   "execution_count": 9,
   "id": "c0f83aed-7c0a-44c6-8ecb-f2d490d2656c",
   "metadata": {
    "tags": []
   },
   "outputs": [
    {
     "name": "stdout",
     "output_type": "stream",
     "text": [
      "Welcome to Python Tutorials. \n"
     ]
    }
   ],
   "source": [
    "fo=open('codex.txt','w+')\n",
    "fo.write(\"Welcome to Python Tutorials. \")\n",
    "fo.seek(0,0)\n",
    "data=fo.read()\n",
    "print(data)\n",
    "fo.close()"
   ]
  },
  {
   "cell_type": "markdown",
   "id": "28fb2b7c-2ea0-4341-b81b-3e75cbd573ad",
   "metadata": {},
   "source": [
    "#### Tell() : used to find the total characters in file from starting position to pointer current position"
   ]
  },
  {
   "cell_type": "code",
   "execution_count": 10,
   "id": "e5b45f9c-1158-48c8-9974-14adc645ea5a",
   "metadata": {
    "tags": []
   },
   "outputs": [
    {
     "name": "stdout",
     "output_type": "stream",
     "text": [
      "Total Characters in File: 29\n"
     ]
    }
   ],
   "source": [
    "fo=open('codex.txt','w+')\n",
    "fo.write(\"Welcome to Python Tutorials. \")\n",
    "Length = fo.tell()\n",
    "print(\"Total Characters in File:\",Length)\n",
    "fo.close()"
   ]
  },
  {
   "cell_type": "code",
   "execution_count": null,
   "id": "8c1f0056-9882-46b4-bcc8-939dc9a7d386",
   "metadata": {},
   "outputs": [],
   "source": []
  }
 ],
 "metadata": {
  "kernelspec": {
   "display_name": "Python 3 (ipykernel)",
   "language": "python",
   "name": "python3"
  },
  "language_info": {
   "codemirror_mode": {
    "name": "ipython",
    "version": 3
   },
   "file_extension": ".py",
   "mimetype": "text/x-python",
   "name": "python",
   "nbconvert_exporter": "python",
   "pygments_lexer": "ipython3",
   "version": "3.12.0"
  }
 },
 "nbformat": 4,
 "nbformat_minor": 5
}

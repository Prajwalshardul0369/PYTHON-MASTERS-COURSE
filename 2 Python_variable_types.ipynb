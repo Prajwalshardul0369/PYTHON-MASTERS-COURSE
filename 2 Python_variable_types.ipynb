{
 "cells": [
  {
   "cell_type": "code",
   "execution_count": null,
   "id": "bec44c69-ca19-45e4-96b6-08e5969b0e8d",
   "metadata": {},
   "outputs": [],
   "source": []
  },
  {
   "cell_type": "markdown",
   "id": "2a98fb27-006f-4524-abfc-ff731afaaba5",
   "metadata": {},
   "source": [
    "## Python Variables\n",
    "Variables are containers for storing data values. Variables are nothing but reserved memory locations to store values. This means that when you create a variable you reserve some space in memory.\n",
    "\n",
    "The interpreter allocates memory and determines what can be stored in the allocated memory depending on the data type of a variable. As a consequence, you can store integers, decimals, or characters in variables by assigning various data types to them.\n",
    "\n",
    "Every value in Python has a datatype. Different data types in Python are Numbers, List, Tuple, Strings, Dictionary, etc. Variables in Python can be declared by any name or even alphabets like a, aa, abc, etc.\n",
    "\n",
    "Assigning Values to Variables\n"
   ]
  },
  {
   "cell_type": "code",
   "execution_count": 1,
   "id": "7203b37e-008f-4ae2-b1f4-9600d8222c89",
   "metadata": {},
   "outputs": [
    {
     "name": "stdout",
     "output_type": "stream",
     "text": [
      "10\n",
      "MachineLearning.org.in\n",
      "3.14\n"
     ]
    }
   ],
   "source": [
    "x = 10\n",
    "y = \"MachineLearning.org.in\"\n",
    "z = 3.14\n",
    "print(x)\n",
    "print(y)\n",
    "print(z)\n"
   ]
  },
  {
   "cell_type": "markdown",
   "id": "9dad8e67-3d2f-4fcc-8944-3ff997029360",
   "metadata": {},
   "source": [
    "Variables do not need to be declared with any particular type, and can even change type after they have been set."
   ]
  },
  {
   "cell_type": "code",
   "execution_count": 2,
   "id": "0cb956bd-4040-4bdc-b766-3b1cbe077376",
   "metadata": {},
   "outputs": [
    {
     "name": "stdout",
     "output_type": "stream",
     "text": [
      "MachineLearning.org.in\n"
     ]
    }
   ],
   "source": [
    "x = 10\n",
    "x = \"MachineLearning.org.in\"\n",
    "print(x)"
   ]
  },
  {
   "cell_type": "markdown",
   "id": "eac23d10-3027-45a9-b198-8acf335b9a67",
   "metadata": {},
   "source": [
    "## Multiple Assignment"
   ]
  },
  {
   "cell_type": "code",
   "execution_count": 3,
   "id": "7f51d06b-d468-4f2c-aaaf-a54d45c14162",
   "metadata": {},
   "outputs": [
    {
     "name": "stdout",
     "output_type": "stream",
     "text": [
      "10 10 10\n"
     ]
    }
   ],
   "source": [
    "a = b = c = 10\n",
    "print(a,b,c)\n"
   ]
  },
  {
   "cell_type": "code",
   "execution_count": 4,
   "id": "2ae70654-7c38-4a22-be3c-c7a412504213",
   "metadata": {},
   "outputs": [
    {
     "name": "stdout",
     "output_type": "stream",
     "text": [
      "10\n",
      "3.14\n",
      "MachineLearning.org.in\n"
     ]
    }
   ],
   "source": [
    "a,b,c = 10,3.14,\"MachineLearning.org.in\"\n",
    "print(a)\n",
    "print(b)\n",
    "print(c)"
   ]
  },
  {
   "cell_type": "markdown",
   "id": "34972264-1b65-4c54-bd34-e8965e3b4c2d",
   "metadata": {},
   "source": [
    "## Type Casting"
   ]
  },
  {
   "cell_type": "code",
   "execution_count": 5,
   "id": "d006a258-57d2-4414-9eca-ef4996f36bcc",
   "metadata": {},
   "outputs": [
    {
     "name": "stdout",
     "output_type": "stream",
     "text": [
      "3\n",
      "3\n",
      "3.0\n"
     ]
    }
   ],
   "source": [
    "x = str(3)  \n",
    "print(x)\n",
    "\n",
    "y = int(3) \n",
    "print(y)\n",
    "\n",
    "z = float(3)\n",
    "print(z)"
   ]
  },
  {
   "cell_type": "markdown",
   "id": "e07e6142-d3c7-4b67-a66e-648ee247763f",
   "metadata": {},
   "source": [
    "## Get the Type"
   ]
  },
  {
   "cell_type": "code",
   "execution_count": 6,
   "id": "0fa919c1-b1fc-4aa6-b8cd-891a0280b8b5",
   "metadata": {},
   "outputs": [
    {
     "name": "stdout",
     "output_type": "stream",
     "text": [
      "<class 'str'>\n",
      "<class 'int'>\n",
      "<class 'float'>\n"
     ]
    }
   ],
   "source": [
    "x = str(3)  \n",
    "print(type(x))\n",
    "\n",
    "y = int(3) \n",
    "print(type(y))\n",
    "\n",
    "z = float(3)\n",
    "print(type(z))"
   ]
  },
  {
   "cell_type": "code",
   "execution_count": 7,
   "id": "7a71aca6-415b-43ca-86cd-f32ad38215c9",
   "metadata": {},
   "outputs": [
    {
     "name": "stdin",
     "output_type": "stream",
     "text": [
      "Enter any value: 12\n"
     ]
    },
    {
     "name": "stdout",
     "output_type": "stream",
     "text": [
      "12\n",
      "<class 'str'>\n"
     ]
    }
   ],
   "source": [
    "n = input(\"Enter any value:\")\n",
    "print(n)\n",
    "print(type(n))"
   ]
  },
  {
   "cell_type": "code",
   "execution_count": 8,
   "id": "8c03a434-5073-4688-83c1-02f9d31c6039",
   "metadata": {},
   "outputs": [
    {
     "name": "stdin",
     "output_type": "stream",
     "text": [
      "Enter any value: 3.14\n"
     ]
    },
    {
     "name": "stdout",
     "output_type": "stream",
     "text": [
      "3.14\n",
      "<class 'float'>\n"
     ]
    }
   ],
   "source": [
    "n = float(input(\"Enter any value:\"))\n",
    "print(n)\n",
    "print(type(n))"
   ]
  },
  {
   "cell_type": "markdown",
   "id": "57e58a5a-3b47-4fe8-a0c8-75d172737c80",
   "metadata": {},
   "source": [
    "n = str(input(\"Enter any value:\"))\n",
    "print(n)\n",
    "print(type(n))"
   ]
  },
  {
   "cell_type": "markdown",
   "id": "06f72ed9-49bb-4cda-87d9-536e913807a3",
   "metadata": {},
   "source": [
    "## Concatenation"
   ]
  },
  {
   "cell_type": "code",
   "execution_count": 14,
   "id": "e37a0674-0369-45cc-b390-bce426235c2b",
   "metadata": {},
   "outputs": [
    {
     "name": "stdout",
     "output_type": "stream",
     "text": [
      "Prajwal Shardul\n"
     ]
    }
   ],
   "source": [
    "x = \"Shardul\"\n",
    "print(\"Prajwal \" + x)"
   ]
  },
  {
   "cell_type": "code",
   "execution_count": 15,
   "id": "b3e390ed-610a-4d1b-8dfd-19cf34285a25",
   "metadata": {},
   "outputs": [
    {
     "name": "stdout",
     "output_type": "stream",
     "text": [
      "Prajwal Shardul \n"
     ]
    }
   ],
   "source": [
    "x = \"Prajwal \"\n",
    "y = \"Shardul \"\n",
    "z =  x + y\n",
    "print(z)"
   ]
  },
  {
   "cell_type": "markdown",
   "id": "fb9b9ba0-c863-435a-9fda-17ab70d2d640",
   "metadata": {},
   "source": [
    "## Python has five standard data types −\n",
    "\n",
    "\n",
    "  nary"
   ]
  },
  {
   "cell_type": "markdown",
   "id": "78a3cf9a-79fe-4934-868d-47a8e3ba8109",
   "metadata": {},
   "source": [
    "* Numbers\n",
    "* String\n",
    "* List\n",
    "* Tuple\n",
    "* Dictionary\n"
   ]
  },
  {
   "cell_type": "markdown",
   "id": "458133ee-7c3e-410c-b141-ecdd61bab55f",
   "metadata": {},
   "source": [
    "## 1. Number"
   ]
  },
  {
   "cell_type": "code",
   "execution_count": 18,
   "id": "2cd08c4c-4c3a-4933-a9b9-5fab4500c385",
   "metadata": {},
   "outputs": [
    {
     "name": "stdout",
     "output_type": "stream",
     "text": [
      "6\n"
     ]
    }
   ],
   "source": [
    "a = 6\n",
    "print(a)"
   ]
  },
  {
   "cell_type": "markdown",
   "id": "09a914ae-6aae-47d7-ade2-bf3a06cb4305",
   "metadata": {},
   "source": [
    "## Delete number"
   ]
  },
  {
   "cell_type": "code",
   "execution_count": null,
   "id": "3475221a-d4ee-4b59-ad63-0860abb7da69",
   "metadata": {},
   "outputs": [],
   "source": [
    "a = 7\n",
    "b = 14\n",
    "del a\n",
    "# print(a) NameError: name 'a' is not defined\n",
    "print(b)"
   ]
  },
  {
   "cell_type": "markdown",
   "id": "750026c1-153e-44ac-86fb-be64f3d624fd",
   "metadata": {},
   "source": [
    "## 2. String"
   ]
  },
  {
   "cell_type": "code",
   "execution_count": 31,
   "id": "6407b380-e404-4b9a-9a7c-792919f1f4e5",
   "metadata": {},
   "outputs": [
    {
     "name": "stdout",
     "output_type": "stream",
     "text": [
      "MachineLearning.org.in\n",
      "M\n",
      "Learning\n",
      "Learning.org.in\n",
      "MachineLearning.org.inMachineLearning.org.in\n",
      "www.MachineLearning.org.in\n",
      "MachineLearning.org.in\n",
      "MachineLearning.org.in\n",
      "Mcieerigogi\n",
      "n\n",
      ".in\n"
     ]
    }
   ],
   "source": [
    "s = \"MachineLearning.org.in\"\n",
    "print(s)           # Prints complete string\n",
    "print(s[0])        # Prints first character of the string\n",
    "print(s[7:15])     # Prints characters starting from 3rd to 5th\n",
    "print(s[7:])       # Prints string starting from 3rd character\n",
    "print(s * 2)       # Prints string two times\n",
    "print('www.' + s)  # Prints concatenated string\n",
    "print(s[:])        # Prints complete string with range start to end\n",
    "print(s[::])       # Prints complete string with range start to end with increment 1\n",
    "print(s[::2])      # Print String with increment of 2\n",
    "print(s[-1])       # print last character of a string\n",
    "print(s[-3:])      # print last 3 character of a string"
   ]
  },
  {
   "cell_type": "markdown",
   "id": "abbf463e-ca21-4569-bced-0ce07f23a3ce",
   "metadata": {},
   "source": [
    "## 3. List"
   ]
  },
  {
   "cell_type": "code",
   "execution_count": 32,
   "id": "7f2a0e15-b7bf-4e28-8390-025cf4480d3f",
   "metadata": {},
   "outputs": [
    {
     "name": "stdout",
     "output_type": "stream",
     "text": [
      "[10, 3.14, 'Machine', 45, 'Learning', 78.98, 69, '.org.in']\n",
      "[10, 3.14, 'Machine', 45, 'Learning', 78.98, 69, '.org.in']\n",
      "[10, 3.14, 'Machine', 45, 'Learning', 78.98, 69, '.org.in']\n",
      "10\n",
      "['Machine', 45, 'Learning']\n",
      "['Machine', 45, 'Learning', 78.98, 69, '.org.in']\n",
      "[10, 3.14, 'Machine', 45, 'Learning']\n",
      ".org.in\n",
      "[78.98, 69, '.org.in']\n"
     ]
    }
   ],
   "source": [
    "L = [10,3.14,\"Machine\",45,'Learning',78.98,69,'.org.in']\n",
    "print(L)\n",
    "print(L[:])\n",
    "print(L[::])\n",
    "print(L[0])\n",
    "print(L[2:5])\n",
    "print(L[2:])\n",
    "print(L[:5])\n",
    "print(L[-1])\n",
    "print(L[-3:])"
   ]
  },
  {
   "cell_type": "code",
   "execution_count": 33,
   "id": "c7a594fb-4b81-4e58-a45f-0e0ab02f5b8c",
   "metadata": {},
   "outputs": [
    {
     "name": "stdout",
     "output_type": "stream",
     "text": [
      "[10, 20, 30, 40, 50, 60]\n"
     ]
    }
   ],
   "source": [
    "L1 = [10,20,30]\n",
    "L2 = [40,50,60]\n",
    "print(L1 + L2)"
   ]
  },
  {
   "cell_type": "code",
   "execution_count": 34,
   "id": "ba0ebd98-fa51-4248-9db3-640c2c5b49f6",
   "metadata": {},
   "outputs": [
    {
     "name": "stdout",
     "output_type": "stream",
     "text": [
      "[10, 20, 30, 10, 20, 30, 10, 20, 30]\n"
     ]
    }
   ],
   "source": [
    "L1 = [10,20,30]\n",
    "print(L1 * 3)"
   ]
  },
  {
   "cell_type": "markdown",
   "id": "9193995f-2201-4ed4-941a-090eede1335e",
   "metadata": {},
   "source": [
    "## 4. Tuples"
   ]
  },
  {
   "cell_type": "code",
   "execution_count": 35,
   "id": "23e8970b-0bd1-466a-bcd6-cec466fd51e2",
   "metadata": {},
   "outputs": [
    {
     "name": "stdout",
     "output_type": "stream",
     "text": [
      "(10, 3.14, 'Machine', 45, 'Learning', 78.98, 69, '.org.in')\n",
      "(10, 3.14, 'Machine', 45, 'Learning', 78.98, 69, '.org.in')\n",
      "(10, 3.14, 'Machine', 45, 'Learning', 78.98, 69, '.org.in')\n",
      "10\n",
      "('Machine', 45, 'Learning')\n",
      "('Machine', 45, 'Learning', 78.98, 69, '.org.in')\n",
      "(10, 3.14, 'Machine', 45, 'Learning')\n",
      ".org.in\n",
      "(78.98, 69, '.org.in')\n"
     ]
    }
   ],
   "source": [
    "T = (10,3.14,\"Machine\",45,'Learning',78.98,69,'.org.in')\n",
    "print(T)\n",
    "print(T[:])\n",
    "print(T[::])\n",
    "print(T[0])\n",
    "print(T[2:5])\n",
    "print(T[2:])\n",
    "print(T[:5])\n",
    "print(T[-1])\n",
    "print(T[-3:])"
   ]
  },
  {
   "cell_type": "code",
   "execution_count": 36,
   "id": "e54907c9-f423-4b00-9e2c-228f86db2813",
   "metadata": {},
   "outputs": [
    {
     "name": "stdout",
     "output_type": "stream",
     "text": [
      "[10, 20, 30, 40, 50, 60]\n"
     ]
    }
   ],
   "source": [
    "T1 = [10,20,30]\n",
    "T2 = [40,50,60]\n",
    "print(T1 + T2)"
   ]
  },
  {
   "cell_type": "code",
   "execution_count": 37,
   "id": "fa0d9cc9-d79f-409e-99fa-91b7ea5a6e21",
   "metadata": {},
   "outputs": [
    {
     "name": "stdout",
     "output_type": "stream",
     "text": [
      "[10, 20, 30, 10, 20, 30, 10, 20, 30]\n"
     ]
    }
   ],
   "source": [
    "T1 = [10,20,30]\n",
    "print(T1 * 3)"
   ]
  },
  {
   "cell_type": "markdown",
   "id": "5ed06721-abaf-40b7-bd5a-76d0eb5ac3e6",
   "metadata": {},
   "source": [
    "## 5. Dictionary"
   ]
  },
  {
   "cell_type": "code",
   "execution_count": 38,
   "id": "a136265b-2d76-4201-8f63-446748da1ac6",
   "metadata": {},
   "outputs": [
    {
     "name": "stdout",
     "output_type": "stream",
     "text": [
      "{}\n"
     ]
    }
   ],
   "source": [
    "d = {}\n",
    "print(d)"
   ]
  },
  {
   "cell_type": "code",
   "execution_count": 39,
   "id": "e22700a1-08a8-4c80-8afb-3d62afdc158c",
   "metadata": {},
   "outputs": [
    {
     "name": "stdout",
     "output_type": "stream",
     "text": [
      "{'Name': 'Kevin', 'Age': 34, 'Marks': 89.58}\n",
      "Kevin\n",
      "34\n",
      "89.58\n"
     ]
    }
   ],
   "source": [
    "d = {'Name':'Kevin','Age':34,'Marks':89.58}\n",
    "print(d)\n",
    "print(d['Name'])\n",
    "print(d['Age'])\n",
    "print(d['Marks'])"
   ]
  },
  {
   "cell_type": "code",
   "execution_count": 40,
   "id": "d736c913-666e-487a-8443-44300b8a2d0d",
   "metadata": {},
   "outputs": [
    {
     "name": "stdout",
     "output_type": "stream",
     "text": [
      "dict_keys(['Name', 'Age', 'Marks'])\n",
      "dict_values(['Kevin', 34, 89.58])\n",
      "dict_items([('Name', 'Kevin'), ('Age', 34), ('Marks', 89.58)])\n"
     ]
    }
   ],
   "source": [
    "print(d.keys())\n",
    "print(d.values())\n",
    "print(d.items())"
   ]
  },
  {
   "cell_type": "code",
   "execution_count": null,
   "id": "7b4ae122-f9d5-48c2-81ef-3f176a03ce95",
   "metadata": {},
   "outputs": [],
   "source": []
  }
 ],
 "metadata": {
  "kernelspec": {
   "display_name": "Python 3 (ipykernel)",
   "language": "python",
   "name": "python3"
  },
  "language_info": {
   "codemirror_mode": {
    "name": "ipython",
    "version": 3
   },
   "file_extension": ".py",
   "mimetype": "text/x-python",
   "name": "python",
   "nbconvert_exporter": "python",
   "pygments_lexer": "ipython3",
   "version": "3.12.0"
  }
 },
 "nbformat": 4,
 "nbformat_minor": 5
}
